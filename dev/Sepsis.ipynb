{
 "cells": [
  {
   "cell_type": "markdown",
   "id": "66b005e1",
   "metadata": {
    "id": "66b005e1"
   },
   "source": [
    "# Notebook Overview"
   ]
  },
  {
   "cell_type": "markdown",
   "id": "4ae995ec",
   "metadata": {
    "id": "4ae995ec"
   },
   "source": [
    "In this notebook, we perform an Exploratory Data Analysis on a dataset that classifies patients in the ICU that will develop Sepsis and those that will not develop Sepsis\n"
   ]
  },
  {
   "cell_type": "markdown",
   "id": "8493f21c",
   "metadata": {
    "id": "8493f21c"
   },
   "source": [
    "# Set Up\n",
    "\n",
    "\n",
    "\n",
    "**Installation**\n",
    "\n",
    "Here is the section where we installed all the packages/libraries that will be needed to tackle the challlenge."
   ]
  },
  {
   "cell_type": "code",
   "execution_count": 1,
   "id": "f94ac78a",
   "metadata": {
    "id": "f94ac78a"
   },
   "outputs": [
    {
     "name": "stdout",
     "output_type": "stream",
     "text": [
      "Requirement already satisfied: numpy in /Library/Frameworks/Python.framework/Versions/3.10/lib/python3.10/site-packages (1.25.0)\n",
      "Requirement already satisfied: pandas in /Library/Frameworks/Python.framework/Versions/3.10/lib/python3.10/site-packages (1.5.3)\n",
      "Requirement already satisfied: python-dateutil>=2.8.1 in /Library/Frameworks/Python.framework/Versions/3.10/lib/python3.10/site-packages (from pandas) (2.8.2)\n",
      "Requirement already satisfied: pytz>=2020.1 in /Library/Frameworks/Python.framework/Versions/3.10/lib/python3.10/site-packages (from pandas) (2023.3)\n",
      "Requirement already satisfied: numpy>=1.21.0 in /Library/Frameworks/Python.framework/Versions/3.10/lib/python3.10/site-packages (from pandas) (1.25.0)\n",
      "Requirement already satisfied: six>=1.5 in /Library/Frameworks/Python.framework/Versions/3.10/lib/python3.10/site-packages (from python-dateutil>=2.8.1->pandas) (1.16.0)\n",
      "Requirement already satisfied: patool in /Library/Frameworks/Python.framework/Versions/3.10/lib/python3.10/site-packages (1.12)\n",
      "Requirement already satisfied: forex_python in /Library/Frameworks/Python.framework/Versions/3.10/lib/python3.10/site-packages (1.8)\n",
      "Requirement already satisfied: requests in /Library/Frameworks/Python.framework/Versions/3.10/lib/python3.10/site-packages (from forex_python) (2.31.0)\n",
      "Requirement already satisfied: simplejson in /Library/Frameworks/Python.framework/Versions/3.10/lib/python3.10/site-packages (from forex_python) (3.19.1)\n",
      "Requirement already satisfied: charset-normalizer<4,>=2 in /Library/Frameworks/Python.framework/Versions/3.10/lib/python3.10/site-packages (from requests->forex_python) (3.1.0)\n",
      "Requirement already satisfied: idna<4,>=2.5 in /Library/Frameworks/Python.framework/Versions/3.10/lib/python3.10/site-packages (from requests->forex_python) (3.4)\n",
      "Requirement already satisfied: urllib3<3,>=1.21.1 in /Library/Frameworks/Python.framework/Versions/3.10/lib/python3.10/site-packages (from requests->forex_python) (2.0.2)\n",
      "Requirement already satisfied: certifi>=2017.4.17 in /Library/Frameworks/Python.framework/Versions/3.10/lib/python3.10/site-packages (from requests->forex_python) (2023.5.7)\n",
      "Requirement already satisfied: seaborn in /Library/Frameworks/Python.framework/Versions/3.10/lib/python3.10/site-packages (0.12.2)\n",
      "Requirement already satisfied: numpy!=1.24.0,>=1.17 in /Library/Frameworks/Python.framework/Versions/3.10/lib/python3.10/site-packages (from seaborn) (1.25.0)\n",
      "Requirement already satisfied: pandas>=0.25 in /Library/Frameworks/Python.framework/Versions/3.10/lib/python3.10/site-packages (from seaborn) (1.5.3)\n",
      "Requirement already satisfied: matplotlib!=3.6.1,>=3.1 in /Library/Frameworks/Python.framework/Versions/3.10/lib/python3.10/site-packages (from seaborn) (3.7.1)\n",
      "Requirement already satisfied: contourpy>=1.0.1 in /Library/Frameworks/Python.framework/Versions/3.10/lib/python3.10/site-packages (from matplotlib!=3.6.1,>=3.1->seaborn) (1.0.7)\n",
      "Requirement already satisfied: cycler>=0.10 in /Library/Frameworks/Python.framework/Versions/3.10/lib/python3.10/site-packages (from matplotlib!=3.6.1,>=3.1->seaborn) (0.11.0)\n",
      "Requirement already satisfied: fonttools>=4.22.0 in /Library/Frameworks/Python.framework/Versions/3.10/lib/python3.10/site-packages (from matplotlib!=3.6.1,>=3.1->seaborn) (4.39.4)\n",
      "Requirement already satisfied: kiwisolver>=1.0.1 in /Library/Frameworks/Python.framework/Versions/3.10/lib/python3.10/site-packages (from matplotlib!=3.6.1,>=3.1->seaborn) (1.4.4)\n",
      "Requirement already satisfied: packaging>=20.0 in /Library/Frameworks/Python.framework/Versions/3.10/lib/python3.10/site-packages (from matplotlib!=3.6.1,>=3.1->seaborn) (23.1)\n",
      "Requirement already satisfied: pillow>=6.2.0 in /Library/Frameworks/Python.framework/Versions/3.10/lib/python3.10/site-packages (from matplotlib!=3.6.1,>=3.1->seaborn) (9.5.0)\n",
      "Requirement already satisfied: pyparsing>=2.3.1 in /Library/Frameworks/Python.framework/Versions/3.10/lib/python3.10/site-packages (from matplotlib!=3.6.1,>=3.1->seaborn) (3.0.9)\n",
      "Requirement already satisfied: python-dateutil>=2.7 in /Library/Frameworks/Python.framework/Versions/3.10/lib/python3.10/site-packages (from matplotlib!=3.6.1,>=3.1->seaborn) (2.8.2)\n",
      "Requirement already satisfied: pytz>=2020.1 in /Library/Frameworks/Python.framework/Versions/3.10/lib/python3.10/site-packages (from pandas>=0.25->seaborn) (2023.3)\n",
      "Requirement already satisfied: six>=1.5 in /Library/Frameworks/Python.framework/Versions/3.10/lib/python3.10/site-packages (from python-dateutil>=2.7->matplotlib!=3.6.1,>=3.1->seaborn) (1.16.0)\n",
      "Requirement already satisfied: xgboost in /Library/Frameworks/Python.framework/Versions/3.10/lib/python3.10/site-packages (1.7.6)\n",
      "Requirement already satisfied: numpy in /Library/Frameworks/Python.framework/Versions/3.10/lib/python3.10/site-packages (from xgboost) (1.25.0)\n",
      "Requirement already satisfied: scipy in /Library/Frameworks/Python.framework/Versions/3.10/lib/python3.10/site-packages (from xgboost) (1.10.1)\n",
      "Requirement already satisfied: pandas_profiling in /Library/Frameworks/Python.framework/Versions/3.10/lib/python3.10/site-packages (3.6.6)\n",
      "Requirement already satisfied: ydata-profiling in /Library/Frameworks/Python.framework/Versions/3.10/lib/python3.10/site-packages (from pandas_profiling) (0.0.dev0)\n",
      "Requirement already satisfied: scipy<1.11,>=1.4.1 in /Library/Frameworks/Python.framework/Versions/3.10/lib/python3.10/site-packages (from ydata-profiling->pandas_profiling) (1.10.1)\n",
      "Requirement already satisfied: pandas!=1.4.0,<2,>1.1 in /Library/Frameworks/Python.framework/Versions/3.10/lib/python3.10/site-packages (from ydata-profiling->pandas_profiling) (1.5.3)\n",
      "Requirement already satisfied: matplotlib<4,>=3.2 in /Library/Frameworks/Python.framework/Versions/3.10/lib/python3.10/site-packages (from ydata-profiling->pandas_profiling) (3.7.1)\n",
      "Requirement already satisfied: pydantic<2,>=1.8.1 in /Library/Frameworks/Python.framework/Versions/3.10/lib/python3.10/site-packages (from ydata-profiling->pandas_profiling) (1.10.8)\n",
      "Requirement already satisfied: PyYAML<6.1,>=5.0.0 in /Library/Frameworks/Python.framework/Versions/3.10/lib/python3.10/site-packages (from ydata-profiling->pandas_profiling) (6.0)\n",
      "Requirement already satisfied: jinja2<3.2,>=2.11.1 in /Library/Frameworks/Python.framework/Versions/3.10/lib/python3.10/site-packages (from ydata-profiling->pandas_profiling) (3.1.2)\n",
      "Requirement already satisfied: visions[type_image_path]==0.7.5 in /Library/Frameworks/Python.framework/Versions/3.10/lib/python3.10/site-packages (from ydata-profiling->pandas_profiling) (0.7.5)\n",
      "Collecting numpy<1.24,>=1.16.0 (from ydata-profiling->pandas_profiling)\n",
      "  Using cached numpy-1.23.5-cp310-cp310-macosx_10_9_x86_64.whl (18.1 MB)\n",
      "Requirement already satisfied: htmlmin==0.1.12 in /Library/Frameworks/Python.framework/Versions/3.10/lib/python3.10/site-packages (from ydata-profiling->pandas_profiling) (0.1.12)\n",
      "Requirement already satisfied: phik<0.13,>=0.11.1 in /Library/Frameworks/Python.framework/Versions/3.10/lib/python3.10/site-packages (from ydata-profiling->pandas_profiling) (0.12.3)\n",
      "Requirement already satisfied: requests<3,>=2.24.0 in /Library/Frameworks/Python.framework/Versions/3.10/lib/python3.10/site-packages (from ydata-profiling->pandas_profiling) (2.31.0)\n",
      "Requirement already satisfied: tqdm<5,>=4.48.2 in /Library/Frameworks/Python.framework/Versions/3.10/lib/python3.10/site-packages (from ydata-profiling->pandas_profiling) (4.65.0)\n",
      "Requirement already satisfied: seaborn<0.13,>=0.10.1 in /Library/Frameworks/Python.framework/Versions/3.10/lib/python3.10/site-packages (from ydata-profiling->pandas_profiling) (0.12.2)\n",
      "Requirement already satisfied: multimethod<2,>=1.4 in /Library/Frameworks/Python.framework/Versions/3.10/lib/python3.10/site-packages (from ydata-profiling->pandas_profiling) (1.9.1)\n",
      "Requirement already satisfied: statsmodels<1,>=0.13.2 in /Library/Frameworks/Python.framework/Versions/3.10/lib/python3.10/site-packages (from ydata-profiling->pandas_profiling) (0.14.0)\n",
      "Requirement already satisfied: typeguard<3,>=2.13.2 in /Library/Frameworks/Python.framework/Versions/3.10/lib/python3.10/site-packages (from ydata-profiling->pandas_profiling) (2.13.3)\n",
      "Requirement already satisfied: imagehash==4.3.1 in /Library/Frameworks/Python.framework/Versions/3.10/lib/python3.10/site-packages (from ydata-profiling->pandas_profiling) (4.3.1)\n",
      "Requirement already satisfied: wordcloud>=1.9.1 in /Library/Frameworks/Python.framework/Versions/3.10/lib/python3.10/site-packages (from ydata-profiling->pandas_profiling) (1.9.2)\n",
      "Requirement already satisfied: dacite>=1.8 in /Library/Frameworks/Python.framework/Versions/3.10/lib/python3.10/site-packages (from ydata-profiling->pandas_profiling) (1.8.1)\n",
      "Requirement already satisfied: PyWavelets in /Library/Frameworks/Python.framework/Versions/3.10/lib/python3.10/site-packages (from imagehash==4.3.1->ydata-profiling->pandas_profiling) (1.4.1)\n",
      "Requirement already satisfied: pillow in /Library/Frameworks/Python.framework/Versions/3.10/lib/python3.10/site-packages (from imagehash==4.3.1->ydata-profiling->pandas_profiling) (9.5.0)\n"
     ]
    },
    {
     "name": "stdout",
     "output_type": "stream",
     "text": [
      "Requirement already satisfied: attrs>=19.3.0 in /Library/Frameworks/Python.framework/Versions/3.10/lib/python3.10/site-packages (from visions[type_image_path]==0.7.5->ydata-profiling->pandas_profiling) (23.1.0)\n",
      "Requirement already satisfied: networkx>=2.4 in /Library/Frameworks/Python.framework/Versions/3.10/lib/python3.10/site-packages (from visions[type_image_path]==0.7.5->ydata-profiling->pandas_profiling) (3.1)\n",
      "Requirement already satisfied: tangled-up-in-unicode>=0.0.4 in /Library/Frameworks/Python.framework/Versions/3.10/lib/python3.10/site-packages (from visions[type_image_path]==0.7.5->ydata-profiling->pandas_profiling) (0.2.0)\n",
      "Requirement already satisfied: MarkupSafe>=2.0 in /Library/Frameworks/Python.framework/Versions/3.10/lib/python3.10/site-packages (from jinja2<3.2,>=2.11.1->ydata-profiling->pandas_profiling) (2.1.2)\n",
      "Requirement already satisfied: contourpy>=1.0.1 in /Library/Frameworks/Python.framework/Versions/3.10/lib/python3.10/site-packages (from matplotlib<4,>=3.2->ydata-profiling->pandas_profiling) (1.0.7)\n",
      "Requirement already satisfied: cycler>=0.10 in /Library/Frameworks/Python.framework/Versions/3.10/lib/python3.10/site-packages (from matplotlib<4,>=3.2->ydata-profiling->pandas_profiling) (0.11.0)\n",
      "Requirement already satisfied: fonttools>=4.22.0 in /Library/Frameworks/Python.framework/Versions/3.10/lib/python3.10/site-packages (from matplotlib<4,>=3.2->ydata-profiling->pandas_profiling) (4.39.4)\n",
      "Requirement already satisfied: kiwisolver>=1.0.1 in /Library/Frameworks/Python.framework/Versions/3.10/lib/python3.10/site-packages (from matplotlib<4,>=3.2->ydata-profiling->pandas_profiling) (1.4.4)\n",
      "Requirement already satisfied: packaging>=20.0 in /Library/Frameworks/Python.framework/Versions/3.10/lib/python3.10/site-packages (from matplotlib<4,>=3.2->ydata-profiling->pandas_profiling) (23.1)\n",
      "Requirement already satisfied: pyparsing>=2.3.1 in /Library/Frameworks/Python.framework/Versions/3.10/lib/python3.10/site-packages (from matplotlib<4,>=3.2->ydata-profiling->pandas_profiling) (3.0.9)\n",
      "Requirement already satisfied: python-dateutil>=2.7 in /Library/Frameworks/Python.framework/Versions/3.10/lib/python3.10/site-packages (from matplotlib<4,>=3.2->ydata-profiling->pandas_profiling) (2.8.2)\n",
      "Requirement already satisfied: pytz>=2020.1 in /Library/Frameworks/Python.framework/Versions/3.10/lib/python3.10/site-packages (from pandas!=1.4.0,<2,>1.1->ydata-profiling->pandas_profiling) (2023.3)\n",
      "Requirement already satisfied: joblib>=0.14.1 in /Library/Frameworks/Python.framework/Versions/3.10/lib/python3.10/site-packages (from phik<0.13,>=0.11.1->ydata-profiling->pandas_profiling) (1.2.0)\n",
      "Requirement already satisfied: typing-extensions>=4.2.0 in /Library/Frameworks/Python.framework/Versions/3.10/lib/python3.10/site-packages (from pydantic<2,>=1.8.1->ydata-profiling->pandas_profiling) (4.6.2)\n",
      "Requirement already satisfied: charset-normalizer<4,>=2 in /Library/Frameworks/Python.framework/Versions/3.10/lib/python3.10/site-packages (from requests<3,>=2.24.0->ydata-profiling->pandas_profiling) (3.1.0)\n",
      "Requirement already satisfied: idna<4,>=2.5 in /Library/Frameworks/Python.framework/Versions/3.10/lib/python3.10/site-packages (from requests<3,>=2.24.0->ydata-profiling->pandas_profiling) (3.4)\n",
      "Requirement already satisfied: urllib3<3,>=1.21.1 in /Library/Frameworks/Python.framework/Versions/3.10/lib/python3.10/site-packages (from requests<3,>=2.24.0->ydata-profiling->pandas_profiling) (2.0.2)\n",
      "Requirement already satisfied: certifi>=2017.4.17 in /Library/Frameworks/Python.framework/Versions/3.10/lib/python3.10/site-packages (from requests<3,>=2.24.0->ydata-profiling->pandas_profiling) (2023.5.7)\n",
      "Requirement already satisfied: patsy>=0.5.2 in /Library/Frameworks/Python.framework/Versions/3.10/lib/python3.10/site-packages (from statsmodels<1,>=0.13.2->ydata-profiling->pandas_profiling) (0.5.3)\n",
      "Requirement already satisfied: six in /Library/Frameworks/Python.framework/Versions/3.10/lib/python3.10/site-packages (from patsy>=0.5.2->statsmodels<1,>=0.13.2->ydata-profiling->pandas_profiling) (1.16.0)\n",
      "Installing collected packages: numpy\n",
      "  Attempting uninstall: numpy\n",
      "    Found existing installation: numpy 1.25.0\n",
      "    Uninstalling numpy-1.25.0:\n",
      "      Successfully uninstalled numpy-1.25.0\n",
      "Successfully installed numpy-1.23.5\n",
      "Collecting https://github.com/pandas-profiling/pandas-profiling/archive/master.zip\n",
      "  Using cached https://github.com/pandas-profiling/pandas-profiling/archive/master.zip\n",
      "  Preparing metadata (setup.py) ... \u001b[?25ldone\n",
      "\u001b[?25hRequirement already satisfied: scipy<1.11,>=1.4.1 in /Library/Frameworks/Python.framework/Versions/3.10/lib/python3.10/site-packages (from ydata-profiling==0.0.dev0) (1.10.1)\n",
      "Requirement already satisfied: pandas!=1.4.0,<2.1,>1.1 in /Library/Frameworks/Python.framework/Versions/3.10/lib/python3.10/site-packages (from ydata-profiling==0.0.dev0) (1.5.3)\n",
      "Requirement already satisfied: matplotlib<4,>=3.2 in /Library/Frameworks/Python.framework/Versions/3.10/lib/python3.10/site-packages (from ydata-profiling==0.0.dev0) (3.7.1)\n",
      "Requirement already satisfied: pydantic<2,>=1.8.1 in /Library/Frameworks/Python.framework/Versions/3.10/lib/python3.10/site-packages (from ydata-profiling==0.0.dev0) (1.10.8)\n",
      "Requirement already satisfied: PyYAML<6.1,>=5.0.0 in /Library/Frameworks/Python.framework/Versions/3.10/lib/python3.10/site-packages (from ydata-profiling==0.0.dev0) (6.0)\n",
      "Requirement already satisfied: jinja2<3.2,>=2.11.1 in /Library/Frameworks/Python.framework/Versions/3.10/lib/python3.10/site-packages (from ydata-profiling==0.0.dev0) (3.1.2)\n",
      "Requirement already satisfied: visions[type_image_path]==0.7.5 in /Library/Frameworks/Python.framework/Versions/3.10/lib/python3.10/site-packages (from ydata-profiling==0.0.dev0) (0.7.5)\n",
      "Requirement already satisfied: numpy<1.24,>=1.16.0 in /Library/Frameworks/Python.framework/Versions/3.10/lib/python3.10/site-packages (from ydata-profiling==0.0.dev0) (1.23.5)\n",
      "Requirement already satisfied: htmlmin==0.1.12 in /Library/Frameworks/Python.framework/Versions/3.10/lib/python3.10/site-packages (from ydata-profiling==0.0.dev0) (0.1.12)\n",
      "Requirement already satisfied: phik<0.13,>=0.11.1 in /Library/Frameworks/Python.framework/Versions/3.10/lib/python3.10/site-packages (from ydata-profiling==0.0.dev0) (0.12.3)\n",
      "Requirement already satisfied: requests<3,>=2.24.0 in /Library/Frameworks/Python.framework/Versions/3.10/lib/python3.10/site-packages (from ydata-profiling==0.0.dev0) (2.31.0)\n",
      "Requirement already satisfied: tqdm<5,>=4.48.2 in /Library/Frameworks/Python.framework/Versions/3.10/lib/python3.10/site-packages (from ydata-profiling==0.0.dev0) (4.65.0)\n",
      "Requirement already satisfied: seaborn<0.13,>=0.10.1 in /Library/Frameworks/Python.framework/Versions/3.10/lib/python3.10/site-packages (from ydata-profiling==0.0.dev0) (0.12.2)\n",
      "Requirement already satisfied: multimethod<2,>=1.4 in /Library/Frameworks/Python.framework/Versions/3.10/lib/python3.10/site-packages (from ydata-profiling==0.0.dev0) (1.9.1)\n",
      "Requirement already satisfied: statsmodels<1,>=0.13.2 in /Library/Frameworks/Python.framework/Versions/3.10/lib/python3.10/site-packages (from ydata-profiling==0.0.dev0) (0.14.0)\n",
      "Requirement already satisfied: typeguard<3,>=2.13.2 in /Library/Frameworks/Python.framework/Versions/3.10/lib/python3.10/site-packages (from ydata-profiling==0.0.dev0) (2.13.3)\n",
      "Requirement already satisfied: imagehash==4.3.1 in /Library/Frameworks/Python.framework/Versions/3.10/lib/python3.10/site-packages (from ydata-profiling==0.0.dev0) (4.3.1)\n",
      "Requirement already satisfied: wordcloud>=1.9.1 in /Library/Frameworks/Python.framework/Versions/3.10/lib/python3.10/site-packages (from ydata-profiling==0.0.dev0) (1.9.2)\n",
      "Requirement already satisfied: dacite>=1.8 in /Library/Frameworks/Python.framework/Versions/3.10/lib/python3.10/site-packages (from ydata-profiling==0.0.dev0) (1.8.1)\n",
      "Requirement already satisfied: PyWavelets in /Library/Frameworks/Python.framework/Versions/3.10/lib/python3.10/site-packages (from imagehash==4.3.1->ydata-profiling==0.0.dev0) (1.4.1)\n",
      "Requirement already satisfied: pillow in /Library/Frameworks/Python.framework/Versions/3.10/lib/python3.10/site-packages (from imagehash==4.3.1->ydata-profiling==0.0.dev0) (9.5.0)\n"
     ]
    },
    {
     "name": "stdout",
     "output_type": "stream",
     "text": [
      "Requirement already satisfied: attrs>=19.3.0 in /Library/Frameworks/Python.framework/Versions/3.10/lib/python3.10/site-packages (from visions[type_image_path]==0.7.5->ydata-profiling==0.0.dev0) (23.1.0)\n",
      "Requirement already satisfied: networkx>=2.4 in /Library/Frameworks/Python.framework/Versions/3.10/lib/python3.10/site-packages (from visions[type_image_path]==0.7.5->ydata-profiling==0.0.dev0) (3.1)\n",
      "Requirement already satisfied: tangled-up-in-unicode>=0.0.4 in /Library/Frameworks/Python.framework/Versions/3.10/lib/python3.10/site-packages (from visions[type_image_path]==0.7.5->ydata-profiling==0.0.dev0) (0.2.0)\n",
      "Requirement already satisfied: MarkupSafe>=2.0 in /Library/Frameworks/Python.framework/Versions/3.10/lib/python3.10/site-packages (from jinja2<3.2,>=2.11.1->ydata-profiling==0.0.dev0) (2.1.2)\n",
      "Requirement already satisfied: contourpy>=1.0.1 in /Library/Frameworks/Python.framework/Versions/3.10/lib/python3.10/site-packages (from matplotlib<4,>=3.2->ydata-profiling==0.0.dev0) (1.0.7)\n",
      "Requirement already satisfied: cycler>=0.10 in /Library/Frameworks/Python.framework/Versions/3.10/lib/python3.10/site-packages (from matplotlib<4,>=3.2->ydata-profiling==0.0.dev0) (0.11.0)\n",
      "Requirement already satisfied: fonttools>=4.22.0 in /Library/Frameworks/Python.framework/Versions/3.10/lib/python3.10/site-packages (from matplotlib<4,>=3.2->ydata-profiling==0.0.dev0) (4.39.4)\n",
      "Requirement already satisfied: kiwisolver>=1.0.1 in /Library/Frameworks/Python.framework/Versions/3.10/lib/python3.10/site-packages (from matplotlib<4,>=3.2->ydata-profiling==0.0.dev0) (1.4.4)\n",
      "Requirement already satisfied: packaging>=20.0 in /Library/Frameworks/Python.framework/Versions/3.10/lib/python3.10/site-packages (from matplotlib<4,>=3.2->ydata-profiling==0.0.dev0) (23.1)\n",
      "Requirement already satisfied: pyparsing>=2.3.1 in /Library/Frameworks/Python.framework/Versions/3.10/lib/python3.10/site-packages (from matplotlib<4,>=3.2->ydata-profiling==0.0.dev0) (3.0.9)\n",
      "Requirement already satisfied: python-dateutil>=2.7 in /Library/Frameworks/Python.framework/Versions/3.10/lib/python3.10/site-packages (from matplotlib<4,>=3.2->ydata-profiling==0.0.dev0) (2.8.2)\n",
      "Requirement already satisfied: pytz>=2020.1 in /Library/Frameworks/Python.framework/Versions/3.10/lib/python3.10/site-packages (from pandas!=1.4.0,<2.1,>1.1->ydata-profiling==0.0.dev0) (2023.3)\n",
      "Requirement already satisfied: joblib>=0.14.1 in /Library/Frameworks/Python.framework/Versions/3.10/lib/python3.10/site-packages (from phik<0.13,>=0.11.1->ydata-profiling==0.0.dev0) (1.2.0)\n",
      "Requirement already satisfied: typing-extensions>=4.2.0 in /Library/Frameworks/Python.framework/Versions/3.10/lib/python3.10/site-packages (from pydantic<2,>=1.8.1->ydata-profiling==0.0.dev0) (4.6.2)\n",
      "Requirement already satisfied: charset-normalizer<4,>=2 in /Library/Frameworks/Python.framework/Versions/3.10/lib/python3.10/site-packages (from requests<3,>=2.24.0->ydata-profiling==0.0.dev0) (3.1.0)\n",
      "Requirement already satisfied: idna<4,>=2.5 in /Library/Frameworks/Python.framework/Versions/3.10/lib/python3.10/site-packages (from requests<3,>=2.24.0->ydata-profiling==0.0.dev0) (3.4)\n",
      "Requirement already satisfied: urllib3<3,>=1.21.1 in /Library/Frameworks/Python.framework/Versions/3.10/lib/python3.10/site-packages (from requests<3,>=2.24.0->ydata-profiling==0.0.dev0) (2.0.2)\n",
      "Requirement already satisfied: certifi>=2017.4.17 in /Library/Frameworks/Python.framework/Versions/3.10/lib/python3.10/site-packages (from requests<3,>=2.24.0->ydata-profiling==0.0.dev0) (2023.5.7)\n",
      "Requirement already satisfied: patsy>=0.5.2 in /Library/Frameworks/Python.framework/Versions/3.10/lib/python3.10/site-packages (from statsmodels<1,>=0.13.2->ydata-profiling==0.0.dev0) (0.5.3)\n",
      "Requirement already satisfied: six in /Library/Frameworks/Python.framework/Versions/3.10/lib/python3.10/site-packages (from patsy>=0.5.2->statsmodels<1,>=0.13.2->ydata-profiling==0.0.dev0) (1.16.0)\n",
      "Requirement already satisfied: imbalanced-learn in /Library/Frameworks/Python.framework/Versions/3.10/lib/python3.10/site-packages (0.10.1)\n",
      "Requirement already satisfied: numpy>=1.17.3 in /Library/Frameworks/Python.framework/Versions/3.10/lib/python3.10/site-packages (from imbalanced-learn) (1.23.5)\n",
      "Requirement already satisfied: scipy>=1.3.2 in /Library/Frameworks/Python.framework/Versions/3.10/lib/python3.10/site-packages (from imbalanced-learn) (1.10.1)\n",
      "Requirement already satisfied: scikit-learn>=1.0.2 in /Library/Frameworks/Python.framework/Versions/3.10/lib/python3.10/site-packages (from imbalanced-learn) (1.2.2)\n",
      "Requirement already satisfied: joblib>=1.1.1 in /Library/Frameworks/Python.framework/Versions/3.10/lib/python3.10/site-packages (from imbalanced-learn) (1.2.0)\n",
      "Requirement already satisfied: threadpoolctl>=2.0.0 in /Library/Frameworks/Python.framework/Versions/3.10/lib/python3.10/site-packages (from imbalanced-learn) (3.1.0)\n"
     ]
    }
   ],
   "source": [
    "#Installation of p#ackages\n",
    "!pip install numpy\n",
    "!pip install pandas\n",
    "!pip install patool\n",
    "!pip install forex_python\n",
    "!pip install seaborn\n",
    "!pip install xgboost\n",
    "!pip install pandas_profiling\n",
    "!pip install https://github.com/pandas-profiling/pandas-profiling/archive/master.zip \n",
    "!pip install -U imbalanced-learn"
   ]
  },
  {
   "cell_type": "markdown",
   "id": "2aa3fc09",
   "metadata": {
    "id": "2aa3fc09"
   },
   "source": [
    "# Importation\n",
    "Here is the section to import all the packages/libraries that will be used through this notebook."
   ]
  },
  {
   "cell_type": "code",
   "execution_count": 2,
   "id": "d4df0eae",
   "metadata": {
    "id": "d4df0eae"
   },
   "outputs": [],
   "source": [
    "# Data handling\n",
    "import pandas as pd\n",
    "import numpy as np\n",
    "import threadpoolctl\n",
    "\n",
    "# Vizualisation (Matplotlib, Plotly, Seaborn, etc. )\n",
    "import seaborn as sns\n",
    "import seaborn as sn\n",
    "import matplotlib.pyplot as plt\n",
    "\n",
    "# EDA (pandas-profiling, etc. )\n",
    "\n",
    "# Statistics\n",
    "from scipy import stats\n",
    "from scipy.stats import shapiro, trim_mean, mstats, mode, ttest_ind\n",
    "\n",
    "# Feature Processing (Scikit-learn processing, etc. )\n",
    "from sklearn.model_selection import train_test_split\n",
    "from sklearn.preprocessing import LabelEncoder, OneHotEncoder\n",
    "from sklearn.compose import make_column_transformer\n",
    "from sklearn.preprocessing import StandardScaler\n",
    "from collections import Counter\n",
    "\n",
    "# Balance data\n",
    "from imblearn import under_sampling, over_sampling\n",
    "from imblearn.over_sampling import SMOTE, RandomOverSampler\n",
    "from imblearn.under_sampling import RandomUnderSampler\n",
    "\n",
    "# Machine Learning (Scikit-learn Estimators, Catboost, LightGBM, etc. )\n",
    "from sklearn.linear_model import LogisticRegression\n",
    "from sklearn.metrics import confusion_matrix, ConfusionMatrixDisplay\n",
    "from imblearn.over_sampling import RandomOverSampler\n",
    "from sklearn.metrics import accuracy_score, precision_score, recall_score, f1_score, fbeta_score, roc_auc_score, classification_report\n",
    "from sklearn.ensemble import RandomForestClassifier\n",
    "from sklearn.ensemble import GradientBoostingClassifier\n",
    "from xgboost import XGBClassifier, plot_importance\n",
    "from sklearn.metrics import roc_curve\n",
    "from sklearn.neighbors import KNeighborsClassifier\n",
    "from sklearn.svm import SVC\n",
    "from sklearn.tree import DecisionTreeClassifier\n",
    "from sklearn.cluster import KMeans\n",
    "\n",
    "# Hyperparameters Fine-tuning (Scikit-learn hp search, cross-validation, etc. )\n",
    "from sklearn.pipeline import Pipeline\n",
    "from sklearn.model_selection import GridSearchCV\n",
    "\n",
    "# Evaluations\n",
    "from sklearn.metrics import confusion_matrix, accuracy_score, classification_report, roc_auc_score, RocCurveDisplay, roc_curve, auc\n",
    "from sklearn.model_selection import StratifiedKFold, RandomizedSearchCV, cross_val_score\n",
    "from statistics import stdev\n",
    "from sklearn.model_selection import KFold\n",
    "\n",
    "# Other packages\n",
    "import os, pickle\n",
    "\n",
    "import warnings\n",
    "warnings.filterwarnings(\"ignore\")"
   ]
  },
  {
   "cell_type": "markdown",
   "id": "c013fad7",
   "metadata": {
    "id": "c013fad7"
   },
   "source": [
    "# Data Loading\n",
    "Here is the section to load the datasets (train, eval, test) and the additional files"
   ]
  },
  {
   "cell_type": "code",
   "execution_count": 3,
   "id": "285a16d8",
   "metadata": {
    "id": "285a16d8"
   },
   "outputs": [],
   "source": [
    "url = 'https://raw.githubusercontent.com/AlbieCofie/ML_API_Using_FastAPI/main/files/Patients_Files_Train.csv'\n",
    "train_df = pd.read_csv(url)\n",
    "\n",
    "url2 = 'https://raw.githubusercontent.com/AlbieCofie/ML_API_Using_FastAPI/main/files/Patients_Files_Test.csv'\n",
    "test_df = pd.read_csv(url2)"
   ]
  },
  {
   "cell_type": "markdown",
   "id": "09d5be18",
   "metadata": {
    "id": "09d5be18"
   },
   "source": [
    "## Dataset overview\n",
    "\n",
    "Have a look at the loaded datsets using the following methods: `.head(), .info()`"
   ]
  },
  {
   "cell_type": "code",
   "execution_count": 4,
   "id": "55d45196",
   "metadata": {
    "colab": {
     "base_uri": "https://localhost:8080/"
    },
    "id": "55d45196",
    "outputId": "59525d01-d491-4937-f42e-39e8dc85490c"
   },
   "outputs": [
    {
     "data": {
      "text/plain": [
       "(599, 11)"
      ]
     },
     "execution_count": 4,
     "metadata": {},
     "output_type": "execute_result"
    }
   ],
   "source": [
    "# A quick look at the shape of our dataset\n",
    "\n",
    "train_df.shape"
   ]
  },
  {
   "cell_type": "code",
   "execution_count": 5,
   "id": "58a3a49f",
   "metadata": {
    "colab": {
     "base_uri": "https://localhost:8080/",
     "height": 206
    },
    "id": "58a3a49f",
    "outputId": "37a2959a-061e-429d-ecca-3f3d418952d6"
   },
   "outputs": [
    {
     "data": {
      "text/html": [
       "<div>\n",
       "<style scoped>\n",
       "    .dataframe tbody tr th:only-of-type {\n",
       "        vertical-align: middle;\n",
       "    }\n",
       "\n",
       "    .dataframe tbody tr th {\n",
       "        vertical-align: top;\n",
       "    }\n",
       "\n",
       "    .dataframe thead th {\n",
       "        text-align: right;\n",
       "    }\n",
       "</style>\n",
       "<table border=\"1\" class=\"dataframe\">\n",
       "  <thead>\n",
       "    <tr style=\"text-align: right;\">\n",
       "      <th></th>\n",
       "      <th>ID</th>\n",
       "      <th>PRG</th>\n",
       "      <th>PL</th>\n",
       "      <th>PR</th>\n",
       "      <th>SK</th>\n",
       "      <th>TS</th>\n",
       "      <th>M11</th>\n",
       "      <th>BD2</th>\n",
       "      <th>Age</th>\n",
       "      <th>Insurance</th>\n",
       "      <th>Sepssis</th>\n",
       "    </tr>\n",
       "  </thead>\n",
       "  <tbody>\n",
       "    <tr>\n",
       "      <th>0</th>\n",
       "      <td>ICU200010</td>\n",
       "      <td>6</td>\n",
       "      <td>148</td>\n",
       "      <td>72</td>\n",
       "      <td>35</td>\n",
       "      <td>0</td>\n",
       "      <td>33.6</td>\n",
       "      <td>0.627</td>\n",
       "      <td>50</td>\n",
       "      <td>0</td>\n",
       "      <td>Positive</td>\n",
       "    </tr>\n",
       "    <tr>\n",
       "      <th>1</th>\n",
       "      <td>ICU200011</td>\n",
       "      <td>1</td>\n",
       "      <td>85</td>\n",
       "      <td>66</td>\n",
       "      <td>29</td>\n",
       "      <td>0</td>\n",
       "      <td>26.6</td>\n",
       "      <td>0.351</td>\n",
       "      <td>31</td>\n",
       "      <td>0</td>\n",
       "      <td>Negative</td>\n",
       "    </tr>\n",
       "    <tr>\n",
       "      <th>2</th>\n",
       "      <td>ICU200012</td>\n",
       "      <td>8</td>\n",
       "      <td>183</td>\n",
       "      <td>64</td>\n",
       "      <td>0</td>\n",
       "      <td>0</td>\n",
       "      <td>23.3</td>\n",
       "      <td>0.672</td>\n",
       "      <td>32</td>\n",
       "      <td>1</td>\n",
       "      <td>Positive</td>\n",
       "    </tr>\n",
       "    <tr>\n",
       "      <th>3</th>\n",
       "      <td>ICU200013</td>\n",
       "      <td>1</td>\n",
       "      <td>89</td>\n",
       "      <td>66</td>\n",
       "      <td>23</td>\n",
       "      <td>94</td>\n",
       "      <td>28.1</td>\n",
       "      <td>0.167</td>\n",
       "      <td>21</td>\n",
       "      <td>1</td>\n",
       "      <td>Negative</td>\n",
       "    </tr>\n",
       "    <tr>\n",
       "      <th>4</th>\n",
       "      <td>ICU200014</td>\n",
       "      <td>0</td>\n",
       "      <td>137</td>\n",
       "      <td>40</td>\n",
       "      <td>35</td>\n",
       "      <td>168</td>\n",
       "      <td>43.1</td>\n",
       "      <td>2.288</td>\n",
       "      <td>33</td>\n",
       "      <td>1</td>\n",
       "      <td>Positive</td>\n",
       "    </tr>\n",
       "  </tbody>\n",
       "</table>\n",
       "</div>"
      ],
      "text/plain": [
       "          ID  PRG   PL  PR  SK   TS   M11    BD2  Age  Insurance   Sepssis\n",
       "0  ICU200010    6  148  72  35    0  33.6  0.627   50          0  Positive\n",
       "1  ICU200011    1   85  66  29    0  26.6  0.351   31          0  Negative\n",
       "2  ICU200012    8  183  64   0    0  23.3  0.672   32          1  Positive\n",
       "3  ICU200013    1   89  66  23   94  28.1  0.167   21          1  Negative\n",
       "4  ICU200014    0  137  40  35  168  43.1  2.288   33          1  Positive"
      ]
     },
     "execution_count": 5,
     "metadata": {},
     "output_type": "execute_result"
    }
   ],
   "source": [
    "#Looking at the head of our dataset\n",
    "\n",
    "train_df.head()"
   ]
  },
  {
   "cell_type": "code",
   "execution_count": 6,
   "id": "6bb9c095",
   "metadata": {
    "colab": {
     "base_uri": "https://localhost:8080/",
     "height": 206
    },
    "id": "6bb9c095",
    "outputId": "32e76a78-c50b-42f0-abaf-23697cd372a5"
   },
   "outputs": [
    {
     "data": {
      "text/html": [
       "<div>\n",
       "<style scoped>\n",
       "    .dataframe tbody tr th:only-of-type {\n",
       "        vertical-align: middle;\n",
       "    }\n",
       "\n",
       "    .dataframe tbody tr th {\n",
       "        vertical-align: top;\n",
       "    }\n",
       "\n",
       "    .dataframe thead th {\n",
       "        text-align: right;\n",
       "    }\n",
       "</style>\n",
       "<table border=\"1\" class=\"dataframe\">\n",
       "  <thead>\n",
       "    <tr style=\"text-align: right;\">\n",
       "      <th></th>\n",
       "      <th>ID</th>\n",
       "      <th>PRG</th>\n",
       "      <th>PL</th>\n",
       "      <th>PR</th>\n",
       "      <th>SK</th>\n",
       "      <th>TS</th>\n",
       "      <th>M11</th>\n",
       "      <th>BD2</th>\n",
       "      <th>Age</th>\n",
       "      <th>Insurance</th>\n",
       "      <th>Sepssis</th>\n",
       "    </tr>\n",
       "  </thead>\n",
       "  <tbody>\n",
       "    <tr>\n",
       "      <th>594</th>\n",
       "      <td>ICU200604</td>\n",
       "      <td>6</td>\n",
       "      <td>123</td>\n",
       "      <td>72</td>\n",
       "      <td>45</td>\n",
       "      <td>230</td>\n",
       "      <td>33.6</td>\n",
       "      <td>0.733</td>\n",
       "      <td>34</td>\n",
       "      <td>0</td>\n",
       "      <td>Negative</td>\n",
       "    </tr>\n",
       "    <tr>\n",
       "      <th>595</th>\n",
       "      <td>ICU200605</td>\n",
       "      <td>0</td>\n",
       "      <td>188</td>\n",
       "      <td>82</td>\n",
       "      <td>14</td>\n",
       "      <td>185</td>\n",
       "      <td>32.0</td>\n",
       "      <td>0.682</td>\n",
       "      <td>22</td>\n",
       "      <td>1</td>\n",
       "      <td>Positive</td>\n",
       "    </tr>\n",
       "    <tr>\n",
       "      <th>596</th>\n",
       "      <td>ICU200606</td>\n",
       "      <td>0</td>\n",
       "      <td>67</td>\n",
       "      <td>76</td>\n",
       "      <td>0</td>\n",
       "      <td>0</td>\n",
       "      <td>45.3</td>\n",
       "      <td>0.194</td>\n",
       "      <td>46</td>\n",
       "      <td>1</td>\n",
       "      <td>Negative</td>\n",
       "    </tr>\n",
       "    <tr>\n",
       "      <th>597</th>\n",
       "      <td>ICU200607</td>\n",
       "      <td>1</td>\n",
       "      <td>89</td>\n",
       "      <td>24</td>\n",
       "      <td>19</td>\n",
       "      <td>25</td>\n",
       "      <td>27.8</td>\n",
       "      <td>0.559</td>\n",
       "      <td>21</td>\n",
       "      <td>0</td>\n",
       "      <td>Negative</td>\n",
       "    </tr>\n",
       "    <tr>\n",
       "      <th>598</th>\n",
       "      <td>ICU200608</td>\n",
       "      <td>1</td>\n",
       "      <td>173</td>\n",
       "      <td>74</td>\n",
       "      <td>0</td>\n",
       "      <td>0</td>\n",
       "      <td>36.8</td>\n",
       "      <td>0.088</td>\n",
       "      <td>38</td>\n",
       "      <td>1</td>\n",
       "      <td>Positive</td>\n",
       "    </tr>\n",
       "  </tbody>\n",
       "</table>\n",
       "</div>"
      ],
      "text/plain": [
       "            ID  PRG   PL  PR  SK   TS   M11    BD2  Age  Insurance   Sepssis\n",
       "594  ICU200604    6  123  72  45  230  33.6  0.733   34          0  Negative\n",
       "595  ICU200605    0  188  82  14  185  32.0  0.682   22          1  Positive\n",
       "596  ICU200606    0   67  76   0    0  45.3  0.194   46          1  Negative\n",
       "597  ICU200607    1   89  24  19   25  27.8  0.559   21          0  Negative\n",
       "598  ICU200608    1  173  74   0    0  36.8  0.088   38          1  Positive"
      ]
     },
     "execution_count": 6,
     "metadata": {},
     "output_type": "execute_result"
    }
   ],
   "source": [
    "#Taking a look at the tail\n",
    "train_df.tail()"
   ]
  },
  {
   "cell_type": "markdown",
   "id": "f4c73528",
   "metadata": {
    "id": "f4c73528"
   },
   "source": [
    "##### Description of Columns "
   ]
  },
  {
   "cell_type": "markdown",
   "id": "17d9ebf3",
   "metadata": {
    "id": "17d9ebf3"
   },
   "source": [
    "ID\t-\tUnique number to represent patient ID\n",
    "\n",
    "PRG - \tPlasma glucose\n",
    "\n",
    "PL\t-\tBlood Work Result-1 (mu U/ml)\n",
    "\n",
    "PR\t-\tBlood Pressure (mm Hg) \n",
    "\n",
    "SK\t-\tBlood Work Result-2 (mm)\n",
    "\n",
    "TS\t-   Blood Work Result-3 (mu U/ml)\n",
    "\n",
    "M11\t-\tBody mass index (weight in kg/(height in m)^2\n",
    "\n",
    "BD2\t-\tBlood Work Result-4 (mu U/ml)\n",
    "\n",
    "Age\t-\tpatients age (years)\n",
    "\n",
    "Insurance\t- If a patient holds a valid insurance card\n",
    "\n",
    "Sepssis\tTarget\tPositive: if a patient in ICU will develop a sepsis , and Negative: otherwise"
   ]
  },
  {
   "cell_type": "code",
   "execution_count": 7,
   "id": "39254798",
   "metadata": {
    "colab": {
     "base_uri": "https://localhost:8080/"
    },
    "id": "39254798",
    "outputId": "22115b91-9fb0-4ef6-cd95-5d19be4c8610",
    "scrolled": true
   },
   "outputs": [
    {
     "name": "stdout",
     "output_type": "stream",
     "text": [
      "<class 'pandas.core.frame.DataFrame'>\n",
      "RangeIndex: 599 entries, 0 to 598\n",
      "Data columns (total 11 columns):\n",
      " #   Column     Non-Null Count  Dtype  \n",
      "---  ------     --------------  -----  \n",
      " 0   ID         599 non-null    object \n",
      " 1   PRG        599 non-null    int64  \n",
      " 2   PL         599 non-null    int64  \n",
      " 3   PR         599 non-null    int64  \n",
      " 4   SK         599 non-null    int64  \n",
      " 5   TS         599 non-null    int64  \n",
      " 6   M11        599 non-null    float64\n",
      " 7   BD2        599 non-null    float64\n",
      " 8   Age        599 non-null    int64  \n",
      " 9   Insurance  599 non-null    int64  \n",
      " 10  Sepssis    599 non-null    object \n",
      "dtypes: float64(2), int64(7), object(2)\n",
      "memory usage: 51.6+ KB\n"
     ]
    }
   ],
   "source": [
    "#Look at the columns in the dataset and their data types\n",
    "\n",
    "train_df.info()"
   ]
  },
  {
   "cell_type": "code",
   "execution_count": 8,
   "id": "05cb4495",
   "metadata": {
    "colab": {
     "base_uri": "https://localhost:8080/",
     "height": 300
    },
    "id": "05cb4495",
    "outputId": "eb9dc696-28d8-4341-9fd3-8af19826efb1"
   },
   "outputs": [
    {
     "data": {
      "text/html": [
       "<div>\n",
       "<style scoped>\n",
       "    .dataframe tbody tr th:only-of-type {\n",
       "        vertical-align: middle;\n",
       "    }\n",
       "\n",
       "    .dataframe tbody tr th {\n",
       "        vertical-align: top;\n",
       "    }\n",
       "\n",
       "    .dataframe thead th {\n",
       "        text-align: right;\n",
       "    }\n",
       "</style>\n",
       "<table border=\"1\" class=\"dataframe\">\n",
       "  <thead>\n",
       "    <tr style=\"text-align: right;\">\n",
       "      <th></th>\n",
       "      <th>PRG</th>\n",
       "      <th>PL</th>\n",
       "      <th>PR</th>\n",
       "      <th>SK</th>\n",
       "      <th>TS</th>\n",
       "      <th>M11</th>\n",
       "      <th>BD2</th>\n",
       "      <th>Age</th>\n",
       "      <th>Insurance</th>\n",
       "    </tr>\n",
       "  </thead>\n",
       "  <tbody>\n",
       "    <tr>\n",
       "      <th>count</th>\n",
       "      <td>599.000000</td>\n",
       "      <td>599.000000</td>\n",
       "      <td>599.000000</td>\n",
       "      <td>599.000000</td>\n",
       "      <td>599.000000</td>\n",
       "      <td>599.000000</td>\n",
       "      <td>599.000000</td>\n",
       "      <td>599.000000</td>\n",
       "      <td>599.000000</td>\n",
       "    </tr>\n",
       "    <tr>\n",
       "      <th>mean</th>\n",
       "      <td>3.824708</td>\n",
       "      <td>120.153589</td>\n",
       "      <td>68.732888</td>\n",
       "      <td>20.562604</td>\n",
       "      <td>79.460768</td>\n",
       "      <td>31.920033</td>\n",
       "      <td>0.481187</td>\n",
       "      <td>33.290484</td>\n",
       "      <td>0.686144</td>\n",
       "    </tr>\n",
       "    <tr>\n",
       "      <th>std</th>\n",
       "      <td>3.362839</td>\n",
       "      <td>32.682364</td>\n",
       "      <td>19.335675</td>\n",
       "      <td>16.017622</td>\n",
       "      <td>116.576176</td>\n",
       "      <td>8.008227</td>\n",
       "      <td>0.337552</td>\n",
       "      <td>11.828446</td>\n",
       "      <td>0.464447</td>\n",
       "    </tr>\n",
       "    <tr>\n",
       "      <th>min</th>\n",
       "      <td>0.000000</td>\n",
       "      <td>0.000000</td>\n",
       "      <td>0.000000</td>\n",
       "      <td>0.000000</td>\n",
       "      <td>0.000000</td>\n",
       "      <td>0.000000</td>\n",
       "      <td>0.078000</td>\n",
       "      <td>21.000000</td>\n",
       "      <td>0.000000</td>\n",
       "    </tr>\n",
       "    <tr>\n",
       "      <th>25%</th>\n",
       "      <td>1.000000</td>\n",
       "      <td>99.000000</td>\n",
       "      <td>64.000000</td>\n",
       "      <td>0.000000</td>\n",
       "      <td>0.000000</td>\n",
       "      <td>27.100000</td>\n",
       "      <td>0.248000</td>\n",
       "      <td>24.000000</td>\n",
       "      <td>0.000000</td>\n",
       "    </tr>\n",
       "    <tr>\n",
       "      <th>50%</th>\n",
       "      <td>3.000000</td>\n",
       "      <td>116.000000</td>\n",
       "      <td>70.000000</td>\n",
       "      <td>23.000000</td>\n",
       "      <td>36.000000</td>\n",
       "      <td>32.000000</td>\n",
       "      <td>0.383000</td>\n",
       "      <td>29.000000</td>\n",
       "      <td>1.000000</td>\n",
       "    </tr>\n",
       "    <tr>\n",
       "      <th>75%</th>\n",
       "      <td>6.000000</td>\n",
       "      <td>140.000000</td>\n",
       "      <td>80.000000</td>\n",
       "      <td>32.000000</td>\n",
       "      <td>123.500000</td>\n",
       "      <td>36.550000</td>\n",
       "      <td>0.647000</td>\n",
       "      <td>40.000000</td>\n",
       "      <td>1.000000</td>\n",
       "    </tr>\n",
       "    <tr>\n",
       "      <th>max</th>\n",
       "      <td>17.000000</td>\n",
       "      <td>198.000000</td>\n",
       "      <td>122.000000</td>\n",
       "      <td>99.000000</td>\n",
       "      <td>846.000000</td>\n",
       "      <td>67.100000</td>\n",
       "      <td>2.420000</td>\n",
       "      <td>81.000000</td>\n",
       "      <td>1.000000</td>\n",
       "    </tr>\n",
       "  </tbody>\n",
       "</table>\n",
       "</div>"
      ],
      "text/plain": [
       "              PRG          PL          PR          SK          TS         M11  \\\n",
       "count  599.000000  599.000000  599.000000  599.000000  599.000000  599.000000   \n",
       "mean     3.824708  120.153589   68.732888   20.562604   79.460768   31.920033   \n",
       "std      3.362839   32.682364   19.335675   16.017622  116.576176    8.008227   \n",
       "min      0.000000    0.000000    0.000000    0.000000    0.000000    0.000000   \n",
       "25%      1.000000   99.000000   64.000000    0.000000    0.000000   27.100000   \n",
       "50%      3.000000  116.000000   70.000000   23.000000   36.000000   32.000000   \n",
       "75%      6.000000  140.000000   80.000000   32.000000  123.500000   36.550000   \n",
       "max     17.000000  198.000000  122.000000   99.000000  846.000000   67.100000   \n",
       "\n",
       "              BD2         Age   Insurance  \n",
       "count  599.000000  599.000000  599.000000  \n",
       "mean     0.481187   33.290484    0.686144  \n",
       "std      0.337552   11.828446    0.464447  \n",
       "min      0.078000   21.000000    0.000000  \n",
       "25%      0.248000   24.000000    0.000000  \n",
       "50%      0.383000   29.000000    1.000000  \n",
       "75%      0.647000   40.000000    1.000000  \n",
       "max      2.420000   81.000000    1.000000  "
      ]
     },
     "execution_count": 8,
     "metadata": {},
     "output_type": "execute_result"
    }
   ],
   "source": [
    "#Get more details about the features of our data\n",
    "train_df.describe()"
   ]
  },
  {
   "cell_type": "code",
   "execution_count": 9,
   "id": "7381804b",
   "metadata": {
    "colab": {
     "base_uri": "https://localhost:8080/"
    },
    "id": "7381804b",
    "outputId": "3f5774a7-ac2f-4c66-a296-d5511577813b"
   },
   "outputs": [
    {
     "data": {
      "text/plain": [
       "ID           0\n",
       "PRG          0\n",
       "PL           0\n",
       "PR           0\n",
       "SK           0\n",
       "TS           0\n",
       "M11          0\n",
       "BD2          0\n",
       "Age          0\n",
       "Insurance    0\n",
       "Sepssis      0\n",
       "dtype: int64"
      ]
     },
     "execution_count": 9,
     "metadata": {},
     "output_type": "execute_result"
    }
   ],
   "source": [
    "#Check for missing values\n",
    "train_df.isna().sum()\n",
    "\n"
   ]
  },
  {
   "cell_type": "code",
   "execution_count": 10,
   "id": "7e6b0845",
   "metadata": {
    "colab": {
     "base_uri": "https://localhost:8080/",
     "height": 447
    },
    "id": "7e6b0845",
    "outputId": "7c2190ae-4f74-4098-923e-275fa8424b22"
   },
   "outputs": [
    {
     "data": {
      "text/plain": [
       "<AxesSubplot:>"
      ]
     },
     "execution_count": 10,
     "metadata": {},
     "output_type": "execute_result"
    },
    {
     "data": {
      "image/png": "[encoded data removed]",
      "text/plain": [
       "<Figure size 432x288 with 1 Axes>"
      ]
     },
     "metadata": {
      "needs_background": "light"
     },
     "output_type": "display_data"
    }
   ],
   "source": [
    "#Check for outliers\n",
    "train_df.boxplot()"
   ]
  },
  {
   "cell_type": "markdown",
   "id": "5b554c42",
   "metadata": {
    "id": "5b554c42"
   },
   "source": [
    "## Issues With the Data"
   ]
  },
  {
   "cell_type": "markdown",
   "id": "817b6fe9",
   "metadata": {
    "id": "817b6fe9"
   },
   "source": [
    "Too many zeros in each column\n",
    "\n",
    "The column names are not very descriptive.\n",
    "\n",
    "The target variable 'Sepssis' may have imbalanced classes.\n",
    "\n",
    "There are many outliers in some of the numerical columns.\n",
    "\n",
    "There could be correlations between some of the predictor variables, leading to multicollinearity."
   ]
  },
  {
   "cell_type": "markdown",
   "id": "de38e7f0",
   "metadata": {
    "id": "de38e7f0"
   },
   "source": [
    "## How I Intend to Solve Them"
   ]
  },
  {
   "cell_type": "markdown",
   "id": "13472da9",
   "metadata": {
    "id": "13472da9"
   },
   "source": [
    "Replace zeros in each column with the median value\n",
    "\n",
    "Rename the column names to be more descriptive and easier to understand.\n",
    "\n",
    "Handle the imbalanced classes in the target variable using techniques such as undersampling or oversampling.\n",
    "\n",
    "Use visualization techniques such as box plots and scatter plots to identify outliers and then remove them.\n",
    "\n",
    "Use correlation analysis to identify highly correlated variables and consider dropping or transforming them."
   ]
  },
  {
   "cell_type": "markdown",
   "id": "74b6db03",
   "metadata": {
    "id": "74b6db03"
   },
   "source": [
    "## Hypothesis"
   ]
  },
  {
   "cell_type": "markdown",
   "id": "c85d6624",
   "metadata": {
    "id": "c85d6624"
   },
   "source": [
    "***Null Hypothesis:*** Age does not determine whether a patient will develop Sepsis.\n",
    "\n",
    "***Alternate Hypothesis:*** Age determines whether a pateint will develop Sepsis."
   ]
  },
  {
   "cell_type": "markdown",
   "id": "a7c11a7e",
   "metadata": {
    "id": "a7c11a7e"
   },
   "source": [
    "##  Questions"
   ]
  },
  {
   "cell_type": "markdown",
   "id": "fa52b8da",
   "metadata": {
    "id": "fa52b8da"
   },
   "source": [
    "1. Is the train dataset complete?\n",
    "2. What are the ages of the youngest and oldest patients?\n",
    "3. What are the youngest and oldest patients with Sepssis?\n",
    "4. What is the average age ?\n",
    "5. What is the ratio of patients who are positive for sepssis to the negative patients ?\n",
    "6. What is the highest and lowest BMI?\n",
    "7. What is the average BMI ?\n",
    "8. Is there a corelation between the Sepssis status and the other attributes? "
   ]
  },
  {
   "cell_type": "markdown",
   "id": "7ffb60d8",
   "metadata": {
    "id": "7ffb60d8"
   },
   "source": [
    "## Data Cleaning "
   ]
  },
  {
   "cell_type": "code",
   "execution_count": 11,
   "id": "2d12e337",
   "metadata": {
    "id": "2d12e337"
   },
   "outputs": [],
   "source": [
    "# First Rename the columns\n",
    "train_df = train_df.rename(columns={\n",
    "    \"PRG\": \"Plasma_glucose\",\n",
    "    \"PL\": \"Blood_Work_R1\",\n",
    "    \"PR\": \"Blood_Pressure\",\n",
    "    \"SK\": \"Blood_Work_R2\",\n",
    "    \"TS\": \"Blood_Work_R3\",\n",
    "    \"M11\": \"BMI\",\n",
    "    \"BD2\": \"Blood_Work_R4\",\n",
    "    \"Age\": \"Patient_age\",\n",
    "    \"Sepssis\": \"Target\"\n",
    "})"
   ]
  },
  {
   "cell_type": "code",
   "execution_count": 12,
   "id": "7eaee2a4",
   "metadata": {
    "id": "7eaee2a4"
   },
   "outputs": [],
   "source": [
    "numerical_features = ['Plasma_glucose', 'Blood_Work_R1', 'Blood_Pressure', 'Blood_Work_R2', 'Blood_Work_R3', 'BMI', 'Blood_Work_R4', 'Patient_age']"
   ]
  },
  {
   "cell_type": "markdown",
   "id": "4c0f085d",
   "metadata": {
    "id": "4c0f085d"
   },
   "source": [
    "##### Removing the rows where BMI is 0 "
   ]
  },
  {
   "cell_type": "code",
   "execution_count": 13,
   "id": "bfbf6d6b",
   "metadata": {
    "colab": {
     "base_uri": "https://localhost:8080/",
     "height": 488
    },
    "id": "bfbf6d6b",
    "outputId": "276c6fef-ab68-40a1-b812-3d96d84aa795"
   },
   "outputs": [
    {
     "data": {
      "text/html": [
       "<div>\n",
       "<style scoped>\n",
       "    .dataframe tbody tr th:only-of-type {\n",
       "        vertical-align: middle;\n",
       "    }\n",
       "\n",
       "    .dataframe tbody tr th {\n",
       "        vertical-align: top;\n",
       "    }\n",
       "\n",
       "    .dataframe thead th {\n",
       "        text-align: right;\n",
       "    }\n",
       "</style>\n",
       "<table border=\"1\" class=\"dataframe\">\n",
       "  <thead>\n",
       "    <tr style=\"text-align: right;\">\n",
       "      <th></th>\n",
       "      <th>ID</th>\n",
       "      <th>Plasma_glucose</th>\n",
       "      <th>Blood_Work_R1</th>\n",
       "      <th>Blood_Pressure</th>\n",
       "      <th>Blood_Work_R2</th>\n",
       "      <th>Blood_Work_R3</th>\n",
       "      <th>BMI</th>\n",
       "      <th>Blood_Work_R4</th>\n",
       "      <th>Patient_age</th>\n",
       "      <th>Insurance</th>\n",
       "      <th>Target</th>\n",
       "    </tr>\n",
       "  </thead>\n",
       "  <tbody>\n",
       "    <tr>\n",
       "      <th>0</th>\n",
       "      <td>ICU200010</td>\n",
       "      <td>6</td>\n",
       "      <td>148</td>\n",
       "      <td>72</td>\n",
       "      <td>35</td>\n",
       "      <td>0</td>\n",
       "      <td>33.6</td>\n",
       "      <td>0.627</td>\n",
       "      <td>50</td>\n",
       "      <td>0</td>\n",
       "      <td>Positive</td>\n",
       "    </tr>\n",
       "    <tr>\n",
       "      <th>1</th>\n",
       "      <td>ICU200011</td>\n",
       "      <td>1</td>\n",
       "      <td>85</td>\n",
       "      <td>66</td>\n",
       "      <td>29</td>\n",
       "      <td>0</td>\n",
       "      <td>26.6</td>\n",
       "      <td>0.351</td>\n",
       "      <td>31</td>\n",
       "      <td>0</td>\n",
       "      <td>Negative</td>\n",
       "    </tr>\n",
       "    <tr>\n",
       "      <th>2</th>\n",
       "      <td>ICU200012</td>\n",
       "      <td>8</td>\n",
       "      <td>183</td>\n",
       "      <td>64</td>\n",
       "      <td>0</td>\n",
       "      <td>0</td>\n",
       "      <td>23.3</td>\n",
       "      <td>0.672</td>\n",
       "      <td>32</td>\n",
       "      <td>1</td>\n",
       "      <td>Positive</td>\n",
       "    </tr>\n",
       "    <tr>\n",
       "      <th>3</th>\n",
       "      <td>ICU200013</td>\n",
       "      <td>1</td>\n",
       "      <td>89</td>\n",
       "      <td>66</td>\n",
       "      <td>23</td>\n",
       "      <td>94</td>\n",
       "      <td>28.1</td>\n",
       "      <td>0.167</td>\n",
       "      <td>21</td>\n",
       "      <td>1</td>\n",
       "      <td>Negative</td>\n",
       "    </tr>\n",
       "    <tr>\n",
       "      <th>4</th>\n",
       "      <td>ICU200014</td>\n",
       "      <td>0</td>\n",
       "      <td>137</td>\n",
       "      <td>40</td>\n",
       "      <td>35</td>\n",
       "      <td>168</td>\n",
       "      <td>43.1</td>\n",
       "      <td>2.288</td>\n",
       "      <td>33</td>\n",
       "      <td>1</td>\n",
       "      <td>Positive</td>\n",
       "    </tr>\n",
       "    <tr>\n",
       "      <th>...</th>\n",
       "      <td>...</td>\n",
       "      <td>...</td>\n",
       "      <td>...</td>\n",
       "      <td>...</td>\n",
       "      <td>...</td>\n",
       "      <td>...</td>\n",
       "      <td>...</td>\n",
       "      <td>...</td>\n",
       "      <td>...</td>\n",
       "      <td>...</td>\n",
       "      <td>...</td>\n",
       "    </tr>\n",
       "    <tr>\n",
       "      <th>594</th>\n",
       "      <td>ICU200604</td>\n",
       "      <td>6</td>\n",
       "      <td>123</td>\n",
       "      <td>72</td>\n",
       "      <td>45</td>\n",
       "      <td>230</td>\n",
       "      <td>33.6</td>\n",
       "      <td>0.733</td>\n",
       "      <td>34</td>\n",
       "      <td>0</td>\n",
       "      <td>Negative</td>\n",
       "    </tr>\n",
       "    <tr>\n",
       "      <th>595</th>\n",
       "      <td>ICU200605</td>\n",
       "      <td>0</td>\n",
       "      <td>188</td>\n",
       "      <td>82</td>\n",
       "      <td>14</td>\n",
       "      <td>185</td>\n",
       "      <td>32.0</td>\n",
       "      <td>0.682</td>\n",
       "      <td>22</td>\n",
       "      <td>1</td>\n",
       "      <td>Positive</td>\n",
       "    </tr>\n",
       "    <tr>\n",
       "      <th>596</th>\n",
       "      <td>ICU200606</td>\n",
       "      <td>0</td>\n",
       "      <td>67</td>\n",
       "      <td>76</td>\n",
       "      <td>0</td>\n",
       "      <td>0</td>\n",
       "      <td>45.3</td>\n",
       "      <td>0.194</td>\n",
       "      <td>46</td>\n",
       "      <td>1</td>\n",
       "      <td>Negative</td>\n",
       "    </tr>\n",
       "    <tr>\n",
       "      <th>597</th>\n",
       "      <td>ICU200607</td>\n",
       "      <td>1</td>\n",
       "      <td>89</td>\n",
       "      <td>24</td>\n",
       "      <td>19</td>\n",
       "      <td>25</td>\n",
       "      <td>27.8</td>\n",
       "      <td>0.559</td>\n",
       "      <td>21</td>\n",
       "      <td>0</td>\n",
       "      <td>Negative</td>\n",
       "    </tr>\n",
       "    <tr>\n",
       "      <th>598</th>\n",
       "      <td>ICU200608</td>\n",
       "      <td>1</td>\n",
       "      <td>173</td>\n",
       "      <td>74</td>\n",
       "      <td>0</td>\n",
       "      <td>0</td>\n",
       "      <td>36.8</td>\n",
       "      <td>0.088</td>\n",
       "      <td>38</td>\n",
       "      <td>1</td>\n",
       "      <td>Positive</td>\n",
       "    </tr>\n",
       "  </tbody>\n",
       "</table>\n",
       "<p>599 rows × 11 columns</p>\n",
       "</div>"
      ],
      "text/plain": [
       "            ID  Plasma_glucose  Blood_Work_R1  Blood_Pressure  Blood_Work_R2  \\\n",
       "0    ICU200010               6            148              72             35   \n",
       "1    ICU200011               1             85              66             29   \n",
       "2    ICU200012               8            183              64              0   \n",
       "3    ICU200013               1             89              66             23   \n",
       "4    ICU200014               0            137              40             35   \n",
       "..         ...             ...            ...             ...            ...   \n",
       "594  ICU200604               6            123              72             45   \n",
       "595  ICU200605               0            188              82             14   \n",
       "596  ICU200606               0             67              76              0   \n",
       "597  ICU200607               1             89              24             19   \n",
       "598  ICU200608               1            173              74              0   \n",
       "\n",
       "     Blood_Work_R3   BMI  Blood_Work_R4  Patient_age  Insurance    Target  \n",
       "0                0  33.6          0.627           50          0  Positive  \n",
       "1                0  26.6          0.351           31          0  Negative  \n",
       "2                0  23.3          0.672           32          1  Positive  \n",
       "3               94  28.1          0.167           21          1  Negative  \n",
       "4              168  43.1          2.288           33          1  Positive  \n",
       "..             ...   ...            ...          ...        ...       ...  \n",
       "594            230  33.6          0.733           34          0  Negative  \n",
       "595            185  32.0          0.682           22          1  Positive  \n",
       "596              0  45.3          0.194           46          1  Negative  \n",
       "597             25  27.8          0.559           21          0  Negative  \n",
       "598              0  36.8          0.088           38          1  Positive  \n",
       "\n",
       "[599 rows x 11 columns]"
      ]
     },
     "execution_count": 13,
     "metadata": {},
     "output_type": "execute_result"
    }
   ],
   "source": [
    "# Lets inspect our dataset again\n",
    "train_df"
   ]
  },
  {
   "cell_type": "markdown",
   "id": "69d63752",
   "metadata": {
    "id": "69d63752"
   },
   "source": [
    "A glance at our dataset shows the value 0 in some of the columns. This can not be possible and indicates the presence of wrong vaules in our dataset. Lets first remove 0 BMIs and replace the other 0 values in the columns with the median."
   ]
  },
  {
   "cell_type": "code",
   "execution_count": 14,
   "id": "b18981dd",
   "metadata": {
    "colab": {
     "base_uri": "https://localhost:8080/",
     "height": 396
    },
    "id": "b18981dd",
    "outputId": "a621d668-107f-4eb3-9d3a-dbd433895d53"
   },
   "outputs": [
    {
     "data": {
      "text/html": [
       "<div>\n",
       "<style scoped>\n",
       "    .dataframe tbody tr th:only-of-type {\n",
       "        vertical-align: middle;\n",
       "    }\n",
       "\n",
       "    .dataframe tbody tr th {\n",
       "        vertical-align: top;\n",
       "    }\n",
       "\n",
       "    .dataframe thead th {\n",
       "        text-align: right;\n",
       "    }\n",
       "</style>\n",
       "<table border=\"1\" class=\"dataframe\">\n",
       "  <thead>\n",
       "    <tr style=\"text-align: right;\">\n",
       "      <th></th>\n",
       "      <th>ID</th>\n",
       "      <th>Plasma_glucose</th>\n",
       "      <th>Blood_Work_R1</th>\n",
       "      <th>Blood_Pressure</th>\n",
       "      <th>Blood_Work_R2</th>\n",
       "      <th>Blood_Work_R3</th>\n",
       "      <th>BMI</th>\n",
       "      <th>Blood_Work_R4</th>\n",
       "      <th>Patient_age</th>\n",
       "      <th>Insurance</th>\n",
       "      <th>Target</th>\n",
       "    </tr>\n",
       "  </thead>\n",
       "  <tbody>\n",
       "    <tr>\n",
       "      <th>9</th>\n",
       "      <td>ICU200019</td>\n",
       "      <td>8</td>\n",
       "      <td>125</td>\n",
       "      <td>96</td>\n",
       "      <td>0</td>\n",
       "      <td>0</td>\n",
       "      <td>0.0</td>\n",
       "      <td>0.232</td>\n",
       "      <td>54</td>\n",
       "      <td>1</td>\n",
       "      <td>Positive</td>\n",
       "    </tr>\n",
       "    <tr>\n",
       "      <th>49</th>\n",
       "      <td>ICU200059</td>\n",
       "      <td>7</td>\n",
       "      <td>105</td>\n",
       "      <td>0</td>\n",
       "      <td>0</td>\n",
       "      <td>0</td>\n",
       "      <td>0.0</td>\n",
       "      <td>0.305</td>\n",
       "      <td>24</td>\n",
       "      <td>0</td>\n",
       "      <td>Negative</td>\n",
       "    </tr>\n",
       "    <tr>\n",
       "      <th>60</th>\n",
       "      <td>ICU200070</td>\n",
       "      <td>2</td>\n",
       "      <td>84</td>\n",
       "      <td>0</td>\n",
       "      <td>0</td>\n",
       "      <td>0</td>\n",
       "      <td>0.0</td>\n",
       "      <td>0.304</td>\n",
       "      <td>21</td>\n",
       "      <td>0</td>\n",
       "      <td>Negative</td>\n",
       "    </tr>\n",
       "    <tr>\n",
       "      <th>81</th>\n",
       "      <td>ICU200091</td>\n",
       "      <td>2</td>\n",
       "      <td>74</td>\n",
       "      <td>0</td>\n",
       "      <td>0</td>\n",
       "      <td>0</td>\n",
       "      <td>0.0</td>\n",
       "      <td>0.102</td>\n",
       "      <td>22</td>\n",
       "      <td>1</td>\n",
       "      <td>Negative</td>\n",
       "    </tr>\n",
       "    <tr>\n",
       "      <th>145</th>\n",
       "      <td>ICU200155</td>\n",
       "      <td>0</td>\n",
       "      <td>102</td>\n",
       "      <td>75</td>\n",
       "      <td>23</td>\n",
       "      <td>0</td>\n",
       "      <td>0.0</td>\n",
       "      <td>0.572</td>\n",
       "      <td>21</td>\n",
       "      <td>1</td>\n",
       "      <td>Negative</td>\n",
       "    </tr>\n",
       "    <tr>\n",
       "      <th>371</th>\n",
       "      <td>ICU200381</td>\n",
       "      <td>0</td>\n",
       "      <td>118</td>\n",
       "      <td>64</td>\n",
       "      <td>23</td>\n",
       "      <td>89</td>\n",
       "      <td>0.0</td>\n",
       "      <td>1.731</td>\n",
       "      <td>21</td>\n",
       "      <td>1</td>\n",
       "      <td>Negative</td>\n",
       "    </tr>\n",
       "    <tr>\n",
       "      <th>426</th>\n",
       "      <td>ICU200436</td>\n",
       "      <td>0</td>\n",
       "      <td>94</td>\n",
       "      <td>0</td>\n",
       "      <td>0</td>\n",
       "      <td>0</td>\n",
       "      <td>0.0</td>\n",
       "      <td>0.256</td>\n",
       "      <td>25</td>\n",
       "      <td>0</td>\n",
       "      <td>Negative</td>\n",
       "    </tr>\n",
       "    <tr>\n",
       "      <th>494</th>\n",
       "      <td>ICU200504</td>\n",
       "      <td>3</td>\n",
       "      <td>80</td>\n",
       "      <td>0</td>\n",
       "      <td>0</td>\n",
       "      <td>0</td>\n",
       "      <td>0.0</td>\n",
       "      <td>0.174</td>\n",
       "      <td>22</td>\n",
       "      <td>1</td>\n",
       "      <td>Negative</td>\n",
       "    </tr>\n",
       "    <tr>\n",
       "      <th>522</th>\n",
       "      <td>ICU200532</td>\n",
       "      <td>6</td>\n",
       "      <td>114</td>\n",
       "      <td>0</td>\n",
       "      <td>0</td>\n",
       "      <td>0</td>\n",
       "      <td>0.0</td>\n",
       "      <td>0.189</td>\n",
       "      <td>26</td>\n",
       "      <td>1</td>\n",
       "      <td>Negative</td>\n",
       "    </tr>\n",
       "  </tbody>\n",
       "</table>\n",
       "</div>"
      ],
      "text/plain": [
       "            ID  Plasma_glucose  Blood_Work_R1  Blood_Pressure  Blood_Work_R2  \\\n",
       "9    ICU200019               8            125              96              0   \n",
       "49   ICU200059               7            105               0              0   \n",
       "60   ICU200070               2             84               0              0   \n",
       "81   ICU200091               2             74               0              0   \n",
       "145  ICU200155               0            102              75             23   \n",
       "371  ICU200381               0            118              64             23   \n",
       "426  ICU200436               0             94               0              0   \n",
       "494  ICU200504               3             80               0              0   \n",
       "522  ICU200532               6            114               0              0   \n",
       "\n",
       "     Blood_Work_R3  BMI  Blood_Work_R4  Patient_age  Insurance    Target  \n",
       "9                0  0.0          0.232           54          1  Positive  \n",
       "49               0  0.0          0.305           24          0  Negative  \n",
       "60               0  0.0          0.304           21          0  Negative  \n",
       "81               0  0.0          0.102           22          1  Negative  \n",
       "145              0  0.0          0.572           21          1  Negative  \n",
       "371             89  0.0          1.731           21          1  Negative  \n",
       "426              0  0.0          0.256           25          0  Negative  \n",
       "494              0  0.0          0.174           22          1  Negative  \n",
       "522              0  0.0          0.189           26          1  Negative  "
      ]
     },
     "execution_count": 14,
     "metadata": {},
     "output_type": "execute_result"
    }
   ],
   "source": [
    "#Extracting rows with 0 BMI\n",
    "zero_bmi = train_df[train_df['BMI']==0.0]\n",
    "zero_bmi"
   ]
  },
  {
   "cell_type": "code",
   "execution_count": 15,
   "id": "8e9b62fa",
   "metadata": {
    "id": "8e9b62fa"
   },
   "outputs": [],
   "source": [
    "# Removing rows with 0 BMI\n",
    "train_df.drop(train_df[train_df['BMI'] == 0.0].index, inplace=True)"
   ]
  },
  {
   "cell_type": "code",
   "execution_count": 16,
   "id": "5ffc947e",
   "metadata": {
    "colab": {
     "base_uri": "https://localhost:8080/",
     "height": 113
    },
    "id": "5ffc947e",
    "outputId": "f6a095de-c815-41bd-f546-ff587a564ff1"
   },
   "outputs": [
    {
     "data": {
      "text/html": [
       "<div>\n",
       "<style scoped>\n",
       "    .dataframe tbody tr th:only-of-type {\n",
       "        vertical-align: middle;\n",
       "    }\n",
       "\n",
       "    .dataframe tbody tr th {\n",
       "        vertical-align: top;\n",
       "    }\n",
       "\n",
       "    .dataframe thead th {\n",
       "        text-align: right;\n",
       "    }\n",
       "</style>\n",
       "<table border=\"1\" class=\"dataframe\">\n",
       "  <thead>\n",
       "    <tr style=\"text-align: right;\">\n",
       "      <th></th>\n",
       "      <th>ID</th>\n",
       "      <th>Plasma_glucose</th>\n",
       "      <th>Blood_Work_R1</th>\n",
       "      <th>Blood_Pressure</th>\n",
       "      <th>Blood_Work_R2</th>\n",
       "      <th>Blood_Work_R3</th>\n",
       "      <th>BMI</th>\n",
       "      <th>Blood_Work_R4</th>\n",
       "      <th>Patient_age</th>\n",
       "      <th>Insurance</th>\n",
       "      <th>Target</th>\n",
       "    </tr>\n",
       "  </thead>\n",
       "  <tbody>\n",
       "  </tbody>\n",
       "</table>\n",
       "</div>"
      ],
      "text/plain": [
       "Empty DataFrame\n",
       "Columns: [ID, Plasma_glucose, Blood_Work_R1, Blood_Pressure, Blood_Work_R2, Blood_Work_R3, BMI, Blood_Work_R4, Patient_age, Insurance, Target]\n",
       "Index: []"
      ]
     },
     "execution_count": 16,
     "metadata": {},
     "output_type": "execute_result"
    }
   ],
   "source": [
    "#confirming that all 0 BMIs have been removed from our dataset\n",
    "zero_bmi2 = train_df[train_df['BMI']==0.0]\n",
    "zero_bmi2"
   ]
  },
  {
   "cell_type": "markdown",
   "id": "15fa417f",
   "metadata": {
    "id": "15fa417f"
   },
   "source": [
    "##### Replace zeros in other  columns  with the median value"
   ]
  },
  {
   "cell_type": "code",
   "execution_count": 17,
   "id": "fc1b2dba",
   "metadata": {
    "colab": {
     "base_uri": "https://localhost:8080/",
     "height": 488
    },
    "id": "fc1b2dba",
    "outputId": "5fb302a9-219e-4ef1-c047-4a4d7c777a3f"
   },
   "outputs": [
    {
     "data": {
      "text/html": [
       "<div>\n",
       "<style scoped>\n",
       "    .dataframe tbody tr th:only-of-type {\n",
       "        vertical-align: middle;\n",
       "    }\n",
       "\n",
       "    .dataframe tbody tr th {\n",
       "        vertical-align: top;\n",
       "    }\n",
       "\n",
       "    .dataframe thead th {\n",
       "        text-align: right;\n",
       "    }\n",
       "</style>\n",
       "<table border=\"1\" class=\"dataframe\">\n",
       "  <thead>\n",
       "    <tr style=\"text-align: right;\">\n",
       "      <th></th>\n",
       "      <th>ID</th>\n",
       "      <th>Plasma_glucose</th>\n",
       "      <th>Blood_Work_R1</th>\n",
       "      <th>Blood_Pressure</th>\n",
       "      <th>Blood_Work_R2</th>\n",
       "      <th>Blood_Work_R3</th>\n",
       "      <th>BMI</th>\n",
       "      <th>Blood_Work_R4</th>\n",
       "      <th>Patient_age</th>\n",
       "      <th>Insurance</th>\n",
       "      <th>Target</th>\n",
       "    </tr>\n",
       "  </thead>\n",
       "  <tbody>\n",
       "    <tr>\n",
       "      <th>0</th>\n",
       "      <td>ICU200010</td>\n",
       "      <td>6</td>\n",
       "      <td>148</td>\n",
       "      <td>72</td>\n",
       "      <td>35</td>\n",
       "      <td>0</td>\n",
       "      <td>33.6</td>\n",
       "      <td>0.627</td>\n",
       "      <td>50</td>\n",
       "      <td>0</td>\n",
       "      <td>Positive</td>\n",
       "    </tr>\n",
       "    <tr>\n",
       "      <th>1</th>\n",
       "      <td>ICU200011</td>\n",
       "      <td>1</td>\n",
       "      <td>85</td>\n",
       "      <td>66</td>\n",
       "      <td>29</td>\n",
       "      <td>0</td>\n",
       "      <td>26.6</td>\n",
       "      <td>0.351</td>\n",
       "      <td>31</td>\n",
       "      <td>0</td>\n",
       "      <td>Negative</td>\n",
       "    </tr>\n",
       "    <tr>\n",
       "      <th>2</th>\n",
       "      <td>ICU200012</td>\n",
       "      <td>8</td>\n",
       "      <td>183</td>\n",
       "      <td>64</td>\n",
       "      <td>0</td>\n",
       "      <td>0</td>\n",
       "      <td>23.3</td>\n",
       "      <td>0.672</td>\n",
       "      <td>32</td>\n",
       "      <td>1</td>\n",
       "      <td>Positive</td>\n",
       "    </tr>\n",
       "    <tr>\n",
       "      <th>3</th>\n",
       "      <td>ICU200013</td>\n",
       "      <td>1</td>\n",
       "      <td>89</td>\n",
       "      <td>66</td>\n",
       "      <td>23</td>\n",
       "      <td>94</td>\n",
       "      <td>28.1</td>\n",
       "      <td>0.167</td>\n",
       "      <td>21</td>\n",
       "      <td>1</td>\n",
       "      <td>Negative</td>\n",
       "    </tr>\n",
       "    <tr>\n",
       "      <th>4</th>\n",
       "      <td>ICU200014</td>\n",
       "      <td>0</td>\n",
       "      <td>137</td>\n",
       "      <td>40</td>\n",
       "      <td>35</td>\n",
       "      <td>168</td>\n",
       "      <td>43.1</td>\n",
       "      <td>2.288</td>\n",
       "      <td>33</td>\n",
       "      <td>1</td>\n",
       "      <td>Positive</td>\n",
       "    </tr>\n",
       "    <tr>\n",
       "      <th>...</th>\n",
       "      <td>...</td>\n",
       "      <td>...</td>\n",
       "      <td>...</td>\n",
       "      <td>...</td>\n",
       "      <td>...</td>\n",
       "      <td>...</td>\n",
       "      <td>...</td>\n",
       "      <td>...</td>\n",
       "      <td>...</td>\n",
       "      <td>...</td>\n",
       "      <td>...</td>\n",
       "    </tr>\n",
       "    <tr>\n",
       "      <th>594</th>\n",
       "      <td>ICU200604</td>\n",
       "      <td>6</td>\n",
       "      <td>123</td>\n",
       "      <td>72</td>\n",
       "      <td>45</td>\n",
       "      <td>230</td>\n",
       "      <td>33.6</td>\n",
       "      <td>0.733</td>\n",
       "      <td>34</td>\n",
       "      <td>0</td>\n",
       "      <td>Negative</td>\n",
       "    </tr>\n",
       "    <tr>\n",
       "      <th>595</th>\n",
       "      <td>ICU200605</td>\n",
       "      <td>0</td>\n",
       "      <td>188</td>\n",
       "      <td>82</td>\n",
       "      <td>14</td>\n",
       "      <td>185</td>\n",
       "      <td>32.0</td>\n",
       "      <td>0.682</td>\n",
       "      <td>22</td>\n",
       "      <td>1</td>\n",
       "      <td>Positive</td>\n",
       "    </tr>\n",
       "    <tr>\n",
       "      <th>596</th>\n",
       "      <td>ICU200606</td>\n",
       "      <td>0</td>\n",
       "      <td>67</td>\n",
       "      <td>76</td>\n",
       "      <td>0</td>\n",
       "      <td>0</td>\n",
       "      <td>45.3</td>\n",
       "      <td>0.194</td>\n",
       "      <td>46</td>\n",
       "      <td>1</td>\n",
       "      <td>Negative</td>\n",
       "    </tr>\n",
       "    <tr>\n",
       "      <th>597</th>\n",
       "      <td>ICU200607</td>\n",
       "      <td>1</td>\n",
       "      <td>89</td>\n",
       "      <td>24</td>\n",
       "      <td>19</td>\n",
       "      <td>25</td>\n",
       "      <td>27.8</td>\n",
       "      <td>0.559</td>\n",
       "      <td>21</td>\n",
       "      <td>0</td>\n",
       "      <td>Negative</td>\n",
       "    </tr>\n",
       "    <tr>\n",
       "      <th>598</th>\n",
       "      <td>ICU200608</td>\n",
       "      <td>1</td>\n",
       "      <td>173</td>\n",
       "      <td>74</td>\n",
       "      <td>0</td>\n",
       "      <td>0</td>\n",
       "      <td>36.8</td>\n",
       "      <td>0.088</td>\n",
       "      <td>38</td>\n",
       "      <td>1</td>\n",
       "      <td>Positive</td>\n",
       "    </tr>\n",
       "  </tbody>\n",
       "</table>\n",
       "<p>590 rows × 11 columns</p>\n",
       "</div>"
      ],
      "text/plain": [
       "            ID  Plasma_glucose  Blood_Work_R1  Blood_Pressure  Blood_Work_R2  \\\n",
       "0    ICU200010               6            148              72             35   \n",
       "1    ICU200011               1             85              66             29   \n",
       "2    ICU200012               8            183              64              0   \n",
       "3    ICU200013               1             89              66             23   \n",
       "4    ICU200014               0            137              40             35   \n",
       "..         ...             ...            ...             ...            ...   \n",
       "594  ICU200604               6            123              72             45   \n",
       "595  ICU200605               0            188              82             14   \n",
       "596  ICU200606               0             67              76              0   \n",
       "597  ICU200607               1             89              24             19   \n",
       "598  ICU200608               1            173              74              0   \n",
       "\n",
       "     Blood_Work_R3   BMI  Blood_Work_R4  Patient_age  Insurance    Target  \n",
       "0                0  33.6          0.627           50          0  Positive  \n",
       "1                0  26.6          0.351           31          0  Negative  \n",
       "2                0  23.3          0.672           32          1  Positive  \n",
       "3               94  28.1          0.167           21          1  Negative  \n",
       "4              168  43.1          2.288           33          1  Positive  \n",
       "..             ...   ...            ...          ...        ...       ...  \n",
       "594            230  33.6          0.733           34          0  Negative  \n",
       "595            185  32.0          0.682           22          1  Positive  \n",
       "596              0  45.3          0.194           46          1  Negative  \n",
       "597             25  27.8          0.559           21          0  Negative  \n",
       "598              0  36.8          0.088           38          1  Positive  \n",
       "\n",
       "[590 rows x 11 columns]"
      ]
     },
     "execution_count": 17,
     "metadata": {},
     "output_type": "execute_result"
    }
   ],
   "source": [
    "# Another look at our dataset shows that most of our columns have 0 for values.\n",
    "train_df"
   ]
  },
  {
   "cell_type": "code",
   "execution_count": 18,
   "id": "7f22c563",
   "metadata": {
    "id": "7f22c563"
   },
   "outputs": [],
   "source": [
    "columns_with_too_many_zeros = ['Plasma_glucose', 'Blood_Work_R2', 'Blood_Work_R3']\n",
    "for col in columns_with_too_many_zeros:\n",
    "    train_df[col].replace(to_replace=0, value=train_df[col].median(), inplace=True)"
   ]
  },
  {
   "cell_type": "code",
   "execution_count": 19,
   "id": "606855b6",
   "metadata": {
    "colab": {
     "base_uri": "https://localhost:8080/",
     "height": 488
    },
    "id": "606855b6",
    "outputId": "b9349e13-8d3e-45e3-cf5b-37037db212df"
   },
   "outputs": [
    {
     "data": {
      "text/html": [
       "<div>\n",
       "<style scoped>\n",
       "    .dataframe tbody tr th:only-of-type {\n",
       "        vertical-align: middle;\n",
       "    }\n",
       "\n",
       "    .dataframe tbody tr th {\n",
       "        vertical-align: top;\n",
       "    }\n",
       "\n",
       "    .dataframe thead th {\n",
       "        text-align: right;\n",
       "    }\n",
       "</style>\n",
       "<table border=\"1\" class=\"dataframe\">\n",
       "  <thead>\n",
       "    <tr style=\"text-align: right;\">\n",
       "      <th></th>\n",
       "      <th>ID</th>\n",
       "      <th>Plasma_glucose</th>\n",
       "      <th>Blood_Work_R1</th>\n",
       "      <th>Blood_Pressure</th>\n",
       "      <th>Blood_Work_R2</th>\n",
       "      <th>Blood_Work_R3</th>\n",
       "      <th>BMI</th>\n",
       "      <th>Blood_Work_R4</th>\n",
       "      <th>Patient_age</th>\n",
       "      <th>Insurance</th>\n",
       "      <th>Target</th>\n",
       "    </tr>\n",
       "  </thead>\n",
       "  <tbody>\n",
       "    <tr>\n",
       "      <th>0</th>\n",
       "      <td>ICU200010</td>\n",
       "      <td>6</td>\n",
       "      <td>148</td>\n",
       "      <td>72</td>\n",
       "      <td>35</td>\n",
       "      <td>39</td>\n",
       "      <td>33.6</td>\n",
       "      <td>0.627</td>\n",
       "      <td>50</td>\n",
       "      <td>0</td>\n",
       "      <td>Positive</td>\n",
       "    </tr>\n",
       "    <tr>\n",
       "      <th>1</th>\n",
       "      <td>ICU200011</td>\n",
       "      <td>1</td>\n",
       "      <td>85</td>\n",
       "      <td>66</td>\n",
       "      <td>29</td>\n",
       "      <td>39</td>\n",
       "      <td>26.6</td>\n",
       "      <td>0.351</td>\n",
       "      <td>31</td>\n",
       "      <td>0</td>\n",
       "      <td>Negative</td>\n",
       "    </tr>\n",
       "    <tr>\n",
       "      <th>2</th>\n",
       "      <td>ICU200012</td>\n",
       "      <td>8</td>\n",
       "      <td>183</td>\n",
       "      <td>64</td>\n",
       "      <td>23</td>\n",
       "      <td>39</td>\n",
       "      <td>23.3</td>\n",
       "      <td>0.672</td>\n",
       "      <td>32</td>\n",
       "      <td>1</td>\n",
       "      <td>Positive</td>\n",
       "    </tr>\n",
       "    <tr>\n",
       "      <th>3</th>\n",
       "      <td>ICU200013</td>\n",
       "      <td>1</td>\n",
       "      <td>89</td>\n",
       "      <td>66</td>\n",
       "      <td>23</td>\n",
       "      <td>94</td>\n",
       "      <td>28.1</td>\n",
       "      <td>0.167</td>\n",
       "      <td>21</td>\n",
       "      <td>1</td>\n",
       "      <td>Negative</td>\n",
       "    </tr>\n",
       "    <tr>\n",
       "      <th>4</th>\n",
       "      <td>ICU200014</td>\n",
       "      <td>3</td>\n",
       "      <td>137</td>\n",
       "      <td>40</td>\n",
       "      <td>35</td>\n",
       "      <td>168</td>\n",
       "      <td>43.1</td>\n",
       "      <td>2.288</td>\n",
       "      <td>33</td>\n",
       "      <td>1</td>\n",
       "      <td>Positive</td>\n",
       "    </tr>\n",
       "    <tr>\n",
       "      <th>...</th>\n",
       "      <td>...</td>\n",
       "      <td>...</td>\n",
       "      <td>...</td>\n",
       "      <td>...</td>\n",
       "      <td>...</td>\n",
       "      <td>...</td>\n",
       "      <td>...</td>\n",
       "      <td>...</td>\n",
       "      <td>...</td>\n",
       "      <td>...</td>\n",
       "      <td>...</td>\n",
       "    </tr>\n",
       "    <tr>\n",
       "      <th>594</th>\n",
       "      <td>ICU200604</td>\n",
       "      <td>6</td>\n",
       "      <td>123</td>\n",
       "      <td>72</td>\n",
       "      <td>45</td>\n",
       "      <td>230</td>\n",
       "      <td>33.6</td>\n",
       "      <td>0.733</td>\n",
       "      <td>34</td>\n",
       "      <td>0</td>\n",
       "      <td>Negative</td>\n",
       "    </tr>\n",
       "    <tr>\n",
       "      <th>595</th>\n",
       "      <td>ICU200605</td>\n",
       "      <td>3</td>\n",
       "      <td>188</td>\n",
       "      <td>82</td>\n",
       "      <td>14</td>\n",
       "      <td>185</td>\n",
       "      <td>32.0</td>\n",
       "      <td>0.682</td>\n",
       "      <td>22</td>\n",
       "      <td>1</td>\n",
       "      <td>Positive</td>\n",
       "    </tr>\n",
       "    <tr>\n",
       "      <th>596</th>\n",
       "      <td>ICU200606</td>\n",
       "      <td>3</td>\n",
       "      <td>67</td>\n",
       "      <td>76</td>\n",
       "      <td>23</td>\n",
       "      <td>39</td>\n",
       "      <td>45.3</td>\n",
       "      <td>0.194</td>\n",
       "      <td>46</td>\n",
       "      <td>1</td>\n",
       "      <td>Negative</td>\n",
       "    </tr>\n",
       "    <tr>\n",
       "      <th>597</th>\n",
       "      <td>ICU200607</td>\n",
       "      <td>1</td>\n",
       "      <td>89</td>\n",
       "      <td>24</td>\n",
       "      <td>19</td>\n",
       "      <td>25</td>\n",
       "      <td>27.8</td>\n",
       "      <td>0.559</td>\n",
       "      <td>21</td>\n",
       "      <td>0</td>\n",
       "      <td>Negative</td>\n",
       "    </tr>\n",
       "    <tr>\n",
       "      <th>598</th>\n",
       "      <td>ICU200608</td>\n",
       "      <td>1</td>\n",
       "      <td>173</td>\n",
       "      <td>74</td>\n",
       "      <td>23</td>\n",
       "      <td>39</td>\n",
       "      <td>36.8</td>\n",
       "      <td>0.088</td>\n",
       "      <td>38</td>\n",
       "      <td>1</td>\n",
       "      <td>Positive</td>\n",
       "    </tr>\n",
       "  </tbody>\n",
       "</table>\n",
       "<p>590 rows × 11 columns</p>\n",
       "</div>"
      ],
      "text/plain": [
       "            ID  Plasma_glucose  Blood_Work_R1  Blood_Pressure  Blood_Work_R2  \\\n",
       "0    ICU200010               6            148              72             35   \n",
       "1    ICU200011               1             85              66             29   \n",
       "2    ICU200012               8            183              64             23   \n",
       "3    ICU200013               1             89              66             23   \n",
       "4    ICU200014               3            137              40             35   \n",
       "..         ...             ...            ...             ...            ...   \n",
       "594  ICU200604               6            123              72             45   \n",
       "595  ICU200605               3            188              82             14   \n",
       "596  ICU200606               3             67              76             23   \n",
       "597  ICU200607               1             89              24             19   \n",
       "598  ICU200608               1            173              74             23   \n",
       "\n",
       "     Blood_Work_R3   BMI  Blood_Work_R4  Patient_age  Insurance    Target  \n",
       "0               39  33.6          0.627           50          0  Positive  \n",
       "1               39  26.6          0.351           31          0  Negative  \n",
       "2               39  23.3          0.672           32          1  Positive  \n",
       "3               94  28.1          0.167           21          1  Negative  \n",
       "4              168  43.1          2.288           33          1  Positive  \n",
       "..             ...   ...            ...          ...        ...       ...  \n",
       "594            230  33.6          0.733           34          0  Negative  \n",
       "595            185  32.0          0.682           22          1  Positive  \n",
       "596             39  45.3          0.194           46          1  Negative  \n",
       "597             25  27.8          0.559           21          0  Negative  \n",
       "598             39  36.8          0.088           38          1  Positive  \n",
       "\n",
       "[590 rows x 11 columns]"
      ]
     },
     "execution_count": 19,
     "metadata": {},
     "output_type": "execute_result"
    }
   ],
   "source": [
    "train_df"
   ]
  },
  {
   "cell_type": "markdown",
   "id": "a153870c",
   "metadata": {
    "id": "a153870c"
   },
   "source": [
    "#### Checking for Outliers"
   ]
  },
  {
   "cell_type": "code",
   "execution_count": 20,
   "id": "25be6d6e",
   "metadata": {
    "colab": {
     "base_uri": "https://localhost:8080/",
     "height": 596
    },
    "id": "25be6d6e",
    "outputId": "ba366aca-b01c-456e-9e92-16111349551a",
    "scrolled": false
   },
   "outputs": [
    {
     "data": {
      "image/png": "[encoded data removed]",
      "text/plain": [
       "<Figure size 720x432 with 1 Axes>"
      ]
     },
     "metadata": {
      "needs_background": "light"
     },
     "output_type": "display_data"
    }
   ],
   "source": [
    "plt.figure(figsize=(10, 6))\n",
    "\n",
    "# Plot the boxplot\n",
    "train_df.boxplot()\n",
    "\n",
    "# Rotate x-axis labels by 45 degrees\n",
    "plt.xticks(rotation=45)\n",
    "\n",
    "# Display the plot\n",
    "plt.show()"
   ]
  },
  {
   "cell_type": "markdown",
   "id": "2628451e",
   "metadata": {
    "id": "2628451e"
   },
   "source": [
    "The box plots of the various columns as visualized above, shows the presence of outliers in our data.\n",
    "Outliers can skew the results of machine learning models and make them less accurate and reliable. "
   ]
  },
  {
   "cell_type": "code",
   "execution_count": 21,
   "id": "d2af42a3",
   "metadata": {
    "colab": {
     "base_uri": "https://localhost:8080/"
    },
    "id": "d2af42a3",
    "outputId": "d0bdad4d-fd2a-4945-ce52-0a338f617100"
   },
   "outputs": [
    {
     "data": {
      "text/plain": [
       "Plasma_glucose     True\n",
       "Blood_Work_R1      True\n",
       "Blood_Pressure     True\n",
       "Blood_Work_R2      True\n",
       "Blood_Work_R3      True\n",
       "BMI                True\n",
       "Blood_Work_R4      True\n",
       "Patient_age        True\n",
       "Insurance         False\n",
       "dtype: bool"
      ]
     },
     "execution_count": 21,
     "metadata": {},
     "output_type": "execute_result"
    }
   ],
   "source": [
    "numeric_columns = train_df.select_dtypes(include=[np.number]).columns\n",
    "num_df = train_df[numeric_columns]\n",
    "\n",
    "Q1 = num_df.quantile(0.25)\n",
    "Q3 = num_df.quantile(0.75)\n",
    "IQR = Q3-Q1\n",
    "IQR\n",
    "((num_df< (Q1-1.5 * IQR)) | (num_df > (Q3 + 1.5 * IQR))).any()"
   ]
  },
  {
   "cell_type": "markdown",
   "id": "47ff49e4",
   "metadata": {
    "id": "47ff49e4"
   },
   "source": [
    "All the numeric_columns except Insurance have outliers."
   ]
  },
  {
   "cell_type": "markdown",
   "id": "b208da57",
   "metadata": {
    "id": "b208da57"
   },
   "source": [
    "#### Calculating the Interquartile range, setting the outlier boundary and removing the outliers from the dataframe"
   ]
  },
  {
   "cell_type": "code",
   "execution_count": 22,
   "id": "714ec563",
   "metadata": {
    "colab": {
     "base_uri": "https://localhost:8080/"
    },
    "id": "714ec563",
    "outputId": "cb45715b-86e7-4ffc-e82b-2e12b128bc9a"
   },
   "outputs": [
    {
     "name": "stdout",
     "output_type": "stream",
     "text": [
      "No outliers exist in the specified columns.\n"
     ]
    }
   ],
   "source": [
    "# Specify the columns of interest\n",
    "columns_of_interest =  ['BMI', 'Blood_Pressure', 'Blood_Work_R1','Blood_Work_R2','Blood_Work_R3','Blood_Work_R4','Patient_age','Plasma_glucose']\n",
    "\n",
    "# Check if outliers still exist in the columns\n",
    "outliers_exist = False\n",
    "\n",
    "for column in columns_of_interest:\n",
    "    # Calculate the first and third quartiles (Q1 and Q3)\n",
    "    Q1 = train_df[column].quantile(0.25)\n",
    "    Q3 = train_df[column].quantile(0.75)\n",
    "\n",
    "    # Calculate the interquartile range (IQR)\n",
    "    IQR = Q3 - Q1\n",
    "\n",
    "    # Define the lower and upper bounds for outliers\n",
    "    lower_bound = Q1 - 1.5 * IQR\n",
    "    upper_bound = Q3 + 1.5 * IQR\n",
    "    \n",
    "    # Modify the values in the column to be within the range\n",
    "    train_df[column] = train_df[column].clip(lower_bound, upper_bound)\n",
    "\n",
    "    # Check if outliers exist in the column\n",
    "    if (train_df[column] < lower_bound).any() or (train_df[column] > upper_bound).any():\n",
    "        outliers_exist = True\n",
    "        print(f\"Outliers still exist in '{column}'.\")\n",
    "\n",
    "if not outliers_exist:\n",
    "    print(\"No outliers exist in the specified columns.\")\n"
   ]
  },
  {
   "cell_type": "code",
   "execution_count": 23,
   "id": "ca141ef4",
   "metadata": {
    "colab": {
     "base_uri": "https://localhost:8080/",
     "height": 596
    },
    "id": "ca141ef4",
    "outputId": "892fbe5d-fe3e-47e9-8700-177e664b0273"
   },
   "outputs": [
    {
     "data": {
      "image/png": "[encoded data removed]",
      "text/plain": [
       "<Figure size 720x432 with 1 Axes>"
      ]
     },
     "metadata": {
      "needs_background": "light"
     },
     "output_type": "display_data"
    }
   ],
   "source": [
    "plt.figure(figsize=(10, 6))\n",
    "\n",
    "# Plot the boxplot\n",
    "train_df.boxplot()\n",
    "\n",
    "# Rotate x-axis labels by 45 degrees\n",
    "plt.xticks(rotation=45)\n",
    "\n",
    "# Display the plot\n",
    "plt.show()"
   ]
  },
  {
   "cell_type": "markdown",
   "id": "faa0621b",
   "metadata": {
    "id": "faa0621b"
   },
   "source": [
    "We can see from the above that the outliers have been removed"
   ]
  },
  {
   "cell_type": "markdown",
   "id": "963b6a73",
   "metadata": {
    "id": "963b6a73"
   },
   "source": [
    "## Univariate Analysis"
   ]
  },
  {
   "cell_type": "markdown",
   "id": "23a5c681",
   "metadata": {
    "id": "23a5c681"
   },
   "source": [
    "#### Graphically Displaying all numerical columns using Histogram "
   ]
  },
  {
   "cell_type": "code",
   "execution_count": 24,
   "id": "73e8a039",
   "metadata": {
    "colab": {
     "base_uri": "https://localhost:8080/",
     "height": 960
    },
    "id": "73e8a039",
    "outputId": "c38758d8-e92c-4c69-c661-e44ad963c1b8"
   },
   "outputs": [
    {
     "data": {
      "image/png": "[encoded data removed]",
      "text/plain": [
       "<Figure size 864x864 with 9 Axes>"
      ]
     },
     "metadata": {},
     "output_type": "display_data"
    }
   ],
   "source": [
    "# Set the style for the plot\n",
    "sn.set(style=\"ticks\", color_codes=True)\n",
    "\n",
    "# Create a grid of 3 by 3 subplots\n",
    "fig, axes = plt.subplots(3, 3, figsize=(12, 12))\n",
    "\n",
    "# Flatten the axes array\n",
    "axes = axes.flatten()\n",
    "\n",
    "# Plot histograms for each numerical column\n",
    "for i, col in enumerate(numerical_features):\n",
    "    sn.histplot(data=train_df, x=col, kde=True, bins=10, ax=axes[i])\n",
    "    axes[i].set_title(f'Histogram of {col}')\n",
    "    axes[i].set_xlabel(col)\n",
    "    axes[i].set_ylabel('Count')\n",
    "\n",
    "# Adjust the spacing between subplots\n",
    "plt.tight_layout()\n",
    "\n",
    "# Display the plot\n",
    "plt.show()"
   ]
  },
  {
   "cell_type": "markdown",
   "id": "f5d32430",
   "metadata": {
    "id": "f5d32430"
   },
   "source": [
    "Observations:\n",
    "\n",
    "Most patients showed up for blood work 1 and 3 \n",
    "\n",
    "Most patients have a blood pressure between 60 and 80\n",
    "\n",
    "Most patients have glucose level less than five\n",
    "\n",
    "The majority of patients are younger than 40"
   ]
  },
  {
   "cell_type": "markdown",
   "id": "123010e3",
   "metadata": {
    "id": "123010e3"
   },
   "source": [
    "## Bivariate Analysis"
   ]
  },
  {
   "cell_type": "code",
   "execution_count": 25,
   "id": "04fb8e1e",
   "metadata": {
    "id": "04fb8e1e"
   },
   "outputs": [],
   "source": [
    "# get a DataFrame for positive and another for neagtive cases\n",
    "positive_cases = train_df[train_df['Target'] == 'Positive']\n",
    "negative_cases = train_df[train_df['Target'] == 'Negative']"
   ]
  },
  {
   "cell_type": "markdown",
   "id": "c56b17c8",
   "metadata": {
    "id": "c56b17c8"
   },
   "source": [
    "Age"
   ]
  },
  {
   "cell_type": "code",
   "execution_count": 26,
   "id": "1571eccf",
   "metadata": {
    "colab": {
     "base_uri": "https://localhost:8080/"
    },
    "id": "1571eccf",
    "outputId": "f204b98a-bfe5-4a30-a67f-c91deebb94b8",
    "scrolled": true
   },
   "outputs": [
    {
     "data": {
      "text/plain": [
       "count    207.000000\n",
       "mean      36.589372\n",
       "std       10.800058\n",
       "min       21.000000\n",
       "25%       28.000000\n",
       "50%       35.000000\n",
       "75%       43.000000\n",
       "max       64.000000\n",
       "Name: Patient_age, dtype: float64"
      ]
     },
     "execution_count": 26,
     "metadata": {},
     "output_type": "execute_result"
    }
   ],
   "source": [
    "positive_age_stats = positive_cases['Patient_age'].describe()\n",
    "positive_age_stats"
   ]
  },
  {
   "cell_type": "code",
   "execution_count": 27,
   "id": "5f77c788",
   "metadata": {
    "colab": {
     "base_uri": "https://localhost:8080/"
    },
    "id": "5f77c788",
    "outputId": "28690ade-2bd9-4937-c886-f9d34a72e2f0"
   },
   "outputs": [
    {
     "data": {
      "text/plain": [
       "count    383.000000\n",
       "mean      31.548303\n",
       "std       11.612285\n",
       "min       21.000000\n",
       "25%       23.000000\n",
       "50%       27.000000\n",
       "75%       37.000000\n",
       "max       64.000000\n",
       "Name: Patient_age, dtype: float64"
      ]
     },
     "execution_count": 27,
     "metadata": {},
     "output_type": "execute_result"
    }
   ],
   "source": [
    "negative_age_stats = negative_cases['Patient_age'].describe()\n",
    "negative_age_stats"
   ]
  },
  {
   "cell_type": "code",
   "execution_count": 28,
   "id": "bf106a26",
   "metadata": {
    "colab": {
     "base_uri": "https://localhost:8080/",
     "height": 712
    },
    "id": "bf106a26",
    "outputId": "60d6098f-cedd-4069-ac6d-536f80787c71"
   },
   "outputs": [
    {
     "data": {
      "image/png": "[encoded data removed]",
      "text/plain": [
       "<Figure size 720x576 with 4 Axes>"
      ]
     },
     "metadata": {},
     "output_type": "display_data"
    }
   ],
   "source": [
    "# Extract the 'age' column from the DataFrame\n",
    "ages_positive = positive_cases['Patient_age']\n",
    "ages_negative = negative_cases['Patient_age']\n",
    "\n",
    "positive_mean_age = positive_age_stats['mean']\n",
    "\n",
    "# Set up the figure and axes\n",
    "fig, axes = plt.subplots(2, 2, figsize=(10, 8))\n",
    "\n",
    "# Plot 1: Distribution of Ages for Patients with Sepsis\n",
    "axes[0, 0].hist(ages_positive, bins=20, edgecolor='black')\n",
    "axes[0, 0].set_xlabel('Age')\n",
    "axes[0, 0].set_ylabel('Frequency')\n",
    "axes[0, 0].set_title('Distribution of Ages of Patients with Sepsis')\n",
    "\n",
    "sns.kdeplot(ages_positive, shade=True, color='blue', linewidth=2, ax=axes[0, 1])\n",
    "axes[0, 1].axvline(positive_mean_age, color='red', linestyle='--', label='Mean Age')\n",
    "axes[0, 1].set_xlabel('Age')\n",
    "axes[0, 1].set_ylabel('Density')\n",
    "axes[0, 1].set_title('Distribution of Ages of Patients with Sepsis (Kernel Density Plot)')\n",
    "axes[0, 1].legend()\n",
    "\n",
    "# Plot 2: Distribution of Ages for Patients without Sepsis\n",
    "axes[1, 0].hist(ages_negative, bins=20, edgecolor='black')\n",
    "axes[1, 0].set_xlabel('Age')\n",
    "axes[1, 0].set_ylabel('Frequency')\n",
    "axes[1, 0].set_title('Distribution of Ages of Patients without Sepsis')\n",
    "\n",
    "sns.kdeplot(ages_negative, shade=True, color='blue', linewidth=2, ax=axes[1, 1])\n",
    "axes[1, 1].axvline(positive_mean_age, color='red', linestyle='--', label='Mean Age')\n",
    "axes[1, 1].set_xlabel('Age')\n",
    "axes[1, 1].set_ylabel('Density')\n",
    "axes[1, 1].set_title('Distribution of Ages of Patients without Sepsis (Kernel Density Plot)')\n",
    "axes[1, 1].legend()\n",
    "\n",
    "# Adjust the layout\n",
    "plt.tight_layout()\n",
    "\n",
    "# Show the plots\n",
    "plt.show()"
   ]
  },
  {
   "cell_type": "markdown",
   "id": "eb9963d9",
   "metadata": {
    "id": "eb9963d9"
   },
   "source": [
    "We can observe that younger patients have more cases of Negative sepsis than older ones.\n",
    "\n",
    "This suggests that our Null Hypothesis(Age does not determine whether a patient will develop Sepsis) is incorrect."
   ]
  },
  {
   "cell_type": "markdown",
   "id": "b1bffa58",
   "metadata": {
    "id": "b1bffa58"
   },
   "source": [
    "BMI"
   ]
  },
  {
   "cell_type": "code",
   "execution_count": 29,
   "id": "10595bb2",
   "metadata": {
    "colab": {
     "base_uri": "https://localhost:8080/"
    },
    "id": "10595bb2",
    "outputId": "1e04078f-52d9-4432-f91f-292086a5220c"
   },
   "outputs": [
    {
     "data": {
      "text/plain": [
       "count    207.000000\n",
       "mean      35.378623\n",
       "std        6.216960\n",
       "min       22.900000\n",
       "25%       31.050000\n",
       "50%       34.300000\n",
       "75%       39.050000\n",
       "max       50.512500\n",
       "Name: BMI, dtype: float64"
      ]
     },
     "execution_count": 29,
     "metadata": {},
     "output_type": "execute_result"
    }
   ],
   "source": [
    "positive_bmi_stats = positive_cases['BMI'].describe()\n",
    "positive_bmi_stats"
   ]
  },
  {
   "cell_type": "code",
   "execution_count": 30,
   "id": "08560c12",
   "metadata": {
    "colab": {
     "base_uri": "https://localhost:8080/"
    },
    "id": "08560c12",
    "outputId": "0aed1e85-16ff-4d02-d93e-f4c799f52558"
   },
   "outputs": [
    {
     "data": {
      "text/plain": [
       "count    383.000000\n",
       "mean      30.700033\n",
       "std        6.540889\n",
       "min       18.200000\n",
       "25%       25.450000\n",
       "50%       30.100000\n",
       "75%       35.150000\n",
       "max       50.512500\n",
       "Name: BMI, dtype: float64"
      ]
     },
     "execution_count": 30,
     "metadata": {},
     "output_type": "execute_result"
    }
   ],
   "source": [
    "negative_bmi_stats = negative_cases['BMI'].describe()\n",
    "negative_bmi_stats"
   ]
  },
  {
   "cell_type": "code",
   "execution_count": 31,
   "id": "b2516f1e",
   "metadata": {
    "colab": {
     "base_uri": "https://localhost:8080/",
     "height": 481
    },
    "id": "b2516f1e",
    "outputId": "43a89f06-7cdc-4cf1-e242-72dec17de79c"
   },
   "outputs": [
    {
     "data": {
      "image/png": "[encoded data removed]",
      "text/plain": [
       "<Figure size 864x432 with 2 Axes>"
      ]
     },
     "metadata": {},
     "output_type": "display_data"
    }
   ],
   "source": [
    "# Extract the 'BMI' column from the DataFrame\n",
    "bmi_positive = positive_cases['BMI']\n",
    "bmi_negative = negative_cases['BMI']\n",
    "\n",
    "# Set up the figure and axes\n",
    "fig, axes = plt.subplots(1, 2, figsize=(12, 6))\n",
    "\n",
    "# Plot 1: Distribution of BMI for Patients with and without Sepsis\n",
    "axes[0].hist(bmi_positive, bins=20, edgecolor='black', label='Positive Sepsis')\n",
    "axes[0].hist(bmi_negative, bins=20, edgecolor='black', alpha=0.5, label='Negative Sepsis')\n",
    "axes[0].set_xlabel('BMI')\n",
    "axes[0].set_ylabel('Frequency')\n",
    "axes[0].set_title('Distribution of BMI for Patients with and without Sepsis')\n",
    "axes[0].legend()\n",
    "\n",
    "# Plot 2: Kernel Density Plot of BMI for Patients with and without Sepsis\n",
    "sns.kdeplot(bmi_positive, shade=True, color='blue', linewidth=2, label='Positive Sepsis', ax=axes[1])\n",
    "sns.kdeplot(bmi_negative, shade=True, color='orange', linewidth=2, label='Negative Sepsis', ax=axes[1])\n",
    "axes[1].set_xlabel('BMI')\n",
    "axes[1].set_ylabel('Density')\n",
    "axes[1].set_title('Kernel Density Plot of BMI for Patients with and without Sepsis')\n",
    "axes[1].legend()\n",
    "\n",
    "# Adjust the layout\n",
    "plt.tight_layout()\n",
    "\n",
    "# Show the plots\n",
    "plt.show()\n"
   ]
  },
  {
   "cell_type": "markdown",
   "id": "f68e3306",
   "metadata": {
    "id": "f68e3306"
   },
   "source": [
    "Patients with lower BMI are less likely to have sepsis"
   ]
  },
  {
   "cell_type": "code",
   "execution_count": 32,
   "id": "7613779b",
   "metadata": {
    "colab": {
     "base_uri": "https://localhost:8080/",
     "height": 810
    },
    "id": "7613779b",
    "outputId": "0b568acd-8433-4840-a077-61b23fefcae8",
    "scrolled": false
   },
   "outputs": [
    {
     "data": {
      "image/png": "[encoded data removed]",
      "text/plain": [
       "<Figure size 720x576 with 2 Axes>"
      ]
     },
     "metadata": {},
     "output_type": "display_data"
    }
   ],
   "source": [
    "# Correlation heatmap\n",
    "plt.figure(figsize=(10, 8))\n",
    "sn.heatmap(num_df.corr(), annot=True, cmap='coolwarm')\n",
    "plt.title('Correlation Heatmap')\n",
    "plt.show()"
   ]
  },
  {
   "cell_type": "code",
   "execution_count": 33,
   "id": "5d934d57",
   "metadata": {
    "colab": {
     "base_uri": "https://localhost:8080/"
    },
    "id": "5d934d57",
    "outputId": "c1b60025-69ea-46e5-d18d-d06121d64a16",
    "scrolled": true
   },
   "outputs": [
    {
     "name": "stdout",
     "output_type": "stream",
     "text": [
      "Plasma_glucose and Patient_age are highly correlated (correlation value: 0.5307618646199184)\n",
      "Blood_Work_R2 and BMI are highly correlated (correlation value: 0.5420169830360818)\n",
      "BMI and Blood_Work_R2 are highly correlated (correlation value: 0.5420169830360818)\n",
      "Patient_age and Plasma_glucose are highly correlated (correlation value: 0.5307618646199184)\n"
     ]
    }
   ],
   "source": [
    "# Calculate the correlation matrix\n",
    "correlation_matrix = num_df.corr()\n",
    "\n",
    "# Set the threshold for high correlation\n",
    "threshold = 0.5\n",
    "\n",
    "# Find the highly correlated variables\n",
    "high_correlation = (correlation_matrix.abs() > threshold) & (correlation_matrix != 1)\n",
    "\n",
    "# Get the variable pairs with high correlation\n",
    "high_correlation_pairs = [(i, j) for i in high_correlation.columns for j in high_correlation.columns if high_correlation.loc[i, j]]\n",
    "\n",
    "# Print the highly correlated variables\n",
    "for pair in high_correlation_pairs:\n",
    "    var1, var2 = pair\n",
    "    correlation_value = correlation_matrix.loc[var1, var2]\n",
    "    print(f\"{var1} and {var2} are highly correlated (correlation value: {correlation_value})\")"
   ]
  },
  {
   "cell_type": "markdown",
   "id": "808d5659",
   "metadata": {
    "id": "808d5659"
   },
   "source": [
    "For each pair of columns that has a correlation of 0.5 and above,\n",
    "\n",
    "We will later drop one column from each pair"
   ]
  },
  {
   "cell_type": "markdown",
   "id": "c3957790",
   "metadata": {},
   "source": [
    "While a correlation coefficient measures linear relationships, there might be non-linear relationships \n",
    "\n",
    "between the variables that are not captured by the correlation coefficient alone.\n",
    "\n",
    "Let's use scatter plot to explore this further"
   ]
  },
  {
   "cell_type": "code",
   "execution_count": 34,
   "id": "6d0a9f6b",
   "metadata": {},
   "outputs": [
    {
     "data": {
      "image/png": "[encoded data removed]",
      "text/plain": [
       "<Figure size 432x288 with 1 Axes>"
      ]
     },
     "metadata": {},
     "output_type": "display_data"
    },
    {
     "data": {
      "image/png": "[encoded data removed]",
      "text/plain": [
       "<Figure size 432x288 with 1 Axes>"
      ]
     },
     "metadata": {},
     "output_type": "display_data"
    }
   ],
   "source": [
    "# Scatter plot: Plasma_glucose vs Patient_age\n",
    "plt.scatter(num_df['Plasma_glucose'], num_df['Patient_age'])\n",
    "plt.xlabel('Plasma Glucose')\n",
    "plt.ylabel('Patient Age')\n",
    "plt.title('Scatter plot: Plasma Glucose vs Patient Age')\n",
    "plt.show()\n",
    "\n",
    "# Scatter plot: Blood_Work_R2 vs BMI\n",
    "plt.scatter(num_df['Blood_Work_R2'], num_df['BMI'])\n",
    "plt.xlabel('Blood Work R2')\n",
    "plt.ylabel('BMI')\n",
    "plt.title('Scatter plot: Blood Work R2 vs BMI')\n",
    "plt.show()"
   ]
  },
  {
   "cell_type": "markdown",
   "id": "2e55f810",
   "metadata": {},
   "source": [
    "**Observation:**\n",
    "The data points in Plasma_glucose and Patient_age are widely scattered, A tight cluster suggests a strong relationship, while a wide dispersion indicates a weak relationship or no relationship at all. So we will ignore this one.\n",
    "\n",
    "The data points in Blood_Work_R2 and BMI are close together and have a linear positive relationship. So  we will explore this further."
   ]
  },
  {
   "cell_type": "code",
   "execution_count": 35,
   "id": "93060cb6",
   "metadata": {},
   "outputs": [
    {
     "name": "stdout",
     "output_type": "stream",
     "text": [
      "p-value (Blood_Work_R2 and BMI): 2.34007598488551e-46\n"
     ]
    }
   ],
   "source": [
    "# Calculate the p-value for the correlation between Blood_Work_R2 and BMI\n",
    "blood_work_r2 = num_df['Blood_Work_R2']\n",
    "bmi = num_df['BMI']\n",
    "corr, p_value = stats.pearsonr(blood_work_r2, bmi)\n",
    "print(\"p-value (Blood_Work_R2 and BMI):\", p_value)"
   ]
  },
  {
   "cell_type": "code",
   "execution_count": 36,
   "id": "a021e6a0",
   "metadata": {},
   "outputs": [
    {
     "name": "stdout",
     "output_type": "stream",
     "text": [
      "p-value2 (Blood_Work_R2 and BMI): 2.1442057355491957e-53\n"
     ]
    }
   ],
   "source": [
    "# use spearman's test to confirm\n",
    "corr2, p_value2 = stats.spearmanr(blood_work_r2, bmi)\n",
    "print(\"p-value2 (Blood_Work_R2 and BMI):\", p_value2)"
   ]
  },
  {
   "cell_type": "markdown",
   "id": "bbb6eb1a",
   "metadata": {},
   "source": [
    "both p-values are significantly smaller than a typical significance level of 0.05\n",
    "\n",
    "so there is a statistically significant correlation between Blood_Work_R2 and BMI. "
   ]
  },
  {
   "cell_type": "code",
   "execution_count": 37,
   "id": "a54a5869",
   "metadata": {
    "colab": {
     "base_uri": "https://localhost:8080/",
     "height": 910
    },
    "id": "a54a5869",
    "outputId": "d7373c31-c44a-4508-cc33-e82f7fcb149e",
    "scrolled": false
   },
   "outputs": [
    {
     "data": {
      "image/png": "[encoded data removed]",
      "text/plain": [
       "<Figure size 864x864 with 9 Axes>"
      ]
     },
     "metadata": {},
     "output_type": "display_data"
    }
   ],
   "source": [
    "numeric_columns = ['Insurance', 'Plasma_glucose', 'Blood_Work_R1', 'Blood_Pressure', 'Blood_Work_R2', 'Blood_Work_R3', 'BMI', 'Blood_Work_R4', 'Patient_age']\n",
    "\n",
    "# Define the layout grid\n",
    "fig, axes = plt.subplots(3, 3, figsize=(12, 12))\n",
    "\n",
    "# Iterate over the numeric columns\n",
    "for i, column in enumerate(numeric_columns):\n",
    "    # Calculate the row and column indices in the grid\n",
    "    row = i // 3\n",
    "    col = i % 3\n",
    "    \n",
    "    # Create the boxplot\n",
    "    sns.boxplot(x='Target', y=column, data=train_df, ax=axes[row, col])\n",
    "    axes[row, col].set_title('Boxplot of ' + column + ' grouped by Sepssis Status')\n",
    "\n",
    "# Adjust the layout and spacing\n",
    "plt.tight_layout()\n",
    "\n",
    "# Show the plots\n",
    "plt.show()"
   ]
  },
  {
   "cell_type": "markdown",
   "id": "b7dadcb5",
   "metadata": {
    "id": "b7dadcb5"
   },
   "source": [
    "let's take a closer look at the insurance variable"
   ]
  },
  {
   "cell_type": "code",
   "execution_count": 38,
   "id": "973f898c",
   "metadata": {
    "colab": {
     "base_uri": "https://localhost:8080/",
     "height": 573
    },
    "id": "973f898c",
    "outputId": "faf1172a-1a9b-47ca-a01b-95a0889766b4"
   },
   "outputs": [
    {
     "data": {
      "image/png": "[encoded data removed]",
      "text/plain": [
       "<Figure size 576x432 with 1 Axes>"
      ]
     },
     "metadata": {},
     "output_type": "display_data"
    }
   ],
   "source": [
    "# Bar plots of categorical variable (Insurance) grouped by Sepssis Target\n",
    "plt.figure(figsize=(8, 6))\n",
    "sn.countplot(x='Insurance', hue='Target', data=train_df)\n",
    "plt.title('Count of Insurance grouped by Sepssis Status')\n",
    "plt.show()"
   ]
  },
  {
   "cell_type": "markdown",
   "id": "cd38ac75",
   "metadata": {
    "id": "cd38ac75"
   },
   "source": [
    "Observation: Insurance is irrelevant since it is Sepsis status doesn't change if you have insurance or not\n",
    "\n",
    "so we will drop the insurance column later as well"
   ]
  },
  {
   "cell_type": "markdown",
   "id": "252aab1b",
   "metadata": {
    "id": "252aab1b"
   },
   "source": [
    "## Hypothesis Validation "
   ]
  },
  {
   "cell_type": "markdown",
   "id": "18e06024",
   "metadata": {
    "id": "18e06024"
   },
   "source": [
    "### What is P-value and t-statistic?\n",
    "\n",
    "The p-value is like a \"strength meter\" for our data. It tells us how strong the evidence is against a particular idea. A small p-value means the evidence is strong and suggests that our idea is likely true, while a large p-value means the evidence is weak and our idea may not be true.\n",
    "\n",
    "The t-statistic is like a \"difference detector\" between two groups. It measures how different the average values are between two groups and compares it to the variation within each group. A larger t-statistic means there is a bigger difference between the groups being compared.\n",
    "\n",
    "In simpler terms, the p-value helps us decide if our idea is likely true or not, and the t-statistic tells us how big the difference is between two groups."
   ]
  },
  {
   "cell_type": "markdown",
   "id": "4f8c79c0",
   "metadata": {
    "id": "4f8c79c0"
   },
   "source": [
    "### perform an independent samples t-test to compare the ages of patients with positive and negative Sepssis."
   ]
  },
  {
   "cell_type": "code",
   "execution_count": 39,
   "id": "521176bd",
   "metadata": {
    "colab": {
     "base_uri": "https://localhost:8080/"
    },
    "id": "521176bd",
    "outputId": "447fe070-9e80-4b45-ae9b-b92ce702ea68"
   },
   "outputs": [
    {
     "name": "stdout",
     "output_type": "stream",
     "text": [
      "P-Value: 3.4577022949183645e-07\n",
      "T-Statistic: 5.1556614056454775\n"
     ]
    }
   ],
   "source": [
    "# Split the data into two groups based on the Sepssis variable\n",
    "target_positive = train_df[train_df['Target'] == 'Positive']\n",
    "target_negative= train_df[train_df['Target'] == 'Negative']\n",
    "\n",
    "# Extract the Age(Patient_age) values for each group\n",
    "age_target_positive = target_positive['Patient_age']\n",
    "age_target_negative = target_negative['Patient_age']\n",
    "\n",
    "# Perform independent samples t-test\n",
    "t_statistic, p_value = ttest_ind(age_target_positive, age_target_negative)\n",
    "\n",
    "# Print the results\n",
    "print(\"P-Value:\", p_value)\n",
    "print(\"T-Statistic:\", t_statistic)"
   ]
  },
  {
   "cell_type": "markdown",
   "id": "31952e7b",
   "metadata": {
    "id": "31952e7b"
   },
   "source": [
    "### Interpreting the results:\n",
    "\n",
    "A very small p-value of 3.4577022949183645e-07, we can conclude that there is a significant difference in the mean age between patients with and without Sepsis. \n",
    "\n",
    "A large t-statistic of 5.1556614056454775 means there is a bigger difference between the groups being compared.\n",
    "\n",
    "***Null Hypothesis:*** Age does not determine whether a patient will develop Sepsis.\n",
    "\n",
    "Null Hypothesis Rejected!"
   ]
  },
  {
   "cell_type": "markdown",
   "id": "67ddc3c1",
   "metadata": {
    "id": "67ddc3c1"
   },
   "source": [
    "## Answers to Questions"
   ]
  },
  {
   "cell_type": "markdown",
   "id": "356cc5a3",
   "metadata": {
    "id": "356cc5a3"
   },
   "source": [
    "#### 1. Is the train dataset complete"
   ]
  },
  {
   "cell_type": "code",
   "execution_count": 40,
   "id": "64a611e2",
   "metadata": {
    "colab": {
     "base_uri": "https://localhost:8080/"
    },
    "id": "64a611e2",
    "outputId": "5f3f7c41-a281-4cb4-af7d-fd6046e57440"
   },
   "outputs": [
    {
     "data": {
      "text/plain": [
       "ID                0\n",
       "Plasma_glucose    0\n",
       "Blood_Work_R1     0\n",
       "Blood_Pressure    0\n",
       "Blood_Work_R2     0\n",
       "Blood_Work_R3     0\n",
       "BMI               0\n",
       "Blood_Work_R4     0\n",
       "Patient_age       0\n",
       "Insurance         0\n",
       "Target            0\n",
       "dtype: int64"
      ]
     },
     "execution_count": 40,
     "metadata": {},
     "output_type": "execute_result"
    }
   ],
   "source": [
    "train_df.isnull().sum()"
   ]
  },
  {
   "cell_type": "markdown",
   "id": "14d2e0f9",
   "metadata": {
    "id": "14d2e0f9"
   },
   "source": [
    "There are no missing values in the dataset"
   ]
  },
  {
   "cell_type": "markdown",
   "id": "f555f897",
   "metadata": {
    "id": "f555f897"
   },
   "source": [
    "#### 2. What are the ages of the youngest and oldest patients"
   ]
  },
  {
   "cell_type": "code",
   "execution_count": 41,
   "id": "d6bd36db",
   "metadata": {
    "id": "d6bd36db"
   },
   "outputs": [],
   "source": [
    "oldest_age = train_df['Patient_age'].max()\n",
    "youngest_age= train_df['Patient_age'].min()"
   ]
  },
  {
   "cell_type": "code",
   "execution_count": 42,
   "id": "f99859d0",
   "metadata": {
    "colab": {
     "base_uri": "https://localhost:8080/"
    },
    "id": "f99859d0",
    "outputId": "3e4bb0d9-9abd-4aeb-f4b4-ba830a3a35e5"
   },
   "outputs": [
    {
     "name": "stdout",
     "output_type": "stream",
     "text": [
      "The youngest and oldest patients are 21.0 and 64.0 years respectively\n"
     ]
    }
   ],
   "source": [
    "print(f'The youngest and oldest patients are {youngest_age} and {oldest_age} years respectively')"
   ]
  },
  {
   "cell_type": "markdown",
   "id": "d53f2303",
   "metadata": {
    "id": "d53f2303"
   },
   "source": [
    "#### 3. What are the youngest and oldest patients with Sepssis?"
   ]
  },
  {
   "cell_type": "code",
   "execution_count": 43,
   "id": "3d12c71e",
   "metadata": {
    "id": "3d12c71e"
   },
   "outputs": [],
   "source": [
    "highest_positive_age = positive_age_stats['max']\n",
    "lowest_positive_age = positive_age_stats['min']"
   ]
  },
  {
   "cell_type": "code",
   "execution_count": 44,
   "id": "88b3a637",
   "metadata": {
    "colab": {
     "base_uri": "https://localhost:8080/"
    },
    "id": "88b3a637",
    "outputId": "b2b98ef7-292d-4bd6-fd89-3b34f7257238"
   },
   "outputs": [
    {
     "name": "stdout",
     "output_type": "stream",
     "text": [
      "The youngest and oldest patient with Sepssis is 21.0 and 64.0 years respectively\n"
     ]
    }
   ],
   "source": [
    "print(f'The youngest and oldest patient with Sepssis is {lowest_positive_age} and {highest_positive_age} years respectively')"
   ]
  },
  {
   "cell_type": "markdown",
   "id": "67fbd92f",
   "metadata": {
    "id": "67fbd92f"
   },
   "source": [
    "#### 4. What is the average age ?\n"
   ]
  },
  {
   "cell_type": "code",
   "execution_count": 45,
   "id": "35228d18",
   "metadata": {
    "colab": {
     "base_uri": "https://localhost:8080/"
    },
    "id": "35228d18",
    "outputId": "15190919-9849-4619-8b8d-e54dae11783d"
   },
   "outputs": [
    {
     "name": "stdout",
     "output_type": "stream",
     "text": [
      "The Average age is 33.32 years old\n"
     ]
    }
   ],
   "source": [
    "average_age = train_df['Patient_age'].mean()\n",
    "print(f'The Average age is {average_age:.2f} years old')"
   ]
  },
  {
   "cell_type": "markdown",
   "id": "66d24973",
   "metadata": {
    "id": "66d24973"
   },
   "source": [
    "#### 5. What is the ratio of patients who are positive for sepssis to the negative patients?\n"
   ]
  },
  {
   "cell_type": "code",
   "execution_count": 46,
   "id": "fe90a826",
   "metadata": {
    "colab": {
     "base_uri": "https://localhost:8080/"
    },
    "id": "fe90a826",
    "outputId": "68f6f13c-b2d0-4508-ee13-a9c074196dfa"
   },
   "outputs": [
    {
     "name": "stdout",
     "output_type": "stream",
     "text": [
      "The ratio of patientrs positive for sepssis to negative patients is 0.54\n"
     ]
    }
   ],
   "source": [
    "# Calculate the count of positive and negative patients\n",
    "positive_count = train_df[train_df['Target'] == 'Positive'].shape[0]\n",
    "negative_count = train_df[train_df['Target'] == 'Negative'].shape[0]\n",
    "\n",
    "# Calculate the ratio\n",
    "ratio = positive_count / negative_count\n",
    "\n",
    "print(f'The ratio of patientrs positive for sepssis to negative patients is {ratio:.2f}')"
   ]
  },
  {
   "cell_type": "markdown",
   "id": "affc9a02",
   "metadata": {
    "id": "affc9a02"
   },
   "source": [
    "#### 6.What is the highest and lowest BMI?"
   ]
  },
  {
   "cell_type": "code",
   "execution_count": 47,
   "id": "fceb708f",
   "metadata": {
    "colab": {
     "base_uri": "https://localhost:8080/"
    },
    "id": "fceb708f",
    "outputId": "8597e9c5-0459-44b3-de1a-b2616d85f086"
   },
   "outputs": [
    {
     "name": "stdout",
     "output_type": "stream",
     "text": [
      "The highest and lowest BMI is 50.51 and 18.20 respectively\n"
     ]
    }
   ],
   "source": [
    "highest_bmi = train_df['BMI'].max()\n",
    "lowest_bmi= train_df['BMI'].min()\n",
    "\n",
    "print(f'The highest and lowest BMI is {highest_bmi:.2f} and {lowest_bmi:.2f} respectively')"
   ]
  },
  {
   "cell_type": "markdown",
   "id": "c4658f06",
   "metadata": {
    "id": "c4658f06"
   },
   "source": [
    "#### 7.What is the average BMI ?\n"
   ]
  },
  {
   "cell_type": "code",
   "execution_count": 48,
   "id": "00b99341",
   "metadata": {
    "colab": {
     "base_uri": "https://localhost:8080/"
    },
    "id": "00b99341",
    "outputId": "49923b41-dd6a-4d38-dffc-ef10aba5cdb7"
   },
   "outputs": [
    {
     "name": "stdout",
     "output_type": "stream",
     "text": [
      "The average BMI is 32.34\n"
     ]
    }
   ],
   "source": [
    "average_bmi = train_df['BMI'].mean()\n",
    "\n",
    "print(f'The average BMI is {average_bmi:.2f}')"
   ]
  },
  {
   "cell_type": "markdown",
   "id": "745855c0",
   "metadata": {
    "id": "745855c0"
   },
   "source": [
    "#### 8. Is there a corelation between the Sepssis status and the other attributes?"
   ]
  },
  {
   "cell_type": "code",
   "execution_count": 49,
   "id": "328bba13",
   "metadata": {
    "colab": {
     "base_uri": "https://localhost:8080/",
     "height": 270
    },
    "id": "328bba13",
    "outputId": "df503096-3f2e-4944-c5e4-d563a1ce50cd"
   },
   "outputs": [
    {
     "data": {
      "text/html": [
       "<div>\n",
       "<style scoped>\n",
       "    .dataframe tbody tr th:only-of-type {\n",
       "        vertical-align: middle;\n",
       "    }\n",
       "\n",
       "    .dataframe tbody tr th {\n",
       "        vertical-align: top;\n",
       "    }\n",
       "\n",
       "    .dataframe thead th {\n",
       "        text-align: right;\n",
       "    }\n",
       "</style>\n",
       "<table border=\"1\" class=\"dataframe\">\n",
       "  <thead>\n",
       "    <tr style=\"text-align: right;\">\n",
       "      <th></th>\n",
       "      <th>ID</th>\n",
       "      <th>Plasma_glucose</th>\n",
       "      <th>Blood_Work_R1</th>\n",
       "      <th>Blood_Pressure</th>\n",
       "      <th>Blood_Work_R2</th>\n",
       "      <th>Blood_Work_R3</th>\n",
       "      <th>BMI</th>\n",
       "      <th>Blood_Work_R4</th>\n",
       "      <th>Patient_age</th>\n",
       "      <th>Insurance</th>\n",
       "      <th>Target</th>\n",
       "    </tr>\n",
       "  </thead>\n",
       "  <tbody>\n",
       "    <tr>\n",
       "      <th>0</th>\n",
       "      <td>ICU200010</td>\n",
       "      <td>6.0</td>\n",
       "      <td>148.0</td>\n",
       "      <td>72.0</td>\n",
       "      <td>35.0</td>\n",
       "      <td>39.0</td>\n",
       "      <td>33.6</td>\n",
       "      <td>0.627000</td>\n",
       "      <td>50.0</td>\n",
       "      <td>0</td>\n",
       "      <td>1</td>\n",
       "    </tr>\n",
       "    <tr>\n",
       "      <th>1</th>\n",
       "      <td>ICU200011</td>\n",
       "      <td>1.0</td>\n",
       "      <td>85.0</td>\n",
       "      <td>66.0</td>\n",
       "      <td>29.0</td>\n",
       "      <td>39.0</td>\n",
       "      <td>26.6</td>\n",
       "      <td>0.351000</td>\n",
       "      <td>31.0</td>\n",
       "      <td>0</td>\n",
       "      <td>0</td>\n",
       "    </tr>\n",
       "    <tr>\n",
       "      <th>2</th>\n",
       "      <td>ICU200012</td>\n",
       "      <td>8.0</td>\n",
       "      <td>183.0</td>\n",
       "      <td>64.0</td>\n",
       "      <td>23.0</td>\n",
       "      <td>39.0</td>\n",
       "      <td>23.3</td>\n",
       "      <td>0.672000</td>\n",
       "      <td>32.0</td>\n",
       "      <td>1</td>\n",
       "      <td>1</td>\n",
       "    </tr>\n",
       "    <tr>\n",
       "      <th>3</th>\n",
       "      <td>ICU200013</td>\n",
       "      <td>1.0</td>\n",
       "      <td>89.0</td>\n",
       "      <td>66.0</td>\n",
       "      <td>23.0</td>\n",
       "      <td>94.0</td>\n",
       "      <td>28.1</td>\n",
       "      <td>0.167000</td>\n",
       "      <td>21.0</td>\n",
       "      <td>1</td>\n",
       "      <td>0</td>\n",
       "    </tr>\n",
       "    <tr>\n",
       "      <th>4</th>\n",
       "      <td>ICU200014</td>\n",
       "      <td>3.0</td>\n",
       "      <td>137.0</td>\n",
       "      <td>40.0</td>\n",
       "      <td>35.0</td>\n",
       "      <td>168.0</td>\n",
       "      <td>43.1</td>\n",
       "      <td>1.253375</td>\n",
       "      <td>33.0</td>\n",
       "      <td>1</td>\n",
       "      <td>1</td>\n",
       "    </tr>\n",
       "  </tbody>\n",
       "</table>\n",
       "</div>"
      ],
      "text/plain": [
       "          ID  Plasma_glucose  Blood_Work_R1  Blood_Pressure  Blood_Work_R2  \\\n",
       "0  ICU200010             6.0          148.0            72.0           35.0   \n",
       "1  ICU200011             1.0           85.0            66.0           29.0   \n",
       "2  ICU200012             8.0          183.0            64.0           23.0   \n",
       "3  ICU200013             1.0           89.0            66.0           23.0   \n",
       "4  ICU200014             3.0          137.0            40.0           35.0   \n",
       "\n",
       "   Blood_Work_R3   BMI  Blood_Work_R4  Patient_age  Insurance  Target  \n",
       "0           39.0  33.6       0.627000         50.0          0       1  \n",
       "1           39.0  26.6       0.351000         31.0          0       0  \n",
       "2           39.0  23.3       0.672000         32.0          1       1  \n",
       "3           94.0  28.1       0.167000         21.0          1       0  \n",
       "4          168.0  43.1       1.253375         33.0          1       1  "
      ]
     },
     "execution_count": 49,
     "metadata": {},
     "output_type": "execute_result"
    }
   ],
   "source": [
    "# Replace \"Positive\" with 1 and \"Negative\" with 0\n",
    "train_df['Target'] = train_df['Target'].replace({'Positive': 1, 'Negative': 0})\n",
    "\n",
    "# Print the updated DataFrame\n",
    "train_df.head(5)"
   ]
  },
  {
   "cell_type": "code",
   "execution_count": 50,
   "id": "acddbad6",
   "metadata": {
    "colab": {
     "base_uri": "https://localhost:8080/"
    },
    "id": "acddbad6",
    "outputId": "916a4da1-adcc-4379-836d-10e1fd3b5bc6"
   },
   "outputs": [
    {
     "name": "stdout",
     "output_type": "stream",
     "text": [
      "Blood_Work_R1 has a moderate correlation with Sepssis status (correlation value: 0.4614006382433301)\n",
      "BMI has a moderate correlation with Sepssis status (correlation value: 0.32856225936850497)\n"
     ]
    }
   ],
   "source": [
    "# Calculate the correlation between Sepssis status and other attributes\n",
    "correlation_with_target = train_df.drop('ID', axis=1).corr()['Target'].drop('Target')\n",
    "\n",
    "# Set the threshold for significant correlation\n",
    "threshold = 0.3\n",
    "\n",
    "# Find the attributes with significant correlation to Sepssis status\n",
    "significant_correlation = correlation_with_target.abs() > threshold\n",
    "\n",
    "# Get the attributes with significant correlation to Sepssis status\n",
    "correlated_attributes = correlation_with_target[significant_correlation]\n",
    "\n",
    "# Print the attributes with significant correlation to Sepssis status\n",
    "for attribute, correlation_value in correlated_attributes.items():\n",
    "    print(f\"{attribute} has a moderate correlation with Sepssis status (correlation value: {correlation_value})\")"
   ]
  },
  {
   "cell_type": "markdown",
   "id": "377abec9",
   "metadata": {
    "id": "377abec9"
   },
   "source": [
    "## Feature Processing and Engineering"
   ]
  },
  {
   "cell_type": "markdown",
   "id": "faa44623",
   "metadata": {
    "id": "faa44623"
   },
   "source": [
    "#### Check and Drop Duplicates "
   ]
  },
  {
   "cell_type": "code",
   "execution_count": 51,
   "id": "9d160521",
   "metadata": {
    "colab": {
     "base_uri": "https://localhost:8080/"
    },
    "id": "9d160521",
    "outputId": "6133506d-010a-4609-9231-5aa1e57c7916"
   },
   "outputs": [
    {
     "name": "stdout",
     "output_type": "stream",
     "text": [
      "Number of duplicate rows: 0\n"
     ]
    }
   ],
   "source": [
    "#Check for duplicate rows in data\n",
    "duplicate_rows = train_df.duplicated()\n",
    "print(\"Number of duplicate rows:\", duplicate_rows.sum())"
   ]
  },
  {
   "cell_type": "markdown",
   "id": "50a7072c",
   "metadata": {
    "id": "50a7072c"
   },
   "source": [
    "#### Impute Missing Values "
   ]
  },
  {
   "cell_type": "code",
   "execution_count": 52,
   "id": "8c83f5bc",
   "metadata": {
    "colab": {
     "base_uri": "https://localhost:8080/"
    },
    "id": "8c83f5bc",
    "outputId": "5fe48ea5-0487-463c-f4c7-243bf126d0ca"
   },
   "outputs": [
    {
     "name": "stdout",
     "output_type": "stream",
     "text": [
      "ID                0\n",
      "Plasma_glucose    0\n",
      "Blood_Work_R1     0\n",
      "Blood_Pressure    0\n",
      "Blood_Work_R2     0\n",
      "Blood_Work_R3     0\n",
      "BMI               0\n",
      "Blood_Work_R4     0\n",
      "Patient_age       0\n",
      "Insurance         0\n",
      "Target            0\n",
      "dtype: int64\n"
     ]
    }
   ],
   "source": [
    "missing_values = train_df.isna().sum()\n",
    "print(missing_values)"
   ]
  },
  {
   "cell_type": "markdown",
   "id": "c4d93a3d",
   "metadata": {
    "id": "c4d93a3d"
   },
   "source": [
    "## Drop Unnecessary Columns"
   ]
  },
  {
   "cell_type": "markdown",
   "id": "65f74a29",
   "metadata": {
    "id": "65f74a29"
   },
   "source": [
    "We will remove Blood_work_R2 since it is also highly correlated to BMI\n",
    "\n",
    "We will remove the ID column\n",
    "\n",
    "we drop Insurance as well since it isnt a relevant field "
   ]
  },
  {
   "cell_type": "code",
   "execution_count": 53,
   "id": "23e7eaf6",
   "metadata": {
    "id": "23e7eaf6"
   },
   "outputs": [],
   "source": [
    "train_df_new = train_df.drop(['Blood_Work_R2', 'ID', 'Insurance'], axis=1)"
   ]
  },
  {
   "cell_type": "code",
   "execution_count": 54,
   "id": "242aa0b9",
   "metadata": {
    "colab": {
     "base_uri": "https://localhost:8080/",
     "height": 424
    },
    "id": "242aa0b9",
    "outputId": "50040ad7-0aab-4b34-ca4a-669d64ec96be"
   },
   "outputs": [
    {
     "data": {
      "text/html": [
       "<div>\n",
       "<style scoped>\n",
       "    .dataframe tbody tr th:only-of-type {\n",
       "        vertical-align: middle;\n",
       "    }\n",
       "\n",
       "    .dataframe tbody tr th {\n",
       "        vertical-align: top;\n",
       "    }\n",
       "\n",
       "    .dataframe thead th {\n",
       "        text-align: right;\n",
       "    }\n",
       "</style>\n",
       "<table border=\"1\" class=\"dataframe\">\n",
       "  <thead>\n",
       "    <tr style=\"text-align: right;\">\n",
       "      <th></th>\n",
       "      <th>Plasma_glucose</th>\n",
       "      <th>Blood_Work_R1</th>\n",
       "      <th>Blood_Pressure</th>\n",
       "      <th>Blood_Work_R3</th>\n",
       "      <th>BMI</th>\n",
       "      <th>Blood_Work_R4</th>\n",
       "      <th>Patient_age</th>\n",
       "      <th>Target</th>\n",
       "    </tr>\n",
       "  </thead>\n",
       "  <tbody>\n",
       "    <tr>\n",
       "      <th>0</th>\n",
       "      <td>6.0</td>\n",
       "      <td>148.0</td>\n",
       "      <td>72.0</td>\n",
       "      <td>39.0</td>\n",
       "      <td>33.6</td>\n",
       "      <td>0.627000</td>\n",
       "      <td>50.0</td>\n",
       "      <td>1</td>\n",
       "    </tr>\n",
       "    <tr>\n",
       "      <th>1</th>\n",
       "      <td>1.0</td>\n",
       "      <td>85.0</td>\n",
       "      <td>66.0</td>\n",
       "      <td>39.0</td>\n",
       "      <td>26.6</td>\n",
       "      <td>0.351000</td>\n",
       "      <td>31.0</td>\n",
       "      <td>0</td>\n",
       "    </tr>\n",
       "    <tr>\n",
       "      <th>2</th>\n",
       "      <td>8.0</td>\n",
       "      <td>183.0</td>\n",
       "      <td>64.0</td>\n",
       "      <td>39.0</td>\n",
       "      <td>23.3</td>\n",
       "      <td>0.672000</td>\n",
       "      <td>32.0</td>\n",
       "      <td>1</td>\n",
       "    </tr>\n",
       "    <tr>\n",
       "      <th>3</th>\n",
       "      <td>1.0</td>\n",
       "      <td>89.0</td>\n",
       "      <td>66.0</td>\n",
       "      <td>94.0</td>\n",
       "      <td>28.1</td>\n",
       "      <td>0.167000</td>\n",
       "      <td>21.0</td>\n",
       "      <td>0</td>\n",
       "    </tr>\n",
       "    <tr>\n",
       "      <th>4</th>\n",
       "      <td>3.0</td>\n",
       "      <td>137.0</td>\n",
       "      <td>40.0</td>\n",
       "      <td>168.0</td>\n",
       "      <td>43.1</td>\n",
       "      <td>1.253375</td>\n",
       "      <td>33.0</td>\n",
       "      <td>1</td>\n",
       "    </tr>\n",
       "    <tr>\n",
       "      <th>...</th>\n",
       "      <td>...</td>\n",
       "      <td>...</td>\n",
       "      <td>...</td>\n",
       "      <td>...</td>\n",
       "      <td>...</td>\n",
       "      <td>...</td>\n",
       "      <td>...</td>\n",
       "      <td>...</td>\n",
       "    </tr>\n",
       "    <tr>\n",
       "      <th>594</th>\n",
       "      <td>6.0</td>\n",
       "      <td>123.0</td>\n",
       "      <td>72.0</td>\n",
       "      <td>230.0</td>\n",
       "      <td>33.6</td>\n",
       "      <td>0.733000</td>\n",
       "      <td>34.0</td>\n",
       "      <td>0</td>\n",
       "    </tr>\n",
       "    <tr>\n",
       "      <th>595</th>\n",
       "      <td>3.0</td>\n",
       "      <td>188.0</td>\n",
       "      <td>82.0</td>\n",
       "      <td>185.0</td>\n",
       "      <td>32.0</td>\n",
       "      <td>0.682000</td>\n",
       "      <td>22.0</td>\n",
       "      <td>1</td>\n",
       "    </tr>\n",
       "    <tr>\n",
       "      <th>596</th>\n",
       "      <td>3.0</td>\n",
       "      <td>67.0</td>\n",
       "      <td>76.0</td>\n",
       "      <td>39.0</td>\n",
       "      <td>45.3</td>\n",
       "      <td>0.194000</td>\n",
       "      <td>46.0</td>\n",
       "      <td>0</td>\n",
       "    </tr>\n",
       "    <tr>\n",
       "      <th>597</th>\n",
       "      <td>1.0</td>\n",
       "      <td>89.0</td>\n",
       "      <td>40.0</td>\n",
       "      <td>25.0</td>\n",
       "      <td>27.8</td>\n",
       "      <td>0.559000</td>\n",
       "      <td>21.0</td>\n",
       "      <td>0</td>\n",
       "    </tr>\n",
       "    <tr>\n",
       "      <th>598</th>\n",
       "      <td>1.0</td>\n",
       "      <td>173.0</td>\n",
       "      <td>74.0</td>\n",
       "      <td>39.0</td>\n",
       "      <td>36.8</td>\n",
       "      <td>0.088000</td>\n",
       "      <td>38.0</td>\n",
       "      <td>1</td>\n",
       "    </tr>\n",
       "  </tbody>\n",
       "</table>\n",
       "<p>590 rows × 8 columns</p>\n",
       "</div>"
      ],
      "text/plain": [
       "     Plasma_glucose  Blood_Work_R1  Blood_Pressure  Blood_Work_R3   BMI  \\\n",
       "0               6.0          148.0            72.0           39.0  33.6   \n",
       "1               1.0           85.0            66.0           39.0  26.6   \n",
       "2               8.0          183.0            64.0           39.0  23.3   \n",
       "3               1.0           89.0            66.0           94.0  28.1   \n",
       "4               3.0          137.0            40.0          168.0  43.1   \n",
       "..              ...            ...             ...            ...   ...   \n",
       "594             6.0          123.0            72.0          230.0  33.6   \n",
       "595             3.0          188.0            82.0          185.0  32.0   \n",
       "596             3.0           67.0            76.0           39.0  45.3   \n",
       "597             1.0           89.0            40.0           25.0  27.8   \n",
       "598             1.0          173.0            74.0           39.0  36.8   \n",
       "\n",
       "     Blood_Work_R4  Patient_age  Target  \n",
       "0         0.627000         50.0       1  \n",
       "1         0.351000         31.0       0  \n",
       "2         0.672000         32.0       1  \n",
       "3         0.167000         21.0       0  \n",
       "4         1.253375         33.0       1  \n",
       "..             ...          ...     ...  \n",
       "594       0.733000         34.0       0  \n",
       "595       0.682000         22.0       1  \n",
       "596       0.194000         46.0       0  \n",
       "597       0.559000         21.0       0  \n",
       "598       0.088000         38.0       1  \n",
       "\n",
       "[590 rows x 8 columns]"
      ]
     },
     "execution_count": 54,
     "metadata": {},
     "output_type": "execute_result"
    }
   ],
   "source": [
    "train_df_new"
   ]
  },
  {
   "cell_type": "markdown",
   "id": "bc072220",
   "metadata": {
    "id": "bc072220"
   },
   "source": [
    "## Data Spliting "
   ]
  },
  {
   "cell_type": "code",
   "execution_count": 55,
   "id": "cf361152",
   "metadata": {
    "id": "cf361152"
   },
   "outputs": [],
   "source": [
    "# Use train_test_split with a random_state, and add stratify for Classification\n",
    "# Split the  data into train and validation sets\n",
    "X_train, X_test, y_train, y_test = train_test_split(train_df_new.iloc[:, :-1], \n",
    "                                                    train_df_new.iloc[:, -1:],\n",
    "                                                    test_size=0.2, random_state=42, \n",
    "                                                    stratify=train_df_new.iloc[:, -1:])\n"
   ]
  },
  {
   "cell_type": "code",
   "execution_count": 56,
   "id": "96c23f59",
   "metadata": {
    "colab": {
     "base_uri": "https://localhost:8080/"
    },
    "id": "96c23f59",
    "outputId": "057d6a23-e0ea-4c11-d096-d6eaa8b9d3d2"
   },
   "outputs": [
    {
     "data": {
      "text/plain": [
       "((472, 7), (118, 7), (472, 1), (118, 1))"
      ]
     },
     "execution_count": 56,
     "metadata": {},
     "output_type": "execute_result"
    }
   ],
   "source": [
    "X_train.shape,X_test.shape,y_train.shape,y_test.shape"
   ]
  },
  {
   "cell_type": "code",
   "execution_count": 57,
   "id": "24ca45b8",
   "metadata": {
    "colab": {
     "base_uri": "https://localhost:8080/",
     "height": 424
    },
    "id": "24ca45b8",
    "outputId": "92b94860-216e-47f9-a4f9-9898fd47d0ce",
    "scrolled": true
   },
   "outputs": [
    {
     "data": {
      "text/html": [
       "<div>\n",
       "<style scoped>\n",
       "    .dataframe tbody tr th:only-of-type {\n",
       "        vertical-align: middle;\n",
       "    }\n",
       "\n",
       "    .dataframe tbody tr th {\n",
       "        vertical-align: top;\n",
       "    }\n",
       "\n",
       "    .dataframe thead th {\n",
       "        text-align: right;\n",
       "    }\n",
       "</style>\n",
       "<table border=\"1\" class=\"dataframe\">\n",
       "  <thead>\n",
       "    <tr style=\"text-align: right;\">\n",
       "      <th></th>\n",
       "      <th>Plasma_glucose</th>\n",
       "      <th>Blood_Work_R1</th>\n",
       "      <th>Blood_Pressure</th>\n",
       "      <th>Blood_Work_R3</th>\n",
       "      <th>BMI</th>\n",
       "      <th>Blood_Work_R4</th>\n",
       "      <th>Patient_age</th>\n",
       "    </tr>\n",
       "  </thead>\n",
       "  <tbody>\n",
       "    <tr>\n",
       "      <th>244</th>\n",
       "      <td>2.0</td>\n",
       "      <td>146.0</td>\n",
       "      <td>76.0</td>\n",
       "      <td>194.0</td>\n",
       "      <td>38.2000</td>\n",
       "      <td>0.329</td>\n",
       "      <td>29.0</td>\n",
       "    </tr>\n",
       "    <tr>\n",
       "      <th>5</th>\n",
       "      <td>5.0</td>\n",
       "      <td>116.0</td>\n",
       "      <td>74.0</td>\n",
       "      <td>39.0</td>\n",
       "      <td>25.6000</td>\n",
       "      <td>0.201</td>\n",
       "      <td>30.0</td>\n",
       "    </tr>\n",
       "    <tr>\n",
       "      <th>115</th>\n",
       "      <td>4.0</td>\n",
       "      <td>146.0</td>\n",
       "      <td>92.0</td>\n",
       "      <td>39.0</td>\n",
       "      <td>31.2000</td>\n",
       "      <td>0.539</td>\n",
       "      <td>61.0</td>\n",
       "    </tr>\n",
       "    <tr>\n",
       "      <th>123</th>\n",
       "      <td>5.0</td>\n",
       "      <td>132.0</td>\n",
       "      <td>80.0</td>\n",
       "      <td>39.0</td>\n",
       "      <td>26.8000</td>\n",
       "      <td>0.186</td>\n",
       "      <td>64.0</td>\n",
       "    </tr>\n",
       "    <tr>\n",
       "      <th>99</th>\n",
       "      <td>1.0</td>\n",
       "      <td>122.0</td>\n",
       "      <td>90.0</td>\n",
       "      <td>220.0</td>\n",
       "      <td>49.7000</td>\n",
       "      <td>0.325</td>\n",
       "      <td>31.0</td>\n",
       "    </tr>\n",
       "    <tr>\n",
       "      <th>...</th>\n",
       "      <td>...</td>\n",
       "      <td>...</td>\n",
       "      <td>...</td>\n",
       "      <td>...</td>\n",
       "      <td>...</td>\n",
       "      <td>...</td>\n",
       "      <td>...</td>\n",
       "    </tr>\n",
       "    <tr>\n",
       "      <th>125</th>\n",
       "      <td>1.0</td>\n",
       "      <td>88.0</td>\n",
       "      <td>40.0</td>\n",
       "      <td>99.0</td>\n",
       "      <td>50.5125</td>\n",
       "      <td>0.496</td>\n",
       "      <td>26.0</td>\n",
       "    </tr>\n",
       "    <tr>\n",
       "      <th>69</th>\n",
       "      <td>4.0</td>\n",
       "      <td>146.0</td>\n",
       "      <td>85.0</td>\n",
       "      <td>100.0</td>\n",
       "      <td>28.9000</td>\n",
       "      <td>0.189</td>\n",
       "      <td>27.0</td>\n",
       "    </tr>\n",
       "    <tr>\n",
       "      <th>112</th>\n",
       "      <td>1.0</td>\n",
       "      <td>89.0</td>\n",
       "      <td>76.0</td>\n",
       "      <td>37.0</td>\n",
       "      <td>31.2000</td>\n",
       "      <td>0.192</td>\n",
       "      <td>23.0</td>\n",
       "    </tr>\n",
       "    <tr>\n",
       "      <th>178</th>\n",
       "      <td>5.0</td>\n",
       "      <td>143.0</td>\n",
       "      <td>78.0</td>\n",
       "      <td>39.0</td>\n",
       "      <td>45.0000</td>\n",
       "      <td>0.190</td>\n",
       "      <td>47.0</td>\n",
       "    </tr>\n",
       "    <tr>\n",
       "      <th>550</th>\n",
       "      <td>1.0</td>\n",
       "      <td>116.0</td>\n",
       "      <td>70.0</td>\n",
       "      <td>39.0</td>\n",
       "      <td>27.4000</td>\n",
       "      <td>0.204</td>\n",
       "      <td>21.0</td>\n",
       "    </tr>\n",
       "  </tbody>\n",
       "</table>\n",
       "<p>472 rows × 7 columns</p>\n",
       "</div>"
      ],
      "text/plain": [
       "     Plasma_glucose  Blood_Work_R1  Blood_Pressure  Blood_Work_R3      BMI  \\\n",
       "244             2.0          146.0            76.0          194.0  38.2000   \n",
       "5               5.0          116.0            74.0           39.0  25.6000   \n",
       "115             4.0          146.0            92.0           39.0  31.2000   \n",
       "123             5.0          132.0            80.0           39.0  26.8000   \n",
       "99              1.0          122.0            90.0          220.0  49.7000   \n",
       "..              ...            ...             ...            ...      ...   \n",
       "125             1.0           88.0            40.0           99.0  50.5125   \n",
       "69              4.0          146.0            85.0          100.0  28.9000   \n",
       "112             1.0           89.0            76.0           37.0  31.2000   \n",
       "178             5.0          143.0            78.0           39.0  45.0000   \n",
       "550             1.0          116.0            70.0           39.0  27.4000   \n",
       "\n",
       "     Blood_Work_R4  Patient_age  \n",
       "244          0.329         29.0  \n",
       "5            0.201         30.0  \n",
       "115          0.539         61.0  \n",
       "123          0.186         64.0  \n",
       "99           0.325         31.0  \n",
       "..             ...          ...  \n",
       "125          0.496         26.0  \n",
       "69           0.189         27.0  \n",
       "112          0.192         23.0  \n",
       "178          0.190         47.0  \n",
       "550          0.204         21.0  \n",
       "\n",
       "[472 rows x 7 columns]"
      ]
     },
     "execution_count": 57,
     "metadata": {},
     "output_type": "execute_result"
    }
   ],
   "source": [
    "X_train"
   ]
  },
  {
   "cell_type": "code",
   "execution_count": 58,
   "id": "5e5af438",
   "metadata": {
    "colab": {
     "base_uri": "https://localhost:8080/",
     "height": 424
    },
    "id": "5e5af438",
    "outputId": "93c1524c-5ea5-4ad7-cc71-cd410c7072a4",
    "scrolled": true
   },
   "outputs": [
    {
     "data": {
      "text/html": [
       "<div>\n",
       "<style scoped>\n",
       "    .dataframe tbody tr th:only-of-type {\n",
       "        vertical-align: middle;\n",
       "    }\n",
       "\n",
       "    .dataframe tbody tr th {\n",
       "        vertical-align: top;\n",
       "    }\n",
       "\n",
       "    .dataframe thead th {\n",
       "        text-align: right;\n",
       "    }\n",
       "</style>\n",
       "<table border=\"1\" class=\"dataframe\">\n",
       "  <thead>\n",
       "    <tr style=\"text-align: right;\">\n",
       "      <th></th>\n",
       "      <th>Target</th>\n",
       "    </tr>\n",
       "  </thead>\n",
       "  <tbody>\n",
       "    <tr>\n",
       "      <th>244</th>\n",
       "      <td>0</td>\n",
       "    </tr>\n",
       "    <tr>\n",
       "      <th>5</th>\n",
       "      <td>0</td>\n",
       "    </tr>\n",
       "    <tr>\n",
       "      <th>115</th>\n",
       "      <td>1</td>\n",
       "    </tr>\n",
       "    <tr>\n",
       "      <th>123</th>\n",
       "      <td>0</td>\n",
       "    </tr>\n",
       "    <tr>\n",
       "      <th>99</th>\n",
       "      <td>1</td>\n",
       "    </tr>\n",
       "    <tr>\n",
       "      <th>...</th>\n",
       "      <td>...</td>\n",
       "    </tr>\n",
       "    <tr>\n",
       "      <th>125</th>\n",
       "      <td>1</td>\n",
       "    </tr>\n",
       "    <tr>\n",
       "      <th>69</th>\n",
       "      <td>0</td>\n",
       "    </tr>\n",
       "    <tr>\n",
       "      <th>112</th>\n",
       "      <td>0</td>\n",
       "    </tr>\n",
       "    <tr>\n",
       "      <th>178</th>\n",
       "      <td>0</td>\n",
       "    </tr>\n",
       "    <tr>\n",
       "      <th>550</th>\n",
       "      <td>0</td>\n",
       "    </tr>\n",
       "  </tbody>\n",
       "</table>\n",
       "<p>472 rows × 1 columns</p>\n",
       "</div>"
      ],
      "text/plain": [
       "     Target\n",
       "244       0\n",
       "5         0\n",
       "115       1\n",
       "123       0\n",
       "99        1\n",
       "..      ...\n",
       "125       1\n",
       "69        0\n",
       "112       0\n",
       "178       0\n",
       "550       0\n",
       "\n",
       "[472 rows x 1 columns]"
      ]
     },
     "execution_count": 58,
     "metadata": {},
     "output_type": "execute_result"
    }
   ],
   "source": [
    "y_train"
   ]
  },
  {
   "cell_type": "markdown",
   "id": "3725a195",
   "metadata": {
    "id": "3725a195"
   },
   "source": [
    "## Data Imbalance Check"
   ]
  },
  {
   "cell_type": "code",
   "execution_count": 59,
   "id": "95d23889",
   "metadata": {
    "colab": {
     "base_uri": "https://localhost:8080/",
     "height": 419
    },
    "id": "95d23889",
    "outputId": "b901f44d-95a5-4e6b-88c2-48d77592b2f1"
   },
   "outputs": [
    {
     "data": {
      "image/png": "[encoded data removed]",
      "text/plain": [
       "<Figure size 432x288 with 1 Axes>"
      ]
     },
     "metadata": {},
     "output_type": "display_data"
    }
   ],
   "source": [
    "plt.figure(figsize=(6, 4))\n",
    "sns.set(style=\"darkgrid\")\n",
    "sns.countplot(x='Target', data=y_train)\n",
    "\n",
    "plt.xlabel('Target')\n",
    "plt.ylabel('Count')\n",
    "plt.title('Distribution of Target Variable')\n",
    "\n",
    "plt.show()"
   ]
  },
  {
   "cell_type": "markdown",
   "id": "3c5098e1",
   "metadata": {
    "id": "3c5098e1"
   },
   "source": [
    "Dataset is imbalanced so we can't use Accuracy Score to choose our model\n",
    "\n",
    "To solve this issue:\n",
    "we'll Oversample our minority class using RandomOverSampler"
   ]
  },
  {
   "cell_type": "code",
   "execution_count": 60,
   "id": "e6928610",
   "metadata": {
    "colab": {
     "base_uri": "https://localhost:8080/"
    },
    "id": "e6928610",
    "outputId": "21211477-551e-4f48-e354-dc1e042ce772"
   },
   "outputs": [
    {
     "name": "stdout",
     "output_type": "stream",
     "text": [
      "Original class distribution:\n",
      "0    306\n",
      "1    166\n",
      "Name: Target, dtype: int64\n",
      "\n",
      "Resampled class distribution:\n",
      "0    306\n",
      "1    306\n",
      "Name: Target, dtype: int64\n"
     ]
    }
   ],
   "source": [
    "# Create a DataFrame to represent y_train\n",
    "y_train_df = pd.DataFrame(y_train, columns=['Target'])\n",
    "\n",
    "# Display the class distribution of the original y_train DataFrame\n",
    "print(\"Original class distribution:\")\n",
    "print(y_train_df['Target'].value_counts())\n",
    "\n",
    "# Perform random oversampling on the training data\n",
    "ros = RandomOverSampler(random_state=0)\n",
    "X_train_resampled, y_train_resampled = ros.fit_resample(X_train, y_train)\n",
    "\n",
    "# Create a DataFrame to represent the resampled y_train\n",
    "y_train_resampled_df = pd.DataFrame(y_train_resampled, columns=['Target'])\n",
    "\n",
    "# Display the class distribution of the resampled y_train DataFrame\n",
    "print(\"\\nResampled class distribution:\")\n",
    "print(y_train_resampled_df['Target'].value_counts())\n",
    "\n",
    "# Assign the resampled data to X_train and y_train\n",
    "X_train, y_train = X_train_resampled, y_train_resampled\n"
   ]
  },
  {
   "cell_type": "markdown",
   "id": "e27a417a",
   "metadata": {
    "id": "e27a417a"
   },
   "source": [
    "## Feature Scaling "
   ]
  },
  {
   "cell_type": "code",
   "execution_count": 61,
   "id": "5b90f4d9",
   "metadata": {
    "id": "5b90f4d9"
   },
   "outputs": [],
   "source": [
    "# Create an instance of StandardScaler and set output to be a DataFrame\n",
    "scaler = StandardScaler().fit(X_train).set_output (transform=\"pandas\")\n",
    "\n",
    "# Scale the training data\n",
    "X_train_df = scaler.transform(X_train)\n",
    "\n",
    "# Scale the test data using the same scaler\n",
    "X_test_df = scaler.transform(X_test)"
   ]
  },
  {
   "cell_type": "markdown",
   "id": "200ba14b",
   "metadata": {
    "id": "200ba14b"
   },
   "source": [
    "# Machine Learning"
   ]
  },
  {
   "cell_type": "markdown",
   "id": "c1940513",
   "metadata": {
    "id": "c1940513"
   },
   "source": [
    "#### Here is the section to build, train, evaluate and compare the models to each other.\n",
    "\n",
    "1. Logistic Regression\n",
    "2. RandomForest Classifier\n",
    "3. XGBoost Classifier\n",
    "4. K Nearest Neighbors\n",
    "5. Support Vector Machines \n",
    "6. DecisionTreeClassifier\n",
    "7. Gradient Boosting Classifier Model"
   ]
  },
  {
   "cell_type": "markdown",
   "id": "0e530208",
   "metadata": {
    "id": "0e530208"
   },
   "source": [
    "## 1.  Logistic Regression"
   ]
  },
  {
   "cell_type": "code",
   "execution_count": 62,
   "id": "0042009a",
   "metadata": {
    "id": "0042009a"
   },
   "outputs": [],
   "source": [
    "# Instanciate the model\n",
    "lr = LogisticRegression(random_state=42)"
   ]
  },
  {
   "cell_type": "code",
   "execution_count": 63,
   "id": "6644e40a",
   "metadata": {
    "colab": {
     "base_uri": "https://localhost:8080/",
     "height": 75
    },
    "id": "6644e40a",
    "outputId": "02304147-a11b-4e13-f040-95381a203fd6"
   },
   "outputs": [
    {
     "data": {
      "text/html": [
       "<style>#sk-container-id-1 {color: black;background-color: white;}#sk-container-id-1 pre{padding: 0;}#sk-container-id-1 div.sk-toggleable {background-color: white;}#sk-container-id-1 label.sk-toggleable__label {cursor: pointer;display: block;width: 100%;margin-bottom: 0;padding: 0.3em;box-sizing: border-box;text-align: center;}#sk-container-id-1 label.sk-toggleable__label-arrow:before {content: \"▸\";float: left;margin-right: 0.25em;color: #696969;}#sk-container-id-1 label.sk-toggleable__label-arrow:hover:before {color: black;}#sk-container-id-1 div.sk-estimator:hover label.sk-toggleable__label-arrow:before {color: black;}#sk-container-id-1 div.sk-toggleable__content {max-height: 0;max-width: 0;overflow: hidden;text-align: left;background-color: #f0f8ff;}#sk-container-id-1 div.sk-toggleable__content pre {margin: 0.2em;color: black;border-radius: 0.25em;background-color: #f0f8ff;}#sk-container-id-1 input.sk-toggleable__control:checked~div.sk-toggleable__content {max-height: 200px;max-width: 100%;overflow: auto;}#sk-container-id-1 input.sk-toggleable__control:checked~label.sk-toggleable__label-arrow:before {content: \"▾\";}#sk-container-id-1 div.sk-estimator input.sk-toggleable__control:checked~label.sk-toggleable__label {background-color: #d4ebff;}#sk-container-id-1 div.sk-label input.sk-toggleable__control:checked~label.sk-toggleable__label {background-color: #d4ebff;}#sk-container-id-1 input.sk-hidden--visually {border: 0;clip: rect(1px 1px 1px 1px);clip: rect(1px, 1px, 1px, 1px);height: 1px;margin: -1px;overflow: hidden;padding: 0;position: absolute;width: 1px;}#sk-container-id-1 div.sk-estimator {font-family: monospace;background-color: #f0f8ff;border: 1px dotted black;border-radius: 0.25em;box-sizing: border-box;margin-bottom: 0.5em;}#sk-container-id-1 div.sk-estimator:hover {background-color: #d4ebff;}#sk-container-id-1 div.sk-parallel-item::after {content: \"\";width: 100%;border-bottom: 1px solid gray;flex-grow: 1;}#sk-container-id-1 div.sk-label:hover label.sk-toggleable__label {background-color: #d4ebff;}#sk-container-id-1 div.sk-serial::before {content: \"\";position: absolute;border-left: 1px solid gray;box-sizing: border-box;top: 0;bottom: 0;left: 50%;z-index: 0;}#sk-container-id-1 div.sk-serial {display: flex;flex-direction: column;align-items: center;background-color: white;padding-right: 0.2em;padding-left: 0.2em;position: relative;}#sk-container-id-1 div.sk-item {position: relative;z-index: 1;}#sk-container-id-1 div.sk-parallel {display: flex;align-items: stretch;justify-content: center;background-color: white;position: relative;}#sk-container-id-1 div.sk-item::before, #sk-container-id-1 div.sk-parallel-item::before {content: \"\";position: absolute;border-left: 1px solid gray;box-sizing: border-box;top: 0;bottom: 0;left: 50%;z-index: -1;}#sk-container-id-1 div.sk-parallel-item {display: flex;flex-direction: column;z-index: 1;position: relative;background-color: white;}#sk-container-id-1 div.sk-parallel-item:first-child::after {align-self: flex-end;width: 50%;}#sk-container-id-1 div.sk-parallel-item:last-child::after {align-self: flex-start;width: 50%;}#sk-container-id-1 div.sk-parallel-item:only-child::after {width: 0;}#sk-container-id-1 div.sk-dashed-wrapped {border: 1px dashed gray;margin: 0 0.4em 0.5em 0.4em;box-sizing: border-box;padding-bottom: 0.4em;background-color: white;}#sk-container-id-1 div.sk-label label {font-family: monospace;font-weight: bold;display: inline-block;line-height: 1.2em;}#sk-container-id-1 div.sk-label-container {text-align: center;}#sk-container-id-1 div.sk-container {/* jupyter's `normalize.less` sets `[hidden] { display: none; }` but bootstrap.min.css set `[hidden] { display: none !important; }` so we also need the `!important` here to be able to override the default hidden behavior on the sphinx rendered scikit-learn.org. See: https://github.com/scikit-learn/scikit-learn/issues/21755 */display: inline-block !important;position: relative;}#sk-container-id-1 div.sk-text-repr-fallback {display: none;}</style><div id=\"sk-container-id-1\" class=\"sk-top-container\"><div class=\"sk-text-repr-fallback\"><pre>LogisticRegression(random_state=42)</pre><b>In a Jupyter environment, please rerun this cell to show the HTML representation or trust the notebook. <br />On GitHub, the HTML representation is unable to render, please try loading this page with nbviewer.org.</b></div><div class=\"sk-container\" hidden><div class=\"sk-item\"><div class=\"sk-estimator sk-toggleable\"><input class=\"sk-toggleable__control sk-hidden--visually\" id=\"sk-estimator-id-1\" type=\"checkbox\" checked><label for=\"sk-estimator-id-1\" class=\"sk-toggleable__label sk-toggleable__label-arrow\">LogisticRegression</label><div class=\"sk-toggleable__content\"><pre>LogisticRegression(random_state=42)</pre></div></div></div></div></div>"
      ],
      "text/plain": [
       "LogisticRegression(random_state=42)"
      ]
     },
     "execution_count": 63,
     "metadata": {},
     "output_type": "execute_result"
    }
   ],
   "source": [
    "# Train the model on the training set\n",
    "lr.fit(X_train, y_train)"
   ]
  },
  {
   "cell_type": "code",
   "execution_count": 64,
   "id": "67d41124",
   "metadata": {
    "id": "67d41124"
   },
   "outputs": [],
   "source": [
    "# Predict on the test dataset\n",
    "pred = lr.predict(X_test)\n",
    "prob = lr.predict_proba(X_test)[:,1]"
   ]
  },
  {
   "cell_type": "code",
   "execution_count": 65,
   "id": "aadc325a",
   "metadata": {
    "colab": {
     "base_uri": "https://localhost:8080/"
    },
    "id": "aadc325a",
    "outputId": "1fb66794-c5da-4b04-8871-409b78a14350"
   },
   "outputs": [
    {
     "name": "stdout",
     "output_type": "stream",
     "text": [
      "recall_score :  0.7560975609756098\n",
      "precision_score : 0.62\n",
      "f1_score : 0.6813186813186813\n",
      "f2_score : 0.7242990654205608\n",
      "accuracy_score : 0.7542372881355932\n",
      "ROC_AUC Score: 0.7364705882352942\n"
     ]
    }
   ],
   "source": [
    "# model evaluation\n",
    "r_lgt= recall_score(y_test, pred)\n",
    "print(\"recall_score : \", r_lgt)\n",
    "\n",
    "p_lgt= precision_score(y_test, pred)\n",
    "print(\"precision_score :\",p_lgt)\n",
    "\n",
    "f1_lgt= f1_score(y_test, pred)\n",
    "print(\"f1_score :\", f1_lgt)\n",
    "\n",
    "f2_lgt = fbeta_score(y_test, pred, beta=2, average='binary')\n",
    "print(\"f2_score :\", f2_lgt)\n",
    "\n",
    "A_lgt= accuracy_score(pred, y_test)\n",
    "print(\"accuracy_score :\",A_lgt)\n",
    "\n",
    "acu_lgt = roc_auc_score(pred, y_test)\n",
    "print(\"ROC_AUC Score:\",acu_lgt)"
   ]
  },
  {
   "cell_type": "code",
   "execution_count": 66,
   "id": "839e0754",
   "metadata": {
    "colab": {
     "base_uri": "https://localhost:8080/",
     "height": 650
    },
    "id": "839e0754",
    "outputId": "7bd8bc66-36f4-40cd-bded-bd94ce1fda00"
   },
   "outputs": [
    {
     "data": {
      "image/png": "[encoded data removed]",
      "text/plain": [
       "<Figure size 720x504 with 1 Axes>"
      ]
     },
     "metadata": {},
     "output_type": "display_data"
    }
   ],
   "source": [
    "# plot the model evaluation\n",
    "fpr, tpr, _ = roc_curve(y_test, prob)\n",
    "fig, ax = plt.subplots(figsize=(10,7))\n",
    "plt.title('Logistic Regression ROC curve')\n",
    "plt.xlabel(\"False Positive Rate\")\n",
    "plt.ylabel(\"True Positive Rate\")\n",
    "plt.plot(fpr,tpr)\n",
    "plt.plot((0,1), linestyle=\"--\",color='black')\n",
    "plt.show()"
   ]
  },
  {
   "cell_type": "markdown",
   "id": "521ac565",
   "metadata": {
    "id": "521ac565"
   },
   "source": [
    "## 2. RandomForest Classifier"
   ]
  },
  {
   "cell_type": "code",
   "execution_count": 67,
   "id": "a3b7a25c",
   "metadata": {
    "id": "a3b7a25c"
   },
   "outputs": [],
   "source": [
    "# create the model\n",
    "rf_model= RandomForestClassifier()"
   ]
  },
  {
   "cell_type": "code",
   "execution_count": 68,
   "id": "31d54dfe",
   "metadata": {
    "colab": {
     "base_uri": "https://localhost:8080/",
     "height": 75
    },
    "id": "31d54dfe",
    "outputId": "21af79c4-6bd0-4668-ba3c-d24bfcdaf8a7"
   },
   "outputs": [
    {
     "data": {
      "text/html": [
       "<style>#sk-container-id-2 {color: black;background-color: white;}#sk-container-id-2 pre{padding: 0;}#sk-container-id-2 div.sk-toggleable {background-color: white;}#sk-container-id-2 label.sk-toggleable__label {cursor: pointer;display: block;width: 100%;margin-bottom: 0;padding: 0.3em;box-sizing: border-box;text-align: center;}#sk-container-id-2 label.sk-toggleable__label-arrow:before {content: \"▸\";float: left;margin-right: 0.25em;color: #696969;}#sk-container-id-2 label.sk-toggleable__label-arrow:hover:before {color: black;}#sk-container-id-2 div.sk-estimator:hover label.sk-toggleable__label-arrow:before {color: black;}#sk-container-id-2 div.sk-toggleable__content {max-height: 0;max-width: 0;overflow: hidden;text-align: left;background-color: #f0f8ff;}#sk-container-id-2 div.sk-toggleable__content pre {margin: 0.2em;color: black;border-radius: 0.25em;background-color: #f0f8ff;}#sk-container-id-2 input.sk-toggleable__control:checked~div.sk-toggleable__content {max-height: 200px;max-width: 100%;overflow: auto;}#sk-container-id-2 input.sk-toggleable__control:checked~label.sk-toggleable__label-arrow:before {content: \"▾\";}#sk-container-id-2 div.sk-estimator input.sk-toggleable__control:checked~label.sk-toggleable__label {background-color: #d4ebff;}#sk-container-id-2 div.sk-label input.sk-toggleable__control:checked~label.sk-toggleable__label {background-color: #d4ebff;}#sk-container-id-2 input.sk-hidden--visually {border: 0;clip: rect(1px 1px 1px 1px);clip: rect(1px, 1px, 1px, 1px);height: 1px;margin: -1px;overflow: hidden;padding: 0;position: absolute;width: 1px;}#sk-container-id-2 div.sk-estimator {font-family: monospace;background-color: #f0f8ff;border: 1px dotted black;border-radius: 0.25em;box-sizing: border-box;margin-bottom: 0.5em;}#sk-container-id-2 div.sk-estimator:hover {background-color: #d4ebff;}#sk-container-id-2 div.sk-parallel-item::after {content: \"\";width: 100%;border-bottom: 1px solid gray;flex-grow: 1;}#sk-container-id-2 div.sk-label:hover label.sk-toggleable__label {background-color: #d4ebff;}#sk-container-id-2 div.sk-serial::before {content: \"\";position: absolute;border-left: 1px solid gray;box-sizing: border-box;top: 0;bottom: 0;left: 50%;z-index: 0;}#sk-container-id-2 div.sk-serial {display: flex;flex-direction: column;align-items: center;background-color: white;padding-right: 0.2em;padding-left: 0.2em;position: relative;}#sk-container-id-2 div.sk-item {position: relative;z-index: 1;}#sk-container-id-2 div.sk-parallel {display: flex;align-items: stretch;justify-content: center;background-color: white;position: relative;}#sk-container-id-2 div.sk-item::before, #sk-container-id-2 div.sk-parallel-item::before {content: \"\";position: absolute;border-left: 1px solid gray;box-sizing: border-box;top: 0;bottom: 0;left: 50%;z-index: -1;}#sk-container-id-2 div.sk-parallel-item {display: flex;flex-direction: column;z-index: 1;position: relative;background-color: white;}#sk-container-id-2 div.sk-parallel-item:first-child::after {align-self: flex-end;width: 50%;}#sk-container-id-2 div.sk-parallel-item:last-child::after {align-self: flex-start;width: 50%;}#sk-container-id-2 div.sk-parallel-item:only-child::after {width: 0;}#sk-container-id-2 div.sk-dashed-wrapped {border: 1px dashed gray;margin: 0 0.4em 0.5em 0.4em;box-sizing: border-box;padding-bottom: 0.4em;background-color: white;}#sk-container-id-2 div.sk-label label {font-family: monospace;font-weight: bold;display: inline-block;line-height: 1.2em;}#sk-container-id-2 div.sk-label-container {text-align: center;}#sk-container-id-2 div.sk-container {/* jupyter's `normalize.less` sets `[hidden] { display: none; }` but bootstrap.min.css set `[hidden] { display: none !important; }` so we also need the `!important` here to be able to override the default hidden behavior on the sphinx rendered scikit-learn.org. See: https://github.com/scikit-learn/scikit-learn/issues/21755 */display: inline-block !important;position: relative;}#sk-container-id-2 div.sk-text-repr-fallback {display: none;}</style><div id=\"sk-container-id-2\" class=\"sk-top-container\"><div class=\"sk-text-repr-fallback\"><pre>RandomForestClassifier()</pre><b>In a Jupyter environment, please rerun this cell to show the HTML representation or trust the notebook. <br />On GitHub, the HTML representation is unable to render, please try loading this page with nbviewer.org.</b></div><div class=\"sk-container\" hidden><div class=\"sk-item\"><div class=\"sk-estimator sk-toggleable\"><input class=\"sk-toggleable__control sk-hidden--visually\" id=\"sk-estimator-id-2\" type=\"checkbox\" checked><label for=\"sk-estimator-id-2\" class=\"sk-toggleable__label sk-toggleable__label-arrow\">RandomForestClassifier</label><div class=\"sk-toggleable__content\"><pre>RandomForestClassifier()</pre></div></div></div></div></div>"
      ],
      "text/plain": [
       "RandomForestClassifier()"
      ]
     },
     "execution_count": 68,
     "metadata": {},
     "output_type": "execute_result"
    }
   ],
   "source": [
    "# train the model\n",
    "rf_model.fit(X_train, y_train)"
   ]
  },
  {
   "cell_type": "code",
   "execution_count": 69,
   "id": "f32e368b",
   "metadata": {
    "id": "f32e368b"
   },
   "outputs": [],
   "source": [
    "# Predict on the test dataset\n",
    "rf_pred= rf_model.predict(X_test)\n",
    "rf_proba= rf_model.predict_proba(X_test)[:,1]"
   ]
  },
  {
   "cell_type": "code",
   "execution_count": 70,
   "id": "75dcff7d",
   "metadata": {
    "colab": {
     "base_uri": "https://localhost:8080/"
    },
    "id": "75dcff7d",
    "outputId": "fa15e8be-2a25-4996-80bf-bf650e54776a"
   },
   "outputs": [
    {
     "name": "stdout",
     "output_type": "stream",
     "text": [
      "recall_score :  0.6829268292682927\n",
      "precision_score : 0.6666666666666666\n",
      "f1_score : 0.674698795180723\n",
      "f2_score : 0.6796116504854369\n",
      "accuracy_score : 0.7711864406779662\n",
      "ROC_AUC Score: 0.7478070175438596\n"
     ]
    }
   ],
   "source": [
    "# model evaluation\n",
    "r_rf=  recall_score(y_test, rf_pred)\n",
    "print(\"recall_score : \", r_rf)\n",
    "\n",
    "p_rf= precision_score(y_test, rf_pred)\n",
    "print(\"precision_score :\",p_rf)\n",
    "\n",
    "f1_rf= f1_score(y_test, rf_pred)\n",
    "print(\"f1_score :\", f1_rf)\n",
    "\n",
    "\n",
    "f2_rf = fbeta_score(y_test, rf_pred, beta=2, average='binary')\n",
    "print(\"f2_score :\", f2_rf)\n",
    "\n",
    "A_rf= accuracy_score(y_test, rf_pred)\n",
    "print(\"accuracy_score :\",A_rf)\n",
    "\n",
    "acu_rf = roc_auc_score(rf_pred, y_test)\n",
    "print(\"ROC_AUC Score:\",acu_rf)\n",
    "     "
   ]
  },
  {
   "cell_type": "code",
   "execution_count": 71,
   "id": "99dbbd36",
   "metadata": {
    "colab": {
     "base_uri": "https://localhost:8080/",
     "height": 650
    },
    "id": "99dbbd36",
    "outputId": "ca7ef578-ecbd-43b4-9cbe-1a4feeb567c7"
   },
   "outputs": [
    {
     "data": {
      "image/png": "[encoded data removed]",
      "text/plain": [
       "<Figure size 720x504 with 1 Axes>"
      ]
     },
     "metadata": {},
     "output_type": "display_data"
    }
   ],
   "source": [
    "# plot the model evaluation\n",
    "fig, ax = plt.subplots(figsize=(10,7))\n",
    "fpr, tpr, _ = roc_curve(y_test, rf_proba)\n",
    "\n",
    "plt.title('Random Forest ROC curve')\n",
    "plt.xlabel(\"False Positive Rate\")\n",
    "plt.ylabel(\"True Positive Rate\")\n",
    "plt.plot(fpr,tpr)\n",
    "plt.plot((0,1), linestyle=\"--\",color='black')\n",
    "plt.show()"
   ]
  },
  {
   "cell_type": "markdown",
   "id": "57eafab5",
   "metadata": {
    "id": "57eafab5"
   },
   "source": [
    "## 3. XGBoost Classifier"
   ]
  },
  {
   "cell_type": "code",
   "execution_count": 72,
   "id": "26cc6136",
   "metadata": {
    "id": "26cc6136"
   },
   "outputs": [],
   "source": [
    "# create the model\n",
    "xg_model= XGBClassifier()"
   ]
  },
  {
   "cell_type": "code",
   "execution_count": 73,
   "id": "16598e78",
   "metadata": {
    "colab": {
     "base_uri": "https://localhost:8080/",
     "height": 248
    },
    "id": "16598e78",
    "outputId": "6d5c25bf-c284-4110-86c8-e4b618a39552"
   },
   "outputs": [
    {
     "data": {
      "text/html": [
       "<style>#sk-container-id-3 {color: black;background-color: white;}#sk-container-id-3 pre{padding: 0;}#sk-container-id-3 div.sk-toggleable {background-color: white;}#sk-container-id-3 label.sk-toggleable__label {cursor: pointer;display: block;width: 100%;margin-bottom: 0;padding: 0.3em;box-sizing: border-box;text-align: center;}#sk-container-id-3 label.sk-toggleable__label-arrow:before {content: \"▸\";float: left;margin-right: 0.25em;color: #696969;}#sk-container-id-3 label.sk-toggleable__label-arrow:hover:before {color: black;}#sk-container-id-3 div.sk-estimator:hover label.sk-toggleable__label-arrow:before {color: black;}#sk-container-id-3 div.sk-toggleable__content {max-height: 0;max-width: 0;overflow: hidden;text-align: left;background-color: #f0f8ff;}#sk-container-id-3 div.sk-toggleable__content pre {margin: 0.2em;color: black;border-radius: 0.25em;background-color: #f0f8ff;}#sk-container-id-3 input.sk-toggleable__control:checked~div.sk-toggleable__content {max-height: 200px;max-width: 100%;overflow: auto;}#sk-container-id-3 input.sk-toggleable__control:checked~label.sk-toggleable__label-arrow:before {content: \"▾\";}#sk-container-id-3 div.sk-estimator input.sk-toggleable__control:checked~label.sk-toggleable__label {background-color: #d4ebff;}#sk-container-id-3 div.sk-label input.sk-toggleable__control:checked~label.sk-toggleable__label {background-color: #d4ebff;}#sk-container-id-3 input.sk-hidden--visually {border: 0;clip: rect(1px 1px 1px 1px);clip: rect(1px, 1px, 1px, 1px);height: 1px;margin: -1px;overflow: hidden;padding: 0;position: absolute;width: 1px;}#sk-container-id-3 div.sk-estimator {font-family: monospace;background-color: #f0f8ff;border: 1px dotted black;border-radius: 0.25em;box-sizing: border-box;margin-bottom: 0.5em;}#sk-container-id-3 div.sk-estimator:hover {background-color: #d4ebff;}#sk-container-id-3 div.sk-parallel-item::after {content: \"\";width: 100%;border-bottom: 1px solid gray;flex-grow: 1;}#sk-container-id-3 div.sk-label:hover label.sk-toggleable__label {background-color: #d4ebff;}#sk-container-id-3 div.sk-serial::before {content: \"\";position: absolute;border-left: 1px solid gray;box-sizing: border-box;top: 0;bottom: 0;left: 50%;z-index: 0;}#sk-container-id-3 div.sk-serial {display: flex;flex-direction: column;align-items: center;background-color: white;padding-right: 0.2em;padding-left: 0.2em;position: relative;}#sk-container-id-3 div.sk-item {position: relative;z-index: 1;}#sk-container-id-3 div.sk-parallel {display: flex;align-items: stretch;justify-content: center;background-color: white;position: relative;}#sk-container-id-3 div.sk-item::before, #sk-container-id-3 div.sk-parallel-item::before {content: \"\";position: absolute;border-left: 1px solid gray;box-sizing: border-box;top: 0;bottom: 0;left: 50%;z-index: -1;}#sk-container-id-3 div.sk-parallel-item {display: flex;flex-direction: column;z-index: 1;position: relative;background-color: white;}#sk-container-id-3 div.sk-parallel-item:first-child::after {align-self: flex-end;width: 50%;}#sk-container-id-3 div.sk-parallel-item:last-child::after {align-self: flex-start;width: 50%;}#sk-container-id-3 div.sk-parallel-item:only-child::after {width: 0;}#sk-container-id-3 div.sk-dashed-wrapped {border: 1px dashed gray;margin: 0 0.4em 0.5em 0.4em;box-sizing: border-box;padding-bottom: 0.4em;background-color: white;}#sk-container-id-3 div.sk-label label {font-family: monospace;font-weight: bold;display: inline-block;line-height: 1.2em;}#sk-container-id-3 div.sk-label-container {text-align: center;}#sk-container-id-3 div.sk-container {/* jupyter's `normalize.less` sets `[hidden] { display: none; }` but bootstrap.min.css set `[hidden] { display: none !important; }` so we also need the `!important` here to be able to override the default hidden behavior on the sphinx rendered scikit-learn.org. See: https://github.com/scikit-learn/scikit-learn/issues/21755 */display: inline-block !important;position: relative;}#sk-container-id-3 div.sk-text-repr-fallback {display: none;}</style><div id=\"sk-container-id-3\" class=\"sk-top-container\"><div class=\"sk-text-repr-fallback\"><pre>XGBClassifier(base_score=None, booster=None, callbacks=None,\n",
       "              colsample_bylevel=None, colsample_bynode=None,\n",
       "              colsample_bytree=None, early_stopping_rounds=None,\n",
       "              enable_categorical=False, eval_metric=None, feature_types=None,\n",
       "              gamma=None, gpu_id=None, grow_policy=None, importance_type=None,\n",
       "              interaction_constraints=None, learning_rate=None, max_bin=None,\n",
       "              max_cat_threshold=None, max_cat_to_onehot=None,\n",
       "              max_delta_step=None, max_depth=None, max_leaves=None,\n",
       "              min_child_weight=None, missing=nan, monotone_constraints=None,\n",
       "              n_estimators=100, n_jobs=None, num_parallel_tree=None,\n",
       "              predictor=None, random_state=None, ...)</pre><b>In a Jupyter environment, please rerun this cell to show the HTML representation or trust the notebook. <br />On GitHub, the HTML representation is unable to render, please try loading this page with nbviewer.org.</b></div><div class=\"sk-container\" hidden><div class=\"sk-item\"><div class=\"sk-estimator sk-toggleable\"><input class=\"sk-toggleable__control sk-hidden--visually\" id=\"sk-estimator-id-3\" type=\"checkbox\" checked><label for=\"sk-estimator-id-3\" class=\"sk-toggleable__label sk-toggleable__label-arrow\">XGBClassifier</label><div class=\"sk-toggleable__content\"><pre>XGBClassifier(base_score=None, booster=None, callbacks=None,\n",
       "              colsample_bylevel=None, colsample_bynode=None,\n",
       "              colsample_bytree=None, early_stopping_rounds=None,\n",
       "              enable_categorical=False, eval_metric=None, feature_types=None,\n",
       "              gamma=None, gpu_id=None, grow_policy=None, importance_type=None,\n",
       "              interaction_constraints=None, learning_rate=None, max_bin=None,\n",
       "              max_cat_threshold=None, max_cat_to_onehot=None,\n",
       "              max_delta_step=None, max_depth=None, max_leaves=None,\n",
       "              min_child_weight=None, missing=nan, monotone_constraints=None,\n",
       "              n_estimators=100, n_jobs=None, num_parallel_tree=None,\n",
       "              predictor=None, random_state=None, ...)</pre></div></div></div></div></div>"
      ],
      "text/plain": [
       "XGBClassifier(base_score=None, booster=None, callbacks=None,\n",
       "              colsample_bylevel=None, colsample_bynode=None,\n",
       "              colsample_bytree=None, early_stopping_rounds=None,\n",
       "              enable_categorical=False, eval_metric=None, feature_types=None,\n",
       "              gamma=None, gpu_id=None, grow_policy=None, importance_type=None,\n",
       "              interaction_constraints=None, learning_rate=None, max_bin=None,\n",
       "              max_cat_threshold=None, max_cat_to_onehot=None,\n",
       "              max_delta_step=None, max_depth=None, max_leaves=None,\n",
       "              min_child_weight=None, missing=nan, monotone_constraints=None,\n",
       "              n_estimators=100, n_jobs=None, num_parallel_tree=None,\n",
       "              predictor=None, random_state=None, ...)"
      ]
     },
     "execution_count": 73,
     "metadata": {},
     "output_type": "execute_result"
    }
   ],
   "source": [
    "# train the model\n",
    "xg_model.fit(X_train, y_train)"
   ]
  },
  {
   "cell_type": "code",
   "execution_count": 74,
   "id": "0986108e",
   "metadata": {
    "id": "0986108e"
   },
   "outputs": [],
   "source": [
    "# Predict on the test dataset\n",
    "xg_pred = xg_model.predict(X_test)\n",
    "xg_prob = xg_model.predict_proba(X_test)[:,1]"
   ]
  },
  {
   "cell_type": "code",
   "execution_count": 75,
   "id": "f6b97692",
   "metadata": {
    "colab": {
     "base_uri": "https://localhost:8080/"
    },
    "id": "f6b97692",
    "outputId": "9e07e1ea-03d1-432b-df2b-d1c9d28e7754"
   },
   "outputs": [
    {
     "name": "stdout",
     "output_type": "stream",
     "text": [
      "recall_score :  0.6829268292682927\n",
      "precision_score : 0.6363636363636364\n",
      "f1_score : 0.6588235294117647\n",
      "f2_score : 0.673076923076923\n",
      "accuracy_score : 0.7542372881355932\n",
      "ROC_AUC Score: 0.7303439803439803\n"
     ]
    }
   ],
   "source": [
    "# model evaluation\n",
    "r_xg= recall_score(y_test, xg_pred)\n",
    "print(\"recall_score : \", r_xg)\n",
    "\n",
    "p_xg= precision_score(y_test, xg_pred)\n",
    "print(\"precision_score :\",p_xg)\n",
    "\n",
    "f1_xg= f1_score(y_test, xg_pred)\n",
    "print(\"f1_score :\", f1_xg)\n",
    "\n",
    "f2_xg = fbeta_score(y_test, xg_pred, beta=2, average='binary')\n",
    "print(\"f2_score :\", f2_xg)\n",
    "\n",
    "\n",
    "A_xg= accuracy_score( y_test, xg_pred)\n",
    "print(\"accuracy_score :\",A_xg)\n",
    "\n",
    "acu_xg = roc_auc_score(xg_pred, y_test)\n",
    "print(\"ROC_AUC Score:\",acu_xg)\n",
    "     "
   ]
  },
  {
   "cell_type": "code",
   "execution_count": 76,
   "id": "84431e81",
   "metadata": {
    "colab": {
     "base_uri": "https://localhost:8080/",
     "height": 650
    },
    "id": "84431e81",
    "outputId": "aa2b7bd2-6e0d-4642-be81-9e903db9285f"
   },
   "outputs": [
    {
     "data": {
      "image/png": "[encoded data removed]",
      "text/plain": [
       "<Figure size 720x504 with 1 Axes>"
      ]
     },
     "metadata": {},
     "output_type": "display_data"
    }
   ],
   "source": [
    "#  plot the model evaluation\n",
    "fpr, tpr, _ = roc_curve(y_test, xg_prob)\n",
    "fig, ax = plt.subplots(figsize=(10,7))\n",
    "plt.title('xgBoost ROC curve')\n",
    "plt.xlabel(\"False Positive Rate\")\n",
    "plt.ylabel(\"True Positive Rate\")\n",
    "plt.plot(fpr,tpr)\n",
    "plt.plot((0,1), linestyle=\"--\",color='black')\n",
    "plt.show()"
   ]
  },
  {
   "cell_type": "markdown",
   "id": "3defd930",
   "metadata": {
    "id": "3defd930"
   },
   "source": [
    "## 4. K Nearest Neighbors"
   ]
  },
  {
   "cell_type": "code",
   "execution_count": 77,
   "id": "99a1691f",
   "metadata": {
    "id": "99a1691f"
   },
   "outputs": [],
   "source": [
    "# create the model\n",
    "knn_model = KNeighborsClassifier()"
   ]
  },
  {
   "cell_type": "code",
   "execution_count": 78,
   "id": "a6933948",
   "metadata": {
    "colab": {
     "base_uri": "https://localhost:8080/",
     "height": 75
    },
    "id": "a6933948",
    "outputId": "81bde655-ae4d-4aa5-d48a-9c3e602ad33d"
   },
   "outputs": [
    {
     "data": {
      "text/html": [
       "<style>#sk-container-id-4 {color: black;background-color: white;}#sk-container-id-4 pre{padding: 0;}#sk-container-id-4 div.sk-toggleable {background-color: white;}#sk-container-id-4 label.sk-toggleable__label {cursor: pointer;display: block;width: 100%;margin-bottom: 0;padding: 0.3em;box-sizing: border-box;text-align: center;}#sk-container-id-4 label.sk-toggleable__label-arrow:before {content: \"▸\";float: left;margin-right: 0.25em;color: #696969;}#sk-container-id-4 label.sk-toggleable__label-arrow:hover:before {color: black;}#sk-container-id-4 div.sk-estimator:hover label.sk-toggleable__label-arrow:before {color: black;}#sk-container-id-4 div.sk-toggleable__content {max-height: 0;max-width: 0;overflow: hidden;text-align: left;background-color: #f0f8ff;}#sk-container-id-4 div.sk-toggleable__content pre {margin: 0.2em;color: black;border-radius: 0.25em;background-color: #f0f8ff;}#sk-container-id-4 input.sk-toggleable__control:checked~div.sk-toggleable__content {max-height: 200px;max-width: 100%;overflow: auto;}#sk-container-id-4 input.sk-toggleable__control:checked~label.sk-toggleable__label-arrow:before {content: \"▾\";}#sk-container-id-4 div.sk-estimator input.sk-toggleable__control:checked~label.sk-toggleable__label {background-color: #d4ebff;}#sk-container-id-4 div.sk-label input.sk-toggleable__control:checked~label.sk-toggleable__label {background-color: #d4ebff;}#sk-container-id-4 input.sk-hidden--visually {border: 0;clip: rect(1px 1px 1px 1px);clip: rect(1px, 1px, 1px, 1px);height: 1px;margin: -1px;overflow: hidden;padding: 0;position: absolute;width: 1px;}#sk-container-id-4 div.sk-estimator {font-family: monospace;background-color: #f0f8ff;border: 1px dotted black;border-radius: 0.25em;box-sizing: border-box;margin-bottom: 0.5em;}#sk-container-id-4 div.sk-estimator:hover {background-color: #d4ebff;}#sk-container-id-4 div.sk-parallel-item::after {content: \"\";width: 100%;border-bottom: 1px solid gray;flex-grow: 1;}#sk-container-id-4 div.sk-label:hover label.sk-toggleable__label {background-color: #d4ebff;}#sk-container-id-4 div.sk-serial::before {content: \"\";position: absolute;border-left: 1px solid gray;box-sizing: border-box;top: 0;bottom: 0;left: 50%;z-index: 0;}#sk-container-id-4 div.sk-serial {display: flex;flex-direction: column;align-items: center;background-color: white;padding-right: 0.2em;padding-left: 0.2em;position: relative;}#sk-container-id-4 div.sk-item {position: relative;z-index: 1;}#sk-container-id-4 div.sk-parallel {display: flex;align-items: stretch;justify-content: center;background-color: white;position: relative;}#sk-container-id-4 div.sk-item::before, #sk-container-id-4 div.sk-parallel-item::before {content: \"\";position: absolute;border-left: 1px solid gray;box-sizing: border-box;top: 0;bottom: 0;left: 50%;z-index: -1;}#sk-container-id-4 div.sk-parallel-item {display: flex;flex-direction: column;z-index: 1;position: relative;background-color: white;}#sk-container-id-4 div.sk-parallel-item:first-child::after {align-self: flex-end;width: 50%;}#sk-container-id-4 div.sk-parallel-item:last-child::after {align-self: flex-start;width: 50%;}#sk-container-id-4 div.sk-parallel-item:only-child::after {width: 0;}#sk-container-id-4 div.sk-dashed-wrapped {border: 1px dashed gray;margin: 0 0.4em 0.5em 0.4em;box-sizing: border-box;padding-bottom: 0.4em;background-color: white;}#sk-container-id-4 div.sk-label label {font-family: monospace;font-weight: bold;display: inline-block;line-height: 1.2em;}#sk-container-id-4 div.sk-label-container {text-align: center;}#sk-container-id-4 div.sk-container {/* jupyter's `normalize.less` sets `[hidden] { display: none; }` but bootstrap.min.css set `[hidden] { display: none !important; }` so we also need the `!important` here to be able to override the default hidden behavior on the sphinx rendered scikit-learn.org. See: https://github.com/scikit-learn/scikit-learn/issues/21755 */display: inline-block !important;position: relative;}#sk-container-id-4 div.sk-text-repr-fallback {display: none;}</style><div id=\"sk-container-id-4\" class=\"sk-top-container\"><div class=\"sk-text-repr-fallback\"><pre>KNeighborsClassifier()</pre><b>In a Jupyter environment, please rerun this cell to show the HTML representation or trust the notebook. <br />On GitHub, the HTML representation is unable to render, please try loading this page with nbviewer.org.</b></div><div class=\"sk-container\" hidden><div class=\"sk-item\"><div class=\"sk-estimator sk-toggleable\"><input class=\"sk-toggleable__control sk-hidden--visually\" id=\"sk-estimator-id-4\" type=\"checkbox\" checked><label for=\"sk-estimator-id-4\" class=\"sk-toggleable__label sk-toggleable__label-arrow\">KNeighborsClassifier</label><div class=\"sk-toggleable__content\"><pre>KNeighborsClassifier()</pre></div></div></div></div></div>"
      ],
      "text/plain": [
       "KNeighborsClassifier()"
      ]
     },
     "execution_count": 78,
     "metadata": {},
     "output_type": "execute_result"
    }
   ],
   "source": [
    "# train the model\n",
    "knn_model.fit(X_train, y_train)"
   ]
  },
  {
   "cell_type": "code",
   "execution_count": 79,
   "id": "f64326d2",
   "metadata": {
    "id": "f64326d2"
   },
   "outputs": [],
   "source": [
    "# Predict on the test dataset\n",
    "knn_pred = knn_model.predict(X_test)\n",
    "knn_prob = knn_model.predict_proba(X_test)[:,1]"
   ]
  },
  {
   "cell_type": "code",
   "execution_count": 80,
   "id": "6ecf9f23",
   "metadata": {
    "colab": {
     "base_uri": "https://localhost:8080/"
    },
    "id": "6ecf9f23",
    "outputId": "a9ce585a-8c4e-44c1-ac21-2db18d00a10e"
   },
   "outputs": [
    {
     "name": "stdout",
     "output_type": "stream",
     "text": [
      "recall_score :  0.7073170731707317\n",
      "precision_score : 0.5178571428571429\n",
      "f1_score : 0.5979381443298969\n",
      "f2_score : 0.6590909090909091\n",
      "accuracy_score : 0.6694915254237288\n",
      "ROC_AUC Score: 0.6621543778801843\n"
     ]
    }
   ],
   "source": [
    "# model evaluation\n",
    "r_knn= recall_score(y_test, knn_pred)\n",
    "print(\"recall_score : \", r_knn)\n",
    "\n",
    "p_knn= precision_score(y_test, knn_pred)\n",
    "print(\"precision_score :\",p_knn)\n",
    "\n",
    "f1_knn= f1_score(y_test, knn_pred)\n",
    "print(\"f1_score :\", f1_knn)\n",
    "\n",
    "f2_knn = fbeta_score(y_test, knn_pred, beta=2, average='binary')\n",
    "print(\"f2_score :\", f2_knn)\n",
    "\n",
    "\n",
    "A_knn= accuracy_score( y_test, knn_pred)\n",
    "print(\"accuracy_score :\", A_knn)\n",
    "\n",
    "acu_knn = roc_auc_score(knn_pred, y_test)\n",
    "print(\"ROC_AUC Score:\",acu_knn)"
   ]
  },
  {
   "cell_type": "code",
   "execution_count": 81,
   "id": "b642341b",
   "metadata": {
    "colab": {
     "base_uri": "https://localhost:8080/",
     "height": 650
    },
    "id": "b642341b",
    "outputId": "66c25869-594c-4674-ce87-e3ce60415350"
   },
   "outputs": [
    {
     "data": {
      "image/png": "[encoded data removed]",
      "text/plain": [
       "<Figure size 720x504 with 1 Axes>"
      ]
     },
     "metadata": {},
     "output_type": "display_data"
    }
   ],
   "source": [
    "#  plot the model evaluation\n",
    "fpr, tpr, _ = roc_curve(y_test, knn_prob)\n",
    "fig, ax = plt.subplots(figsize=(10,7))\n",
    "plt.title('knn ROC curve')\n",
    "plt.xlabel(\"False Positive Rate\")\n",
    "plt.ylabel(\"True Positive Rate\")\n",
    "plt.plot(fpr,tpr)\n",
    "plt.plot((0,1), linestyle=\"--\",color='black')\n",
    "plt.show()"
   ]
  },
  {
   "cell_type": "markdown",
   "id": "87abad69",
   "metadata": {
    "id": "87abad69"
   },
   "source": [
    "## 5. Support Vector Machines"
   ]
  },
  {
   "cell_type": "code",
   "execution_count": 82,
   "id": "f7dc5ff8",
   "metadata": {
    "id": "f7dc5ff8"
   },
   "outputs": [],
   "source": [
    "# Create the Model\n",
    "svc_model = SVC(kernel='rbf',\n",
    "                C=51,\n",
    "                gamma=1,\n",
    "                probability=True)"
   ]
  },
  {
   "cell_type": "code",
   "execution_count": 83,
   "id": "401664e2",
   "metadata": {
    "colab": {
     "base_uri": "https://localhost:8080/",
     "height": 75
    },
    "id": "401664e2",
    "outputId": "977e45b3-c1e6-4ab8-843d-72e85a528c16"
   },
   "outputs": [
    {
     "data": {
      "text/html": [
       "<style>#sk-container-id-5 {color: black;background-color: white;}#sk-container-id-5 pre{padding: 0;}#sk-container-id-5 div.sk-toggleable {background-color: white;}#sk-container-id-5 label.sk-toggleable__label {cursor: pointer;display: block;width: 100%;margin-bottom: 0;padding: 0.3em;box-sizing: border-box;text-align: center;}#sk-container-id-5 label.sk-toggleable__label-arrow:before {content: \"▸\";float: left;margin-right: 0.25em;color: #696969;}#sk-container-id-5 label.sk-toggleable__label-arrow:hover:before {color: black;}#sk-container-id-5 div.sk-estimator:hover label.sk-toggleable__label-arrow:before {color: black;}#sk-container-id-5 div.sk-toggleable__content {max-height: 0;max-width: 0;overflow: hidden;text-align: left;background-color: #f0f8ff;}#sk-container-id-5 div.sk-toggleable__content pre {margin: 0.2em;color: black;border-radius: 0.25em;background-color: #f0f8ff;}#sk-container-id-5 input.sk-toggleable__control:checked~div.sk-toggleable__content {max-height: 200px;max-width: 100%;overflow: auto;}#sk-container-id-5 input.sk-toggleable__control:checked~label.sk-toggleable__label-arrow:before {content: \"▾\";}#sk-container-id-5 div.sk-estimator input.sk-toggleable__control:checked~label.sk-toggleable__label {background-color: #d4ebff;}#sk-container-id-5 div.sk-label input.sk-toggleable__control:checked~label.sk-toggleable__label {background-color: #d4ebff;}#sk-container-id-5 input.sk-hidden--visually {border: 0;clip: rect(1px 1px 1px 1px);clip: rect(1px, 1px, 1px, 1px);height: 1px;margin: -1px;overflow: hidden;padding: 0;position: absolute;width: 1px;}#sk-container-id-5 div.sk-estimator {font-family: monospace;background-color: #f0f8ff;border: 1px dotted black;border-radius: 0.25em;box-sizing: border-box;margin-bottom: 0.5em;}#sk-container-id-5 div.sk-estimator:hover {background-color: #d4ebff;}#sk-container-id-5 div.sk-parallel-item::after {content: \"\";width: 100%;border-bottom: 1px solid gray;flex-grow: 1;}#sk-container-id-5 div.sk-label:hover label.sk-toggleable__label {background-color: #d4ebff;}#sk-container-id-5 div.sk-serial::before {content: \"\";position: absolute;border-left: 1px solid gray;box-sizing: border-box;top: 0;bottom: 0;left: 50%;z-index: 0;}#sk-container-id-5 div.sk-serial {display: flex;flex-direction: column;align-items: center;background-color: white;padding-right: 0.2em;padding-left: 0.2em;position: relative;}#sk-container-id-5 div.sk-item {position: relative;z-index: 1;}#sk-container-id-5 div.sk-parallel {display: flex;align-items: stretch;justify-content: center;background-color: white;position: relative;}#sk-container-id-5 div.sk-item::before, #sk-container-id-5 div.sk-parallel-item::before {content: \"\";position: absolute;border-left: 1px solid gray;box-sizing: border-box;top: 0;bottom: 0;left: 50%;z-index: -1;}#sk-container-id-5 div.sk-parallel-item {display: flex;flex-direction: column;z-index: 1;position: relative;background-color: white;}#sk-container-id-5 div.sk-parallel-item:first-child::after {align-self: flex-end;width: 50%;}#sk-container-id-5 div.sk-parallel-item:last-child::after {align-self: flex-start;width: 50%;}#sk-container-id-5 div.sk-parallel-item:only-child::after {width: 0;}#sk-container-id-5 div.sk-dashed-wrapped {border: 1px dashed gray;margin: 0 0.4em 0.5em 0.4em;box-sizing: border-box;padding-bottom: 0.4em;background-color: white;}#sk-container-id-5 div.sk-label label {font-family: monospace;font-weight: bold;display: inline-block;line-height: 1.2em;}#sk-container-id-5 div.sk-label-container {text-align: center;}#sk-container-id-5 div.sk-container {/* jupyter's `normalize.less` sets `[hidden] { display: none; }` but bootstrap.min.css set `[hidden] { display: none !important; }` so we also need the `!important` here to be able to override the default hidden behavior on the sphinx rendered scikit-learn.org. See: https://github.com/scikit-learn/scikit-learn/issues/21755 */display: inline-block !important;position: relative;}#sk-container-id-5 div.sk-text-repr-fallback {display: none;}</style><div id=\"sk-container-id-5\" class=\"sk-top-container\"><div class=\"sk-text-repr-fallback\"><pre>SVC(C=51, gamma=1, probability=True)</pre><b>In a Jupyter environment, please rerun this cell to show the HTML representation or trust the notebook. <br />On GitHub, the HTML representation is unable to render, please try loading this page with nbviewer.org.</b></div><div class=\"sk-container\" hidden><div class=\"sk-item\"><div class=\"sk-estimator sk-toggleable\"><input class=\"sk-toggleable__control sk-hidden--visually\" id=\"sk-estimator-id-5\" type=\"checkbox\" checked><label for=\"sk-estimator-id-5\" class=\"sk-toggleable__label sk-toggleable__label-arrow\">SVC</label><div class=\"sk-toggleable__content\"><pre>SVC(C=51, gamma=1, probability=True)</pre></div></div></div></div></div>"
      ],
      "text/plain": [
       "SVC(C=51, gamma=1, probability=True)"
      ]
     },
     "execution_count": 83,
     "metadata": {},
     "output_type": "execute_result"
    }
   ],
   "source": [
    "# train the model\n",
    "svc_model.fit(X_train, y_train)"
   ]
  },
  {
   "cell_type": "code",
   "execution_count": 84,
   "id": "ea2a8b3f",
   "metadata": {
    "id": "ea2a8b3f"
   },
   "outputs": [],
   "source": [
    "# Predict on the test dataset\n",
    "svc_pred = svc_model.predict(X_test)\n",
    "svc_prob = svc_model.predict_proba(X_test)[:,1]"
   ]
  },
  {
   "cell_type": "code",
   "execution_count": 85,
   "id": "9a9c50f9",
   "metadata": {
    "colab": {
     "base_uri": "https://localhost:8080/"
    },
    "id": "9a9c50f9",
    "outputId": "1be83ff9-86fc-4a30-c78c-0846f9066ee8"
   },
   "outputs": [
    {
     "name": "stdout",
     "output_type": "stream",
     "text": [
      "recall_score:  0.0\n",
      "precision_score:  0.0\n",
      "f1_score:  0.0\n",
      "f2_score:  0.0\n",
      "accuracy_score:  0.652542372881356\n",
      "ROC_AUC Score:  0.5\n"
     ]
    }
   ],
   "source": [
    "# model evaluation\n",
    "r_svc = recall_score(y_test, svc_pred)\n",
    "print(\"recall_score: \", r_svc)\n",
    "\n",
    "p_svc = precision_score(y_test, svc_pred)\n",
    "print(\"precision_score: \", p_svc)\n",
    "\n",
    "f1_svc = f1_score(y_test, svc_pred)\n",
    "print(\"f1_score: \", f1_svc)\n",
    "\n",
    "f2_svc = fbeta_score(y_test, svc_pred, beta=2, average='binary')\n",
    "print(\"f2_score: \", f2_svc)\n",
    "\n",
    "A_svc = accuracy_score(y_test, svc_pred)\n",
    "print(\"accuracy_score: \", A_svc)\n",
    "\n",
    "# Check if both classes are present in y_test before calculating ROC AUC\n",
    "if len(np.unique(y_test)) == 2:\n",
    "    acu_svc = roc_auc_score(y_test, svc_pred)\n",
    "    print(\"ROC_AUC Score: \", acu_svc)\n",
    "else:\n",
    "    print(\"Only one class present in y_test. ROC AUC score is not defined in that case.\")"
   ]
  },
  {
   "cell_type": "code",
   "execution_count": 86,
   "id": "7657e3bd",
   "metadata": {
    "colab": {
     "base_uri": "https://localhost:8080/",
     "height": 650
    },
    "id": "7657e3bd",
    "outputId": "e7731f26-75f5-48ab-bea8-8f09aa109b5e"
   },
   "outputs": [
    {
     "data": {
      "image/png": "[encoded data removed]",
      "text/plain": [
       "<Figure size 720x504 with 1 Axes>"
      ]
     },
     "metadata": {},
     "output_type": "display_data"
    }
   ],
   "source": [
    "#  plot the model evaluation\n",
    "fpr, tpr, _ = roc_curve(y_test, svc_prob)\n",
    "fig, ax = plt.subplots(figsize=(10,7))\n",
    "plt.title('svc ROC curve')\n",
    "plt.xlabel(\"False Positive Rate\")\n",
    "plt.ylabel(\"True Positive Rate\")\n",
    "plt.plot(fpr,tpr)\n",
    "plt.plot((0,1), linestyle=\"--\",color='black')\n",
    "plt.show()"
   ]
  },
  {
   "cell_type": "markdown",
   "id": "d3a4a98b",
   "metadata": {
    "id": "d3a4a98b"
   },
   "source": [
    "##  6. DecisionTreeClassifier"
   ]
  },
  {
   "cell_type": "code",
   "execution_count": 87,
   "id": "ff67886a",
   "metadata": {
    "id": "ff67886a"
   },
   "outputs": [],
   "source": [
    "# create the model\n",
    "dtmodel = DecisionTreeClassifier()"
   ]
  },
  {
   "cell_type": "code",
   "execution_count": 88,
   "id": "fff997ba",
   "metadata": {
    "colab": {
     "base_uri": "https://localhost:8080/",
     "height": 75
    },
    "id": "fff997ba",
    "outputId": "7ce3042d-9d44-4e3c-814d-d3e1463a3754"
   },
   "outputs": [
    {
     "data": {
      "text/html": [
       "<style>#sk-container-id-6 {color: black;background-color: white;}#sk-container-id-6 pre{padding: 0;}#sk-container-id-6 div.sk-toggleable {background-color: white;}#sk-container-id-6 label.sk-toggleable__label {cursor: pointer;display: block;width: 100%;margin-bottom: 0;padding: 0.3em;box-sizing: border-box;text-align: center;}#sk-container-id-6 label.sk-toggleable__label-arrow:before {content: \"▸\";float: left;margin-right: 0.25em;color: #696969;}#sk-container-id-6 label.sk-toggleable__label-arrow:hover:before {color: black;}#sk-container-id-6 div.sk-estimator:hover label.sk-toggleable__label-arrow:before {color: black;}#sk-container-id-6 div.sk-toggleable__content {max-height: 0;max-width: 0;overflow: hidden;text-align: left;background-color: #f0f8ff;}#sk-container-id-6 div.sk-toggleable__content pre {margin: 0.2em;color: black;border-radius: 0.25em;background-color: #f0f8ff;}#sk-container-id-6 input.sk-toggleable__control:checked~div.sk-toggleable__content {max-height: 200px;max-width: 100%;overflow: auto;}#sk-container-id-6 input.sk-toggleable__control:checked~label.sk-toggleable__label-arrow:before {content: \"▾\";}#sk-container-id-6 div.sk-estimator input.sk-toggleable__control:checked~label.sk-toggleable__label {background-color: #d4ebff;}#sk-container-id-6 div.sk-label input.sk-toggleable__control:checked~label.sk-toggleable__label {background-color: #d4ebff;}#sk-container-id-6 input.sk-hidden--visually {border: 0;clip: rect(1px 1px 1px 1px);clip: rect(1px, 1px, 1px, 1px);height: 1px;margin: -1px;overflow: hidden;padding: 0;position: absolute;width: 1px;}#sk-container-id-6 div.sk-estimator {font-family: monospace;background-color: #f0f8ff;border: 1px dotted black;border-radius: 0.25em;box-sizing: border-box;margin-bottom: 0.5em;}#sk-container-id-6 div.sk-estimator:hover {background-color: #d4ebff;}#sk-container-id-6 div.sk-parallel-item::after {content: \"\";width: 100%;border-bottom: 1px solid gray;flex-grow: 1;}#sk-container-id-6 div.sk-label:hover label.sk-toggleable__label {background-color: #d4ebff;}#sk-container-id-6 div.sk-serial::before {content: \"\";position: absolute;border-left: 1px solid gray;box-sizing: border-box;top: 0;bottom: 0;left: 50%;z-index: 0;}#sk-container-id-6 div.sk-serial {display: flex;flex-direction: column;align-items: center;background-color: white;padding-right: 0.2em;padding-left: 0.2em;position: relative;}#sk-container-id-6 div.sk-item {position: relative;z-index: 1;}#sk-container-id-6 div.sk-parallel {display: flex;align-items: stretch;justify-content: center;background-color: white;position: relative;}#sk-container-id-6 div.sk-item::before, #sk-container-id-6 div.sk-parallel-item::before {content: \"\";position: absolute;border-left: 1px solid gray;box-sizing: border-box;top: 0;bottom: 0;left: 50%;z-index: -1;}#sk-container-id-6 div.sk-parallel-item {display: flex;flex-direction: column;z-index: 1;position: relative;background-color: white;}#sk-container-id-6 div.sk-parallel-item:first-child::after {align-self: flex-end;width: 50%;}#sk-container-id-6 div.sk-parallel-item:last-child::after {align-self: flex-start;width: 50%;}#sk-container-id-6 div.sk-parallel-item:only-child::after {width: 0;}#sk-container-id-6 div.sk-dashed-wrapped {border: 1px dashed gray;margin: 0 0.4em 0.5em 0.4em;box-sizing: border-box;padding-bottom: 0.4em;background-color: white;}#sk-container-id-6 div.sk-label label {font-family: monospace;font-weight: bold;display: inline-block;line-height: 1.2em;}#sk-container-id-6 div.sk-label-container {text-align: center;}#sk-container-id-6 div.sk-container {/* jupyter's `normalize.less` sets `[hidden] { display: none; }` but bootstrap.min.css set `[hidden] { display: none !important; }` so we also need the `!important` here to be able to override the default hidden behavior on the sphinx rendered scikit-learn.org. See: https://github.com/scikit-learn/scikit-learn/issues/21755 */display: inline-block !important;position: relative;}#sk-container-id-6 div.sk-text-repr-fallback {display: none;}</style><div id=\"sk-container-id-6\" class=\"sk-top-container\"><div class=\"sk-text-repr-fallback\"><pre>DecisionTreeClassifier()</pre><b>In a Jupyter environment, please rerun this cell to show the HTML representation or trust the notebook. <br />On GitHub, the HTML representation is unable to render, please try loading this page with nbviewer.org.</b></div><div class=\"sk-container\" hidden><div class=\"sk-item\"><div class=\"sk-estimator sk-toggleable\"><input class=\"sk-toggleable__control sk-hidden--visually\" id=\"sk-estimator-id-6\" type=\"checkbox\" checked><label for=\"sk-estimator-id-6\" class=\"sk-toggleable__label sk-toggleable__label-arrow\">DecisionTreeClassifier</label><div class=\"sk-toggleable__content\"><pre>DecisionTreeClassifier()</pre></div></div></div></div></div>"
      ],
      "text/plain": [
       "DecisionTreeClassifier()"
      ]
     },
     "execution_count": 88,
     "metadata": {},
     "output_type": "execute_result"
    }
   ],
   "source": [
    "# train the model\n",
    "dtmodel.fit(X_train, y_train)"
   ]
  },
  {
   "cell_type": "code",
   "execution_count": 89,
   "id": "2f3f436d",
   "metadata": {
    "id": "2f3f436d"
   },
   "outputs": [],
   "source": [
    "# Predict on the test dataset\n",
    "dt_pred = dtmodel.predict(X_test)\n",
    "dt_prob = dtmodel.predict_proba(X_test)[:,1]"
   ]
  },
  {
   "cell_type": "code",
   "execution_count": 90,
   "id": "df87b14c",
   "metadata": {
    "colab": {
     "base_uri": "https://localhost:8080/"
    },
    "id": "df87b14c",
    "outputId": "ecd6af2c-423e-4b02-b907-6d9e67dd8256"
   },
   "outputs": [
    {
     "name": "stdout",
     "output_type": "stream",
     "text": [
      "recall_score :  0.5365853658536586\n",
      "precision_score : 0.4888888888888889\n",
      "f1_score : 0.5116279069767442\n",
      "f2_score : 0.5263157894736843\n",
      "accuracy_score : 0.6440677966101694\n",
      "ROC_AUC Score: 0.6143074581430746\n"
     ]
    }
   ],
   "source": [
    "# model evaluation\n",
    "r_dt= recall_score(y_test, dt_pred)\n",
    "print(\"recall_score : \", r_dt)\n",
    "\n",
    "p_dt= precision_score(y_test, dt_pred)\n",
    "print(\"precision_score :\",p_dt)\n",
    "\n",
    "f1_dt= f1_score(y_test, dt_pred)\n",
    "print(\"f1_score :\", f1_dt)\n",
    "\n",
    "f2_dt = fbeta_score(y_test, dt_pred, beta=2, average='binary')\n",
    "print(\"f2_score :\", f2_dt)\n",
    "\n",
    "\n",
    "A_dt= accuracy_score( y_test, dt_pred)\n",
    "print(\"accuracy_score :\", A_dt)\n",
    "\n",
    "acu_dt = roc_auc_score(dt_pred, y_test)\n",
    "print(\"ROC_AUC Score:\",acu_dt)"
   ]
  },
  {
   "cell_type": "markdown",
   "id": "80fa3843",
   "metadata": {
    "id": "80fa3843"
   },
   "source": [
    "##  7. Gradient Boosting Classifier"
   ]
  },
  {
   "cell_type": "code",
   "execution_count": 91,
   "id": "223b55ec",
   "metadata": {
    "id": "223b55ec"
   },
   "outputs": [],
   "source": [
    "# create the model\n",
    "gbc = GradientBoostingClassifier(random_state=42)"
   ]
  },
  {
   "cell_type": "code",
   "execution_count": 92,
   "id": "ae2c06e6",
   "metadata": {
    "colab": {
     "base_uri": "https://localhost:8080/",
     "height": 75
    },
    "id": "ae2c06e6",
    "outputId": "0cdcdc1e-b80f-42bd-9c5d-fb1fa6c18653"
   },
   "outputs": [
    {
     "data": {
      "text/html": [
       "<style>#sk-container-id-7 {color: black;background-color: white;}#sk-container-id-7 pre{padding: 0;}#sk-container-id-7 div.sk-toggleable {background-color: white;}#sk-container-id-7 label.sk-toggleable__label {cursor: pointer;display: block;width: 100%;margin-bottom: 0;padding: 0.3em;box-sizing: border-box;text-align: center;}#sk-container-id-7 label.sk-toggleable__label-arrow:before {content: \"▸\";float: left;margin-right: 0.25em;color: #696969;}#sk-container-id-7 label.sk-toggleable__label-arrow:hover:before {color: black;}#sk-container-id-7 div.sk-estimator:hover label.sk-toggleable__label-arrow:before {color: black;}#sk-container-id-7 div.sk-toggleable__content {max-height: 0;max-width: 0;overflow: hidden;text-align: left;background-color: #f0f8ff;}#sk-container-id-7 div.sk-toggleable__content pre {margin: 0.2em;color: black;border-radius: 0.25em;background-color: #f0f8ff;}#sk-container-id-7 input.sk-toggleable__control:checked~div.sk-toggleable__content {max-height: 200px;max-width: 100%;overflow: auto;}#sk-container-id-7 input.sk-toggleable__control:checked~label.sk-toggleable__label-arrow:before {content: \"▾\";}#sk-container-id-7 div.sk-estimator input.sk-toggleable__control:checked~label.sk-toggleable__label {background-color: #d4ebff;}#sk-container-id-7 div.sk-label input.sk-toggleable__control:checked~label.sk-toggleable__label {background-color: #d4ebff;}#sk-container-id-7 input.sk-hidden--visually {border: 0;clip: rect(1px 1px 1px 1px);clip: rect(1px, 1px, 1px, 1px);height: 1px;margin: -1px;overflow: hidden;padding: 0;position: absolute;width: 1px;}#sk-container-id-7 div.sk-estimator {font-family: monospace;background-color: #f0f8ff;border: 1px dotted black;border-radius: 0.25em;box-sizing: border-box;margin-bottom: 0.5em;}#sk-container-id-7 div.sk-estimator:hover {background-color: #d4ebff;}#sk-container-id-7 div.sk-parallel-item::after {content: \"\";width: 100%;border-bottom: 1px solid gray;flex-grow: 1;}#sk-container-id-7 div.sk-label:hover label.sk-toggleable__label {background-color: #d4ebff;}#sk-container-id-7 div.sk-serial::before {content: \"\";position: absolute;border-left: 1px solid gray;box-sizing: border-box;top: 0;bottom: 0;left: 50%;z-index: 0;}#sk-container-id-7 div.sk-serial {display: flex;flex-direction: column;align-items: center;background-color: white;padding-right: 0.2em;padding-left: 0.2em;position: relative;}#sk-container-id-7 div.sk-item {position: relative;z-index: 1;}#sk-container-id-7 div.sk-parallel {display: flex;align-items: stretch;justify-content: center;background-color: white;position: relative;}#sk-container-id-7 div.sk-item::before, #sk-container-id-7 div.sk-parallel-item::before {content: \"\";position: absolute;border-left: 1px solid gray;box-sizing: border-box;top: 0;bottom: 0;left: 50%;z-index: -1;}#sk-container-id-7 div.sk-parallel-item {display: flex;flex-direction: column;z-index: 1;position: relative;background-color: white;}#sk-container-id-7 div.sk-parallel-item:first-child::after {align-self: flex-end;width: 50%;}#sk-container-id-7 div.sk-parallel-item:last-child::after {align-self: flex-start;width: 50%;}#sk-container-id-7 div.sk-parallel-item:only-child::after {width: 0;}#sk-container-id-7 div.sk-dashed-wrapped {border: 1px dashed gray;margin: 0 0.4em 0.5em 0.4em;box-sizing: border-box;padding-bottom: 0.4em;background-color: white;}#sk-container-id-7 div.sk-label label {font-family: monospace;font-weight: bold;display: inline-block;line-height: 1.2em;}#sk-container-id-7 div.sk-label-container {text-align: center;}#sk-container-id-7 div.sk-container {/* jupyter's `normalize.less` sets `[hidden] { display: none; }` but bootstrap.min.css set `[hidden] { display: none !important; }` so we also need the `!important` here to be able to override the default hidden behavior on the sphinx rendered scikit-learn.org. See: https://github.com/scikit-learn/scikit-learn/issues/21755 */display: inline-block !important;position: relative;}#sk-container-id-7 div.sk-text-repr-fallback {display: none;}</style><div id=\"sk-container-id-7\" class=\"sk-top-container\"><div class=\"sk-text-repr-fallback\"><pre>GradientBoostingClassifier(random_state=42)</pre><b>In a Jupyter environment, please rerun this cell to show the HTML representation or trust the notebook. <br />On GitHub, the HTML representation is unable to render, please try loading this page with nbviewer.org.</b></div><div class=\"sk-container\" hidden><div class=\"sk-item\"><div class=\"sk-estimator sk-toggleable\"><input class=\"sk-toggleable__control sk-hidden--visually\" id=\"sk-estimator-id-7\" type=\"checkbox\" checked><label for=\"sk-estimator-id-7\" class=\"sk-toggleable__label sk-toggleable__label-arrow\">GradientBoostingClassifier</label><div class=\"sk-toggleable__content\"><pre>GradientBoostingClassifier(random_state=42)</pre></div></div></div></div></div>"
      ],
      "text/plain": [
       "GradientBoostingClassifier(random_state=42)"
      ]
     },
     "execution_count": 92,
     "metadata": {},
     "output_type": "execute_result"
    }
   ],
   "source": [
    "# train the model\n",
    "gbc.fit(X_train, y_train)"
   ]
  },
  {
   "cell_type": "code",
   "execution_count": 93,
   "id": "03b2ebc2",
   "metadata": {
    "id": "03b2ebc2"
   },
   "outputs": [],
   "source": [
    "# Predict on the test dataset\n",
    "gbc_pred = gbc.predict(X_test)\n",
    "gbc_prob = gbc.predict_proba(X_test)[:,1]"
   ]
  },
  {
   "cell_type": "code",
   "execution_count": 94,
   "id": "4e40d9d8",
   "metadata": {
    "colab": {
     "base_uri": "https://localhost:8080/"
    },
    "id": "4e40d9d8",
    "outputId": "36323ddd-7e86-449c-ee6f-7a5ed792d051"
   },
   "outputs": [
    {
     "name": "stdout",
     "output_type": "stream",
     "text": [
      "recall_score :  0.7560975609756098\n",
      "precision_score : 0.5961538461538461\n",
      "f1_score : 0.6666666666666667\n",
      "f2_score : 0.7175925925925926\n",
      "accuracy_score : 0.7372881355932204\n",
      "ROC_AUC Score: 0.7223193473193474\n"
     ]
    }
   ],
   "source": [
    "# model evaluation\n",
    "r_gbc= recall_score(y_test, gbc_pred)\n",
    "print(\"recall_score : \", r_gbc)\n",
    "\n",
    "p_gbc= precision_score(y_test, gbc_pred)\n",
    "print(\"precision_score :\",p_gbc)\n",
    "\n",
    "f1_gbc= f1_score(y_test, gbc_pred)\n",
    "print(\"f1_score :\", f1_gbc)\n",
    "\n",
    "f2_gbc = fbeta_score(y_test, gbc_pred, beta=2, average='binary')\n",
    "print(\"f2_score :\", f2_gbc)\n",
    "\n",
    "\n",
    "A_gbc= accuracy_score( y_test, gbc_pred)\n",
    "print(\"accuracy_score :\", A_gbc)\n",
    "\n",
    "acu_gbc = roc_auc_score(gbc_pred, y_test)\n",
    "print(\"ROC_AUC Score:\",acu_gbc)"
   ]
  },
  {
   "cell_type": "markdown",
   "id": "2018a92f",
   "metadata": {
    "id": "2018a92f"
   },
   "source": [
    "# Models comparison"
   ]
  },
  {
   "cell_type": "code",
   "execution_count": 95,
   "id": "13518611",
   "metadata": {
    "colab": {
     "base_uri": "https://localhost:8080/",
     "height": 269
    },
    "id": "13518611",
    "outputId": "1278d8df-6c23-48ba-b423-71aa18e7662c"
   },
   "outputs": [
    {
     "data": {
      "text/html": [
       "<div>\n",
       "<style scoped>\n",
       "    .dataframe tbody tr th:only-of-type {\n",
       "        vertical-align: middle;\n",
       "    }\n",
       "\n",
       "    .dataframe tbody tr th {\n",
       "        vertical-align: top;\n",
       "    }\n",
       "\n",
       "    .dataframe thead th {\n",
       "        text-align: right;\n",
       "    }\n",
       "</style>\n",
       "<table border=\"1\" class=\"dataframe\">\n",
       "  <thead>\n",
       "    <tr style=\"text-align: right;\">\n",
       "      <th></th>\n",
       "      <th>Accuracy</th>\n",
       "      <th>Recall</th>\n",
       "      <th>Precision</th>\n",
       "      <th>F1 Score</th>\n",
       "      <th>F2 Score</th>\n",
       "      <th>ROC AUC</th>\n",
       "      <th>Description</th>\n",
       "    </tr>\n",
       "  </thead>\n",
       "  <tbody>\n",
       "    <tr>\n",
       "      <th>Logistic Regression</th>\n",
       "      <td>0.754237</td>\n",
       "      <td>0.756098</td>\n",
       "      <td>0.620000</td>\n",
       "      <td>0.681319</td>\n",
       "      <td>0.724299</td>\n",
       "      <td>0.736471</td>\n",
       "      <td>Best Model</td>\n",
       "    </tr>\n",
       "    <tr>\n",
       "      <th>Random Forest</th>\n",
       "      <td>0.771186</td>\n",
       "      <td>0.682927</td>\n",
       "      <td>0.666667</td>\n",
       "      <td>0.674699</td>\n",
       "      <td>0.679612</td>\n",
       "      <td>0.747807</td>\n",
       "      <td></td>\n",
       "    </tr>\n",
       "    <tr>\n",
       "      <th>XGBoost</th>\n",
       "      <td>0.754237</td>\n",
       "      <td>0.682927</td>\n",
       "      <td>0.636364</td>\n",
       "      <td>0.658824</td>\n",
       "      <td>0.673077</td>\n",
       "      <td>0.730344</td>\n",
       "      <td></td>\n",
       "    </tr>\n",
       "    <tr>\n",
       "      <th>K Nearest Neighbors</th>\n",
       "      <td>0.669492</td>\n",
       "      <td>0.707317</td>\n",
       "      <td>0.517857</td>\n",
       "      <td>0.597938</td>\n",
       "      <td>0.659091</td>\n",
       "      <td>0.662154</td>\n",
       "      <td></td>\n",
       "    </tr>\n",
       "    <tr>\n",
       "      <th>Support Vector Machines</th>\n",
       "      <td>0.652542</td>\n",
       "      <td>0.000000</td>\n",
       "      <td>0.000000</td>\n",
       "      <td>0.000000</td>\n",
       "      <td>0.000000</td>\n",
       "      <td>0.500000</td>\n",
       "      <td></td>\n",
       "    </tr>\n",
       "    <tr>\n",
       "      <th>Decision Tree</th>\n",
       "      <td>0.644068</td>\n",
       "      <td>0.536585</td>\n",
       "      <td>0.488889</td>\n",
       "      <td>0.511628</td>\n",
       "      <td>0.526316</td>\n",
       "      <td>0.614307</td>\n",
       "      <td></td>\n",
       "    </tr>\n",
       "    <tr>\n",
       "      <th>Gradient Boosting</th>\n",
       "      <td>0.737288</td>\n",
       "      <td>0.756098</td>\n",
       "      <td>0.596154</td>\n",
       "      <td>0.666667</td>\n",
       "      <td>0.717593</td>\n",
       "      <td>0.722319</td>\n",
       "      <td></td>\n",
       "    </tr>\n",
       "  </tbody>\n",
       "</table>\n",
       "</div>"
      ],
      "text/plain": [
       "                         Accuracy    Recall  Precision  F1 Score  F2 Score  \\\n",
       "Logistic Regression      0.754237  0.756098   0.620000  0.681319  0.724299   \n",
       "Random Forest            0.771186  0.682927   0.666667  0.674699  0.679612   \n",
       "XGBoost                  0.754237  0.682927   0.636364  0.658824  0.673077   \n",
       "K Nearest Neighbors      0.669492  0.707317   0.517857  0.597938  0.659091   \n",
       "Support Vector Machines  0.652542  0.000000   0.000000  0.000000  0.000000   \n",
       "Decision Tree            0.644068  0.536585   0.488889  0.511628  0.526316   \n",
       "Gradient Boosting        0.737288  0.756098   0.596154  0.666667  0.717593   \n",
       "\n",
       "                          ROC AUC Description  \n",
       "Logistic Regression      0.736471  Best Model  \n",
       "Random Forest            0.747807              \n",
       "XGBoost                  0.730344              \n",
       "K Nearest Neighbors      0.662154              \n",
       "Support Vector Machines  0.500000              \n",
       "Decision Tree            0.614307              \n",
       "Gradient Boosting        0.722319              "
      ]
     },
     "execution_count": 95,
     "metadata": {},
     "output_type": "execute_result"
    }
   ],
   "source": [
    "compare_models = ['Logistic Regression', 'Random Forest', 'XGBoost', 'K Nearest Neighbors', 'Support Vector Machines', 'Decision Tree', 'Gradient Boosting']\n",
    "\n",
    "data = {'Accuracy': [A_lgt, A_rf, A_xg, A_knn, A_svc, A_dt, A_gbc],\n",
    "        'Recall': [r_lgt, r_rf, r_xg, r_knn, r_svc, r_dt, r_gbc],\n",
    "        'Precision': [p_lgt, p_rf, p_xg, p_knn, p_svc, p_dt, p_gbc],\n",
    "        'F1 Score': [f1_lgt, f1_rf, f1_xg, f1_knn, f1_svc, f1_dt, f1_gbc],\n",
    "        'F2 Score': [f2_lgt, f2_rf, f2_xg, f2_knn, f2_svc, f2_dt, f2_gbc],\n",
    "        'ROC AUC': [acu_lgt, acu_rf, acu_xg, acu_knn, acu_svc, acu_dt, acu_gbc],\n",
    "        'Description': ['' for _ in compare_models]}\n",
    "\n",
    "result = pd.DataFrame(data=data, index=compare_models)\n",
    "best_model = result['F1 Score'].idxmax()  # Get the index of the model with the highest F1 score\n",
    "result.at[best_model, 'Description'] = 'Best Model'  # Update the description for the best model\n",
    "result"
   ]
  },
  {
   "cell_type": "markdown",
   "id": "6db0163a",
   "metadata": {
    "id": "6db0163a"
   },
   "source": [
    "# k-Fold cross validation"
   ]
  },
  {
   "cell_type": "code",
   "execution_count": 96,
   "id": "d389b60a",
   "metadata": {
    "id": "d389b60a"
   },
   "outputs": [],
   "source": [
    "def kfold_cross_validation(model, model_name, X=X_train, y=y_train, n_splits=5, scoring='f1'):\n",
    "    \"\"\"\n",
    "    Perform k-fold cross-validation for a given model and store the results in a DataFrame.\n",
    "    \n",
    "    Args:\n",
    "        model: The model to be evaluated.\n",
    "        model_name: The name of the model.\n",
    "        X: The feature dataset.\n",
    "        y: The target variable.\n",
    "        n_splits: The number of folds for cross-validation.\n",
    "        scoring: The scoring metric used for evaluation.\n",
    "    \"\"\"\n",
    "    kf = KFold(n_splits=n_splits, shuffle=True)\n",
    "    scores = cross_val_score(model, X, y, cv=kf, scoring=scoring, error_score=\"raise\")\n",
    "    cv_score_mean = scores.mean()\n",
    "    cv_score_stdev = stdev(scores)\n",
    "    \n",
    "    global cross_validation_df\n",
    "    cross_validation_df = cross_validation_df.append({'Model': model_name, 'F1 Score': cv_score_mean}, ignore_index=True)"
   ]
  },
  {
   "cell_type": "code",
   "execution_count": 97,
   "id": "acd88ac5",
   "metadata": {
    "id": "acd88ac5"
   },
   "outputs": [],
   "source": [
    "# Create an empty DataFrame to store the results\n",
    "cross_validation_df = pd.DataFrame(columns=['Model', 'F1 Score'])"
   ]
  },
  {
   "cell_type": "markdown",
   "id": "44ca807a",
   "metadata": {
    "id": "44ca807a"
   },
   "source": [
    "### Repeat Cross Validation for all trained models"
   ]
  },
  {
   "cell_type": "code",
   "execution_count": 98,
   "id": "b3523d57",
   "metadata": {
    "id": "b3523d57"
   },
   "outputs": [],
   "source": [
    "kfold_cross_validation(lr, 'Logistic Regression')\n",
    "kfold_cross_validation(rf_model, 'Random Forest')\n",
    "kfold_cross_validation(xg_model, 'XGBoost')\n",
    "kfold_cross_validation(knn_model, 'K Nearest Neighbors')\n",
    "kfold_cross_validation(svc_model, 'Support Vector Machines')\n",
    "kfold_cross_validation(dtmodel, 'Decision Tree')\n",
    "kfold_cross_validation(gbc, 'Gradient Boosting')"
   ]
  },
  {
   "cell_type": "code",
   "execution_count": 99,
   "id": "1cf82e3b",
   "metadata": {
    "colab": {
     "base_uri": "https://localhost:8080/"
    },
    "id": "1cf82e3b",
    "outputId": "4fcb2722-f025-4507-b01e-eb9053b7272a"
   },
   "outputs": [
    {
     "ename": "TypeError",
     "evalue": "reduction operation 'argmax' not allowed for this dtype",
     "output_type": "error",
     "traceback": [
      "\u001b[0;31m---------------------------------------------------------------------------\u001b[0m",
      "\u001b[0;31mTypeError\u001b[0m                                 Traceback (most recent call last)",
      "Input \u001b[0;32mIn [99]\u001b[0m, in \u001b[0;36m<cell line: 2>\u001b[0;34m()\u001b[0m\n\u001b[1;32m      1\u001b[0m \u001b[38;5;66;03m#  Select the best model based on the highest F1 score\u001b[39;00m\n\u001b[0;32m----> 2\u001b[0m best_model \u001b[38;5;241m=\u001b[39m cross_validation_df\u001b[38;5;241m.\u001b[39mloc[\u001b[43mcross_validation_df\u001b[49m\u001b[43m[\u001b[49m\u001b[38;5;124;43m'\u001b[39;49m\u001b[38;5;124;43mF1 Score\u001b[39;49m\u001b[38;5;124;43m'\u001b[39;49m\u001b[43m]\u001b[49m\u001b[38;5;241;43m.\u001b[39;49m\u001b[43midxmax\u001b[49m\u001b[43m(\u001b[49m\u001b[43m)\u001b[49m]\n\u001b[1;32m      3\u001b[0m cross_validation_df\u001b[38;5;241m.\u001b[39mat[best_model\u001b[38;5;241m.\u001b[39mname, \u001b[38;5;124m'\u001b[39m\u001b[38;5;124mBest Model\u001b[39m\u001b[38;5;124m'\u001b[39m] \u001b[38;5;241m=\u001b[39m \u001b[38;5;28;01mTrue\u001b[39;00m\n\u001b[1;32m      5\u001b[0m \u001b[38;5;66;03m# Print the updated DataFrame\u001b[39;00m\n",
      "File \u001b[0;32m~/opt/anaconda3/lib/python3.9/site-packages/pandas/core/series.py:2404\u001b[0m, in \u001b[0;36mSeries.idxmax\u001b[0;34m(self, axis, skipna, *args, **kwargs)\u001b[0m\n\u001b[1;32m   2339\u001b[0m \u001b[38;5;28;01mdef\u001b[39;00m \u001b[38;5;21midxmax\u001b[39m(\u001b[38;5;28mself\u001b[39m, axis\u001b[38;5;241m=\u001b[39m\u001b[38;5;241m0\u001b[39m, skipna\u001b[38;5;241m=\u001b[39m\u001b[38;5;28;01mTrue\u001b[39;00m, \u001b[38;5;241m*\u001b[39margs, \u001b[38;5;241m*\u001b[39m\u001b[38;5;241m*\u001b[39mkwargs):\n\u001b[1;32m   2340\u001b[0m     \u001b[38;5;124;03m\"\"\"\u001b[39;00m\n\u001b[1;32m   2341\u001b[0m \u001b[38;5;124;03m    Return the row label of the maximum value.\u001b[39;00m\n\u001b[1;32m   2342\u001b[0m \n\u001b[0;32m   (...)\u001b[0m\n\u001b[1;32m   2402\u001b[0m \u001b[38;5;124;03m    nan\u001b[39;00m\n\u001b[1;32m   2403\u001b[0m \u001b[38;5;124;03m    \"\"\"\u001b[39;00m\n\u001b[0;32m-> 2404\u001b[0m     i \u001b[38;5;241m=\u001b[39m \u001b[38;5;28;43mself\u001b[39;49m\u001b[38;5;241;43m.\u001b[39;49m\u001b[43margmax\u001b[49m\u001b[43m(\u001b[49m\u001b[43maxis\u001b[49m\u001b[43m,\u001b[49m\u001b[43m \u001b[49m\u001b[43mskipna\u001b[49m\u001b[43m,\u001b[49m\u001b[43m \u001b[49m\u001b[38;5;241;43m*\u001b[39;49m\u001b[43margs\u001b[49m\u001b[43m,\u001b[49m\u001b[43m \u001b[49m\u001b[38;5;241;43m*\u001b[39;49m\u001b[38;5;241;43m*\u001b[39;49m\u001b[43mkwargs\u001b[49m\u001b[43m)\u001b[49m\n\u001b[1;32m   2405\u001b[0m     \u001b[38;5;28;01mif\u001b[39;00m i \u001b[38;5;241m==\u001b[39m \u001b[38;5;241m-\u001b[39m\u001b[38;5;241m1\u001b[39m:\n\u001b[1;32m   2406\u001b[0m         \u001b[38;5;28;01mreturn\u001b[39;00m np\u001b[38;5;241m.\u001b[39mnan\n",
      "File \u001b[0;32m~/opt/anaconda3/lib/python3.9/site-packages/pandas/core/base.py:657\u001b[0m, in \u001b[0;36mIndexOpsMixin.argmax\u001b[0;34m(self, axis, skipna, *args, **kwargs)\u001b[0m\n\u001b[1;32m    653\u001b[0m         \u001b[38;5;28;01mreturn\u001b[39;00m delegate\u001b[38;5;241m.\u001b[39margmax()\n\u001b[1;32m    654\u001b[0m \u001b[38;5;28;01melse\u001b[39;00m:\n\u001b[1;32m    655\u001b[0m     \u001b[38;5;66;03m# error: Incompatible return value type (got \"Union[int, ndarray]\", expected\u001b[39;00m\n\u001b[1;32m    656\u001b[0m     \u001b[38;5;66;03m# \"int\")\u001b[39;00m\n\u001b[0;32m--> 657\u001b[0m     \u001b[38;5;28;01mreturn\u001b[39;00m \u001b[43mnanops\u001b[49m\u001b[38;5;241;43m.\u001b[39;49m\u001b[43mnanargmax\u001b[49m\u001b[43m(\u001b[49m\u001b[43m  \u001b[49m\u001b[38;5;66;43;03m# type: ignore[return-value]\u001b[39;49;00m\n\u001b[1;32m    658\u001b[0m \u001b[43m        \u001b[49m\u001b[43mdelegate\u001b[49m\u001b[43m,\u001b[49m\u001b[43m \u001b[49m\u001b[43mskipna\u001b[49m\u001b[38;5;241;43m=\u001b[39;49m\u001b[43mskipna\u001b[49m\n\u001b[1;32m    659\u001b[0m \u001b[43m    \u001b[49m\u001b[43m)\u001b[49m\n",
      "File \u001b[0;32m~/opt/anaconda3/lib/python3.9/site-packages/pandas/core/nanops.py:88\u001b[0m, in \u001b[0;36mdisallow.__call__.<locals>._f\u001b[0;34m(*args, **kwargs)\u001b[0m\n\u001b[1;32m     86\u001b[0m \u001b[38;5;28;01mif\u001b[39;00m \u001b[38;5;28many\u001b[39m(\u001b[38;5;28mself\u001b[39m\u001b[38;5;241m.\u001b[39mcheck(obj) \u001b[38;5;28;01mfor\u001b[39;00m obj \u001b[38;5;129;01min\u001b[39;00m obj_iter):\n\u001b[1;32m     87\u001b[0m     f_name \u001b[38;5;241m=\u001b[39m f\u001b[38;5;241m.\u001b[39m\u001b[38;5;18m__name__\u001b[39m\u001b[38;5;241m.\u001b[39mreplace(\u001b[38;5;124m\"\u001b[39m\u001b[38;5;124mnan\u001b[39m\u001b[38;5;124m\"\u001b[39m, \u001b[38;5;124m\"\u001b[39m\u001b[38;5;124m\"\u001b[39m)\n\u001b[0;32m---> 88\u001b[0m     \u001b[38;5;28;01mraise\u001b[39;00m \u001b[38;5;167;01mTypeError\u001b[39;00m(\n\u001b[1;32m     89\u001b[0m         \u001b[38;5;124mf\u001b[39m\u001b[38;5;124m\"\u001b[39m\u001b[38;5;124mreduction operation \u001b[39m\u001b[38;5;124m'\u001b[39m\u001b[38;5;132;01m{\u001b[39;00mf_name\u001b[38;5;132;01m}\u001b[39;00m\u001b[38;5;124m'\u001b[39m\u001b[38;5;124m not allowed for this dtype\u001b[39m\u001b[38;5;124m\"\u001b[39m\n\u001b[1;32m     90\u001b[0m     )\n\u001b[1;32m     91\u001b[0m \u001b[38;5;28;01mtry\u001b[39;00m:\n\u001b[1;32m     92\u001b[0m     \u001b[38;5;28;01mwith\u001b[39;00m np\u001b[38;5;241m.\u001b[39merrstate(invalid\u001b[38;5;241m=\u001b[39m\u001b[38;5;124m\"\u001b[39m\u001b[38;5;124mignore\u001b[39m\u001b[38;5;124m\"\u001b[39m):\n",
      "\u001b[0;31mTypeError\u001b[0m: reduction operation 'argmax' not allowed for this dtype"
     ]
    }
   ],
   "source": [
    "#  Select the best model based on the highest F1 score\n",
    "best_model = cross_validation_df.loc[cross_validation_df['F1 Score'].idxmax()]\n",
    "cross_validation_df.at[best_model.name, 'Best Model'] = True\n",
    "\n",
    "# Print the updated DataFrame\n",
    "print(cross_validation_df)"
   ]
  },
  {
   "cell_type": "markdown",
   "id": "42dc0f86",
   "metadata": {
    "id": "42dc0f86"
   },
   "source": [
    "# Hyperparameters tuning "
   ]
  },
  {
   "cell_type": "markdown",
   "id": "743b8b57",
   "metadata": {
    "id": "743b8b57"
   },
   "source": [
    "## 2. RandomForest Classifier "
   ]
  },
  {
   "cell_type": "code",
   "execution_count": null,
   "id": "4192591c",
   "metadata": {
    "id": "4192591c"
   },
   "outputs": [],
   "source": [
    "# Number of trees in random forest\n",
    "n_estimators = [int(x) for x in np.linspace(start = 15, stop = 80, num = 10)]\n",
    "\n",
    "# Number of features to consider at every split\n",
    "max_features = ['auto', 'sqrt', 'log2']\n",
    "\n",
    "# maximum number of levels in tree\n",
    "max_depth = [2,4,10, None]\n",
    " \n",
    "# minimum number of samples required to split a node\n",
    "min_samples_split = [2,5]\n",
    "\n",
    "# minimum number of samples required at each leaf node\n",
    "min_samples_leaf = [1,2]\n",
    "\n",
    "# Method of selecting Samples for training each tree\n",
    "bootstrap = [True]"
   ]
  },
  {
   "cell_type": "code",
   "execution_count": null,
   "id": "fa48f274",
   "metadata": {
    "colab": {
     "base_uri": "https://localhost:8080/"
    },
    "id": "fa48f274",
    "outputId": "e57b67dc-9f0f-4cc3-b58e-93f3496947ae"
   },
   "outputs": [],
   "source": [
    "# create param grid\n",
    "\n",
    "param_grid = {'n_estimators':n_estimators,\n",
    "              'max_features':max_features,\n",
    "              'max_depth':max_depth,\n",
    "              'min_samples_split':min_samples_split,\n",
    "              'min_samples_leaf':min_samples_leaf,\n",
    "              'bootstrap':bootstrap}\n",
    "print(param_grid)"
   ]
  },
  {
   "cell_type": "code",
   "execution_count": null,
   "id": "055d5b63",
   "metadata": {
    "id": "055d5b63"
   },
   "outputs": [],
   "source": [
    "# make GridSearchCV object\n",
    "rf_Grid = GridSearchCV(estimator = rf_model, \n",
    "                       param_grid = param_grid, \n",
    "                       cv = 4, \n",
    "                       verbose = 2 , \n",
    "                       n_jobs = -1, \n",
    "                       scoring='f1',\n",
    "                       refit=True)"
   ]
  },
  {
   "cell_type": "code",
   "execution_count": null,
   "id": "k5hqwjZokGRr",
   "metadata": {
    "colab": {
     "base_uri": "https://localhost:8080/",
     "height": 135
    },
    "id": "k5hqwjZokGRr",
    "outputId": "3840bb4f-e258-4a66-a5c7-70644d413d75"
   },
   "outputs": [],
   "source": [
    "# Fit the GridSearchCV object to the data\n",
    "rf_Grid.fit(X_train,y_train)"
   ]
  },
  {
   "cell_type": "code",
   "execution_count": null,
   "id": "21ab8154",
   "metadata": {
    "colab": {
     "base_uri": "https://localhost:8080/"
    },
    "id": "21ab8154",
    "outputId": "40be7368-8fb2-4f71-a2e6-670b5149c90a"
   },
   "outputs": [],
   "source": [
    "# Get the best estimator and its score\n",
    "rf_tuned = rf_Grid.best_estimator_\n",
    "rf_Grid.best_score_"
   ]
  },
  {
   "cell_type": "code",
   "execution_count": null,
   "id": "b677e37f",
   "metadata": {
    "colab": {
     "base_uri": "https://localhost:8080/"
    },
    "id": "b677e37f",
    "outputId": "c8fc41a4-cc41-4a4a-f4ad-c1e12cdfdb18"
   },
   "outputs": [],
   "source": [
    "# Use the best estimator for predictions\n",
    "y_pred_grid = rf_tuned.predict(X_test)\n",
    "print(classification_report(y_pred_grid, y_test))"
   ]
  },
  {
   "cell_type": "markdown",
   "id": "60e666c6",
   "metadata": {
    "id": "60e666c6"
   },
   "source": [
    "##  7. Gradient Boosting Classifier (Best Model)"
   ]
  },
  {
   "cell_type": "code",
   "execution_count": null,
   "id": "1d19ac80",
   "metadata": {
    "id": "1d19ac80"
   },
   "outputs": [],
   "source": [
    "# Parameter grid for GBC\n",
    "gbc_param_grid = {\n",
    "    'n_estimators': [100, 200, 300],\n",
    "    'learning_rate': [0.1, 0.05, 0.01],\n",
    "    'max_depth': [3, 5, 7]\n",
    "}"
   ]
  },
  {
   "cell_type": "code",
   "execution_count": null,
   "id": "6c6938a9",
   "metadata": {
    "id": "6c6938a9"
   },
   "outputs": [],
   "source": [
    "gbc_Grid = GridSearchCV(\n",
    "    estimator=gbc,\n",
    "    param_grid=gbc_param_grid,\n",
    "    cv = 4, \n",
    "    scoring='f1',\n",
    "    refit=True\n",
    ")"
   ]
  },
  {
   "cell_type": "code",
   "execution_count": null,
   "id": "b046c944",
   "metadata": {
    "colab": {
     "base_uri": "https://localhost:8080/",
     "height": 118
    },
    "id": "b046c944",
    "outputId": "754a7280-d32b-4791-feaa-4a6c9436e2f0"
   },
   "outputs": [],
   "source": [
    "# Fit the GridSearchCV object to the data\n",
    "gbc_Grid.fit(X_train,y_train)"
   ]
  },
  {
   "cell_type": "code",
   "execution_count": null,
   "id": "p7R8Zr8uGViO",
   "metadata": {
    "colab": {
     "base_uri": "https://localhost:8080/"
    },
    "id": "p7R8Zr8uGViO",
    "outputId": "42d9cfbb-02fc-47cd-9488-42258bfc7419"
   },
   "outputs": [],
   "source": [
    "# Get the best estimator and its score\n",
    "gbc_tuned = gbc_Grid.best_estimator_\n",
    "gbc_Grid.best_score_"
   ]
  },
  {
   "cell_type": "code",
   "execution_count": null,
   "id": "93271331",
   "metadata": {
    "colab": {
     "base_uri": "https://localhost:8080/"
    },
    "id": "93271331",
    "outputId": "97854e20-d72d-4c6a-aeac-09b8cc5b76a9"
   },
   "outputs": [],
   "source": [
    "# Use the best estimator for predictions\n",
    "y_pred_grid = gbc_tuned.predict(X_test)\n",
    "print(classification_report(y_pred_grid, y_test))"
   ]
  },
  {
   "cell_type": "code",
   "execution_count": null,
   "id": "90807f7a",
   "metadata": {
    "id": "90807f7a"
   },
   "outputs": [],
   "source": [
    "with open('model.pkl', 'wb') as f:\n",
    "    pickle.dump(gbc_tuned, f)"
   ]
  },
  {
   "cell_type": "code",
   "execution_count": null,
   "id": "1a7fbd46",
   "metadata": {
    "id": "1a7fbd46"
   },
   "outputs": [],
   "source": [
    "with open('scaler.pkl', 'wb') as f:\n",
    "    pickle.dump(scaler, f)"
   ]
  }
 ],
 "metadata": {
  "accelerator": "GPU",
  "colab": {
   "gpuType": "T4",
   "provenance": [],
   "toc_visible": true
  },
  "kernelspec": {
   "display_name": "Python 3.10.6 64-bit",
   "language": "python",
   "name": "python3"
  },
  "language_info": {
   "codemirror_mode": {
    "name": "ipython",
    "version": 3
   },
   "file_extension": ".py",
   "mimetype": "text/x-python",
   "name": "python",
   "nbconvert_exporter": "python",
   "pygments_lexer": "ipython3",
   "version": "3.10.6"
  },
  "vscode": {
   "interpreter": {
    "hash": "7e1998ff7f8aa20ada591c520b972326324e5ea05489af9e422744c7c09f6dad"
   }
  }
 },
 "nbformat": 4,
 "nbformat_minor": 5
}
